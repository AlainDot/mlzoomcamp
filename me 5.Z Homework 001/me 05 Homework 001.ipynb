{
 "cells": [
  {
   "cell_type": "markdown",
   "id": "720f26d5",
   "metadata": {},
   "source": [
    "# me 05 Homework 001"
   ]
  },
  {
   "cell_type": "markdown",
   "id": "a819119a",
   "metadata": {},
   "source": [
    "### Install PipENV"
   ]
  },
  {
   "cell_type": "code",
   "execution_count": 1,
   "id": "eaa89abd",
   "metadata": {},
   "outputs": [
    {
     "name": "stdout",
     "output_type": "stream",
     "text": [
      "Python 3.9.13\n"
     ]
    }
   ],
   "source": [
    "!python --version"
   ]
  },
  {
   "cell_type": "code",
   "execution_count": 2,
   "id": "bdb17240",
   "metadata": {},
   "outputs": [
    {
     "data": {
      "text/plain": [
       "'C:\\\\Users\\\\alain\\\\miniconda3\\\\envs\\\\mlzc'"
      ]
     },
     "execution_count": 2,
     "metadata": {},
     "output_type": "execute_result"
    }
   ],
   "source": [
    "import os\n",
    "import sys\n",
    "os.path.dirname(sys.executable)"
   ]
  },
  {
   "cell_type": "code",
   "execution_count": 3,
   "id": "2a0f5362",
   "metadata": {},
   "outputs": [],
   "source": [
    "#!pip install pipenv"
   ]
  },
  {
   "cell_type": "code",
   "execution_count": 4,
   "id": "13b5050a",
   "metadata": {
    "scrolled": true
   },
   "outputs": [
    {
     "name": "stdout",
     "output_type": "stream",
     "text": [
      "pipenv, version 2022.7.4\n",
      "\n"
     ]
    }
   ],
   "source": [
    "!pipenv --version"
   ]
  },
  {
   "cell_type": "markdown",
   "id": "b1a3d88d",
   "metadata": {},
   "source": [
    "### Q1 = pipenv, version 2022.9.24"
   ]
  },
  {
   "cell_type": "markdown",
   "id": "f4294f2c",
   "metadata": {},
   "source": [
    "#  install Scikit-Learn version 1.0.2 (with pipenv)"
   ]
  },
  {
   "cell_type": "code",
   "execution_count": 33,
   "id": "ee9799b8",
   "metadata": {
    "scrolled": true
   },
   "outputs": [
    {
     "name": "stdout",
     "output_type": "stream",
     "text": [
      "C:\\Users\\alain\\Documents\\prv\\IT\\mlzc\\jupyter\n",
      "\n"
     ]
    }
   ],
   "source": [
    "!pipenv --where"
   ]
  },
  {
   "cell_type": "code",
   "execution_count": 37,
   "id": "ffec48c4",
   "metadata": {
    "scrolled": false
   },
   "outputs": [],
   "source": [
    "#!pipenv install scikit-learn==1.0.2"
   ]
  },
  {
   "cell_type": "code",
   "execution_count": 7,
   "id": "b30d0b69",
   "metadata": {
    "scrolled": true
   },
   "outputs": [
    {
     "name": "stdout",
     "output_type": "stream",
     "text": [
      "C:\\Users\\alain\\.virtualenvs\\jupyter-aSo0EjoE\n",
      "\n"
     ]
    }
   ],
   "source": [
    "!pipenv --venv"
   ]
  },
  {
   "cell_type": "code",
   "execution_count": 8,
   "id": "c44d6216",
   "metadata": {},
   "outputs": [
    {
     "name": "stdout",
     "output_type": "stream",
     "text": [
      "{\n",
      "    \"_meta\": {\n",
      "        \"hash\": {\n",
      "            \"sha256\": \"cde4ebbb92f751b179709139ec54dbff122291b60738db5d879459e3b8acea3d\"\n",
      "        },\n",
      "        \"pipfile-spec\": 6,\n",
      "        \"requires\": {\n",
      "            \"python_version\": \"3.9\"\n",
      "        },\n",
      "        \"sources\": [\n",
      "            {\n",
      "                \"name\": \"pypi\",\n",
      "                \"url\": \"https://pypi.org/simple\",\n",
      "                \"verify_ssl\": true\n",
      "            }\n",
      "        ]\n",
      "    },\n",
      "    \"default\": {\n",
      "        \"click\": {\n",
      "            \"hashes\": [\n",
      "                \"sha256:7682dc8afb30297001674575ea00d1814d808d6a36af415a82bd481d37ba7b8e\",\n",
      "                \"sha256:bb4d8133cb15a609f44e8213d9b391b0809795062913b383c62be0ee95b1db48\"\n",
      "            ],\n",
      "            \"markers\": \"python_version >= '3.7'\",\n",
      "            \"version\": \"==8.1.3\"\n",
      "        },\n",
      "        \"colorama\": {\n",
      "            \"hashes\": [\n",
      "                \"sha256:854bf444933e37f5824ae7bfc1e98d5bce2ebe4160d46b5edf346a89358e99da\",\n",
      "                \"sha256:e6c6b4334fc50988a639d9b98aa429a0b57da6e17b9a44f0451f930b6967b7a4\"\n",
      "            ],\n",
      "            \"markers\": \"platform_system == 'Windows'\",\n",
      "            \"version\": \"==0.4.5\"\n",
      "        },\n",
      "        \"flask\": {\n",
      "            \"hashes\": [\n",
      "                \"sha256:642c450d19c4ad482f96729bd2a8f6d32554aa1e231f4f6b4e7e5264b16cca2b\",\n",
      "                \"sha256:b9c46cc36662a7949f34b52d8ec7bb59c0d74ba08ba6cb9ce9adc1d8676d9526\"\n",
      "            ],\n",
      "            \"index\": \"pypi\",\n",
      "            \"version\": \"==2.2.2\"\n",
      "        },\n",
      "        \"importlib-metadata\": {\n",
      "            \"hashes\": [\n",
      "                \"sha256:da31db32b304314d044d3c12c79bd59e307889b287ad12ff387b3500835fc2ab\",\n",
      "                \"sha256:ddb0e35065e8938f867ed4928d0ae5bf2a53b7773871bfe6bcc7e4fcdc7dea43\"\n",
      "            ],\n",
      "            \"markers\": \"python_version < '3.10'\",\n",
      "            \"version\": \"==5.0.0\"\n",
      "        },\n",
      "        \"itsdangerous\": {\n",
      "            \"hashes\": [\n",
      "                \"sha256:2c2349112351b88699d8d4b6b075022c0808887cb7ad10069318a8b0bc88db44\",\n",
      "                \"sha256:5dbbc68b317e5e42f327f9021763545dc3fc3bfe22e6deb96aaf1fc38874156a\"\n",
      "            ],\n",
      "            \"markers\": \"python_version >= '3.7'\",\n",
      "            \"version\": \"==2.1.2\"\n",
      "        },\n",
      "        \"jinja2\": {\n",
      "            \"hashes\": [\n",
      "                \"sha256:31351a702a408a9e7595a8fc6150fc3f43bb6bf7e319770cbc0db9df9437e852\",\n",
      "                \"sha256:6088930bfe239f0e6710546ab9c19c9ef35e29792895fed6e6e31a023a182a61\"\n",
      "            ],\n",
      "            \"markers\": \"python_version >= '3.7'\",\n",
      "            \"version\": \"==3.1.2\"\n",
      "        },\n",
      "        \"joblib\": {\n",
      "            \"hashes\": [\n",
      "                \"sh\n"
     ]
    }
   ],
   "source": [
    "filLck = 'Pipfile.lock'\n",
    "\n",
    "with open(filLck) as fil:\n",
    "    filTxt = fil.read()\n",
    "    print(filTxt[:2500])  "
   ]
  },
  {
   "cell_type": "code",
   "execution_count": 9,
   "id": "8bae5ed9",
   "metadata": {},
   "outputs": [
    {
     "data": {
      "text/plain": [
       "9275"
      ]
     },
     "execution_count": 9,
     "metadata": {},
     "output_type": "execute_result"
    }
   ],
   "source": [
    "posBeg = filTxt.find('\"scikit-learn\"')\n",
    "posBeg"
   ]
  },
  {
   "cell_type": "code",
   "execution_count": 10,
   "id": "13d54723",
   "metadata": {},
   "outputs": [
    {
     "data": {
      "text/plain": [
       "9406"
      ]
     },
     "execution_count": 10,
     "metadata": {},
     "output_type": "execute_result"
    }
   ],
   "source": [
    "posEnd = filTxt.find(',' , posBeg)\n",
    "posEnd"
   ]
  },
  {
   "cell_type": "code",
   "execution_count": 11,
   "id": "22ea43e5",
   "metadata": {},
   "outputs": [
    {
     "name": "stdout",
     "output_type": "stream",
     "text": [
      "\"scikit-learn\": {\n",
      "            \"hashes\": [\n",
      "                \"sha256:08ef968f6b72033c16c479c966bf37ccd49b06ea91b765e1cc27afefe723920b\"\n"
     ]
    }
   ],
   "source": [
    "print(filTxt[posBeg:posEnd])"
   ]
  },
  {
   "cell_type": "markdown",
   "id": "6facf195",
   "metadata": {},
   "source": [
    "### Q2 = \"sha256:08ef968f6b72033c16c479c966bf37ccd49b06ea91b765e1cc27afefe723920b\""
   ]
  },
  {
   "cell_type": "markdown",
   "id": "d371bfa5",
   "metadata": {},
   "source": [
    "# Q3 : Pickle "
   ]
  },
  {
   "cell_type": "code",
   "execution_count": 12,
   "id": "7f53fa45",
   "metadata": {},
   "outputs": [],
   "source": [
    "import pandas as pd\n",
    "import numpy as np\n",
    "\n",
    "from sklearn.model_selection import train_test_split\n",
    "from sklearn.model_selection import KFold\n",
    "\n",
    "from sklearn.feature_extraction import DictVectorizer\n",
    "from sklearn.linear_model import LogisticRegression\n",
    "from sklearn.metrics import roc_auc_score"
   ]
  },
  {
   "cell_type": "code",
   "execution_count": 13,
   "id": "6ca41214",
   "metadata": {},
   "outputs": [],
   "source": [
    "import pickle"
   ]
  },
  {
   "cell_type": "code",
   "execution_count": 14,
   "id": "aaa77ff1",
   "metadata": {},
   "outputs": [
    {
     "name": "stderr",
     "output_type": "stream",
     "text": [
      "C:\\Users\\alain\\miniconda3\\envs\\mlzc\\lib\\site-packages\\sklearn\\base.py:329: UserWarning: Trying to unpickle estimator DictVectorizer from version 1.0.2 when using version 1.1.1. This might lead to breaking code or invalid results. Use at your own risk. For more info please refer to:\n",
      "https://scikit-learn.org/stable/model_persistence.html#security-maintainability-limitations\n",
      "  warnings.warn(\n"
     ]
    },
    {
     "data": {
      "text/html": [
       "<style>#sk-container-id-1 {color: black;background-color: white;}#sk-container-id-1 pre{padding: 0;}#sk-container-id-1 div.sk-toggleable {background-color: white;}#sk-container-id-1 label.sk-toggleable__label {cursor: pointer;display: block;width: 100%;margin-bottom: 0;padding: 0.3em;box-sizing: border-box;text-align: center;}#sk-container-id-1 label.sk-toggleable__label-arrow:before {content: \"▸\";float: left;margin-right: 0.25em;color: #696969;}#sk-container-id-1 label.sk-toggleable__label-arrow:hover:before {color: black;}#sk-container-id-1 div.sk-estimator:hover label.sk-toggleable__label-arrow:before {color: black;}#sk-container-id-1 div.sk-toggleable__content {max-height: 0;max-width: 0;overflow: hidden;text-align: left;background-color: #f0f8ff;}#sk-container-id-1 div.sk-toggleable__content pre {margin: 0.2em;color: black;border-radius: 0.25em;background-color: #f0f8ff;}#sk-container-id-1 input.sk-toggleable__control:checked~div.sk-toggleable__content {max-height: 200px;max-width: 100%;overflow: auto;}#sk-container-id-1 input.sk-toggleable__control:checked~label.sk-toggleable__label-arrow:before {content: \"▾\";}#sk-container-id-1 div.sk-estimator input.sk-toggleable__control:checked~label.sk-toggleable__label {background-color: #d4ebff;}#sk-container-id-1 div.sk-label input.sk-toggleable__control:checked~label.sk-toggleable__label {background-color: #d4ebff;}#sk-container-id-1 input.sk-hidden--visually {border: 0;clip: rect(1px 1px 1px 1px);clip: rect(1px, 1px, 1px, 1px);height: 1px;margin: -1px;overflow: hidden;padding: 0;position: absolute;width: 1px;}#sk-container-id-1 div.sk-estimator {font-family: monospace;background-color: #f0f8ff;border: 1px dotted black;border-radius: 0.25em;box-sizing: border-box;margin-bottom: 0.5em;}#sk-container-id-1 div.sk-estimator:hover {background-color: #d4ebff;}#sk-container-id-1 div.sk-parallel-item::after {content: \"\";width: 100%;border-bottom: 1px solid gray;flex-grow: 1;}#sk-container-id-1 div.sk-label:hover label.sk-toggleable__label {background-color: #d4ebff;}#sk-container-id-1 div.sk-serial::before {content: \"\";position: absolute;border-left: 1px solid gray;box-sizing: border-box;top: 0;bottom: 0;left: 50%;z-index: 0;}#sk-container-id-1 div.sk-serial {display: flex;flex-direction: column;align-items: center;background-color: white;padding-right: 0.2em;padding-left: 0.2em;position: relative;}#sk-container-id-1 div.sk-item {position: relative;z-index: 1;}#sk-container-id-1 div.sk-parallel {display: flex;align-items: stretch;justify-content: center;background-color: white;position: relative;}#sk-container-id-1 div.sk-item::before, #sk-container-id-1 div.sk-parallel-item::before {content: \"\";position: absolute;border-left: 1px solid gray;box-sizing: border-box;top: 0;bottom: 0;left: 50%;z-index: -1;}#sk-container-id-1 div.sk-parallel-item {display: flex;flex-direction: column;z-index: 1;position: relative;background-color: white;}#sk-container-id-1 div.sk-parallel-item:first-child::after {align-self: flex-end;width: 50%;}#sk-container-id-1 div.sk-parallel-item:last-child::after {align-self: flex-start;width: 50%;}#sk-container-id-1 div.sk-parallel-item:only-child::after {width: 0;}#sk-container-id-1 div.sk-dashed-wrapped {border: 1px dashed gray;margin: 0 0.4em 0.5em 0.4em;box-sizing: border-box;padding-bottom: 0.4em;background-color: white;}#sk-container-id-1 div.sk-label label {font-family: monospace;font-weight: bold;display: inline-block;line-height: 1.2em;}#sk-container-id-1 div.sk-label-container {text-align: center;}#sk-container-id-1 div.sk-container {/* jupyter's `normalize.less` sets `[hidden] { display: none; }` but bootstrap.min.css set `[hidden] { display: none !important; }` so we also need the `!important` here to be able to override the default hidden behavior on the sphinx rendered scikit-learn.org. See: https://github.com/scikit-learn/scikit-learn/issues/21755 */display: inline-block !important;position: relative;}#sk-container-id-1 div.sk-text-repr-fallback {display: none;}</style><div id=\"sk-container-id-1\" class=\"sk-top-container\"><div class=\"sk-text-repr-fallback\"><pre>DictVectorizer(sparse=False)</pre><b>In a Jupyter environment, please rerun this cell to show the HTML representation or trust the notebook. <br />On GitHub, the HTML representation is unable to render, please try loading this page with nbviewer.org.</b></div><div class=\"sk-container\" hidden><div class=\"sk-item\"><div class=\"sk-estimator sk-toggleable\"><input class=\"sk-toggleable__control sk-hidden--visually\" id=\"sk-estimator-id-1\" type=\"checkbox\" checked><label for=\"sk-estimator-id-1\" class=\"sk-toggleable__label sk-toggleable__label-arrow\">DictVectorizer</label><div class=\"sk-toggleable__content\"><pre>DictVectorizer(sparse=False)</pre></div></div></div></div></div>"
      ],
      "text/plain": [
       "DictVectorizer(sparse=False)"
      ]
     },
     "execution_count": 14,
     "metadata": {},
     "output_type": "execute_result"
    }
   ],
   "source": [
    "# re-Load dicVectorizer\n",
    "filDvt = 'dv.bin'\n",
    "with open(filDvt, 'rb') as fil: \n",
    "    dvt = pickle.load(fil)\n",
    "dvt"
   ]
  },
  {
   "cell_type": "code",
   "execution_count": 15,
   "id": "e5dc2ff0",
   "metadata": {},
   "outputs": [
    {
     "name": "stderr",
     "output_type": "stream",
     "text": [
      "C:\\Users\\alain\\miniconda3\\envs\\mlzc\\lib\\site-packages\\sklearn\\base.py:329: UserWarning: Trying to unpickle estimator LogisticRegression from version 1.0.2 when using version 1.1.1. This might lead to breaking code or invalid results. Use at your own risk. For more info please refer to:\n",
      "https://scikit-learn.org/stable/model_persistence.html#security-maintainability-limitations\n",
      "  warnings.warn(\n"
     ]
    },
    {
     "data": {
      "text/html": [
       "<style>#sk-container-id-2 {color: black;background-color: white;}#sk-container-id-2 pre{padding: 0;}#sk-container-id-2 div.sk-toggleable {background-color: white;}#sk-container-id-2 label.sk-toggleable__label {cursor: pointer;display: block;width: 100%;margin-bottom: 0;padding: 0.3em;box-sizing: border-box;text-align: center;}#sk-container-id-2 label.sk-toggleable__label-arrow:before {content: \"▸\";float: left;margin-right: 0.25em;color: #696969;}#sk-container-id-2 label.sk-toggleable__label-arrow:hover:before {color: black;}#sk-container-id-2 div.sk-estimator:hover label.sk-toggleable__label-arrow:before {color: black;}#sk-container-id-2 div.sk-toggleable__content {max-height: 0;max-width: 0;overflow: hidden;text-align: left;background-color: #f0f8ff;}#sk-container-id-2 div.sk-toggleable__content pre {margin: 0.2em;color: black;border-radius: 0.25em;background-color: #f0f8ff;}#sk-container-id-2 input.sk-toggleable__control:checked~div.sk-toggleable__content {max-height: 200px;max-width: 100%;overflow: auto;}#sk-container-id-2 input.sk-toggleable__control:checked~label.sk-toggleable__label-arrow:before {content: \"▾\";}#sk-container-id-2 div.sk-estimator input.sk-toggleable__control:checked~label.sk-toggleable__label {background-color: #d4ebff;}#sk-container-id-2 div.sk-label input.sk-toggleable__control:checked~label.sk-toggleable__label {background-color: #d4ebff;}#sk-container-id-2 input.sk-hidden--visually {border: 0;clip: rect(1px 1px 1px 1px);clip: rect(1px, 1px, 1px, 1px);height: 1px;margin: -1px;overflow: hidden;padding: 0;position: absolute;width: 1px;}#sk-container-id-2 div.sk-estimator {font-family: monospace;background-color: #f0f8ff;border: 1px dotted black;border-radius: 0.25em;box-sizing: border-box;margin-bottom: 0.5em;}#sk-container-id-2 div.sk-estimator:hover {background-color: #d4ebff;}#sk-container-id-2 div.sk-parallel-item::after {content: \"\";width: 100%;border-bottom: 1px solid gray;flex-grow: 1;}#sk-container-id-2 div.sk-label:hover label.sk-toggleable__label {background-color: #d4ebff;}#sk-container-id-2 div.sk-serial::before {content: \"\";position: absolute;border-left: 1px solid gray;box-sizing: border-box;top: 0;bottom: 0;left: 50%;z-index: 0;}#sk-container-id-2 div.sk-serial {display: flex;flex-direction: column;align-items: center;background-color: white;padding-right: 0.2em;padding-left: 0.2em;position: relative;}#sk-container-id-2 div.sk-item {position: relative;z-index: 1;}#sk-container-id-2 div.sk-parallel {display: flex;align-items: stretch;justify-content: center;background-color: white;position: relative;}#sk-container-id-2 div.sk-item::before, #sk-container-id-2 div.sk-parallel-item::before {content: \"\";position: absolute;border-left: 1px solid gray;box-sizing: border-box;top: 0;bottom: 0;left: 50%;z-index: -1;}#sk-container-id-2 div.sk-parallel-item {display: flex;flex-direction: column;z-index: 1;position: relative;background-color: white;}#sk-container-id-2 div.sk-parallel-item:first-child::after {align-self: flex-end;width: 50%;}#sk-container-id-2 div.sk-parallel-item:last-child::after {align-self: flex-start;width: 50%;}#sk-container-id-2 div.sk-parallel-item:only-child::after {width: 0;}#sk-container-id-2 div.sk-dashed-wrapped {border: 1px dashed gray;margin: 0 0.4em 0.5em 0.4em;box-sizing: border-box;padding-bottom: 0.4em;background-color: white;}#sk-container-id-2 div.sk-label label {font-family: monospace;font-weight: bold;display: inline-block;line-height: 1.2em;}#sk-container-id-2 div.sk-label-container {text-align: center;}#sk-container-id-2 div.sk-container {/* jupyter's `normalize.less` sets `[hidden] { display: none; }` but bootstrap.min.css set `[hidden] { display: none !important; }` so we also need the `!important` here to be able to override the default hidden behavior on the sphinx rendered scikit-learn.org. See: https://github.com/scikit-learn/scikit-learn/issues/21755 */display: inline-block !important;position: relative;}#sk-container-id-2 div.sk-text-repr-fallback {display: none;}</style><div id=\"sk-container-id-2\" class=\"sk-top-container\"><div class=\"sk-text-repr-fallback\"><pre>LogisticRegression(solver=&#x27;liblinear&#x27;)</pre><b>In a Jupyter environment, please rerun this cell to show the HTML representation or trust the notebook. <br />On GitHub, the HTML representation is unable to render, please try loading this page with nbviewer.org.</b></div><div class=\"sk-container\" hidden><div class=\"sk-item\"><div class=\"sk-estimator sk-toggleable\"><input class=\"sk-toggleable__control sk-hidden--visually\" id=\"sk-estimator-id-2\" type=\"checkbox\" checked><label for=\"sk-estimator-id-2\" class=\"sk-toggleable__label sk-toggleable__label-arrow\">LogisticRegression</label><div class=\"sk-toggleable__content\"><pre>LogisticRegression(solver=&#x27;liblinear&#x27;)</pre></div></div></div></div></div>"
      ],
      "text/plain": [
       "LogisticRegression(solver='liblinear')"
      ]
     },
     "execution_count": 15,
     "metadata": {},
     "output_type": "execute_result"
    }
   ],
   "source": [
    "# re-Load Model\n",
    "filMod = 'model1.bin'\n",
    "with open(filMod, 'rb') as fil: \n",
    "    modLor = pickle.load(fil)\n",
    "modLor"
   ]
  },
  {
   "cell_type": "code",
   "execution_count": 16,
   "id": "006c9396",
   "metadata": {},
   "outputs": [
    {
     "data": {
      "text/plain": [
       "{'reports': 0, 'share': 0.001694, 'expenditure': 0.12, 'owner': 'yes'}"
      ]
     },
     "execution_count": 16,
     "metadata": {},
     "output_type": "execute_result"
    }
   ],
   "source": [
    "dicCli = {\"reports\": 0, \"share\": 0.001694, \"expenditure\": 0.12, \"owner\": \"yes\"}\n",
    "dicCli"
   ]
  },
  {
   "cell_type": "code",
   "execution_count": 17,
   "id": "37cca293",
   "metadata": {},
   "outputs": [
    {
     "data": {
      "text/plain": [
       "array([[0.12    , 0.      , 1.      , 0.      , 0.001694]])"
      ]
     },
     "execution_count": 17,
     "metadata": {},
     "output_type": "execute_result"
    }
   ],
   "source": [
    "X_Cli = dvt.transform([dicCli])\n",
    "X_Cli"
   ]
  },
  {
   "cell_type": "code",
   "execution_count": 18,
   "id": "402a413a",
   "metadata": {},
   "outputs": [
    {
     "data": {
      "text/plain": [
       "0.162"
      ]
     },
     "execution_count": 18,
     "metadata": {},
     "output_type": "execute_result"
    }
   ],
   "source": [
    "y_prdCli = modLor.predict_proba(X_Cli)[0, 1]\n",
    "y_prdCli.round(3)"
   ]
  },
  {
   "cell_type": "markdown",
   "id": "2f28ae8f",
   "metadata": {},
   "source": [
    "# Q3 = 0.162"
   ]
  },
  {
   "cell_type": "markdown",
   "id": "ed3d652c",
   "metadata": {},
   "source": [
    "# Q4 Flask"
   ]
  },
  {
   "cell_type": "code",
   "execution_count": 46,
   "id": "faa26efe",
   "metadata": {},
   "outputs": [],
   "source": [
    "#!pip install flask"
   ]
  },
  {
   "cell_type": "code",
   "execution_count": 20,
   "id": "7fdf2614",
   "metadata": {},
   "outputs": [],
   "source": [
    "from flask import Flask"
   ]
  },
  {
   "cell_type": "markdown",
   "id": "30b11101",
   "metadata": {},
   "source": [
    "# Test install with \"coucou\" application"
   ]
  },
  {
   "cell_type": "markdown",
   "id": "b994f77b",
   "metadata": {},
   "source": [
    "<div class=\"alert alert-block alert-danger\">\n",
    "<b>Not working:</b> Seems running Flask inside Jupyter is not working.\n",
    "<p>I had to go the the virtual env (using miniconda sheel) and run it as\n",
    "<p><code>> python coucou.py</code>  \n",
    "<p>from there.\n",
    "</div>"
   ]
  },
  {
   "cell_type": "code",
   "execution_count": 21,
   "id": "dc66eb6c",
   "metadata": {
    "scrolled": true
   },
   "outputs": [],
   "source": [
    "# app = Flask('coucou')\n",
    "\n",
    "# @app.route('/coucou', methods=['GET'])\n",
    "# def coucou():\n",
    "#     return \"Flask say COUCOU to you\"\n",
    "\n",
    "# if __name__ == \"__main__\":\n",
    "#     app.run(debug=True, host='0.0.0.0', port=9696)"
   ]
  },
  {
   "cell_type": "markdown",
   "id": "b793cf32",
   "metadata": {},
   "source": [
    "### Test de \"coucou.py\"\n"
   ]
  },
  {
   "cell_type": "code",
   "execution_count": 22,
   "id": "90489afe",
   "metadata": {},
   "outputs": [],
   "source": [
    "import requests"
   ]
  },
  {
   "cell_type": "code",
   "execution_count": 41,
   "id": "63eff99c",
   "metadata": {},
   "outputs": [],
   "source": [
    "strUrl = 'http://localhost:9696/coucou'"
   ]
  },
  {
   "cell_type": "code",
   "execution_count": 42,
   "id": "65a01f46",
   "metadata": {},
   "outputs": [],
   "source": [
    "resGet = requests.get(strUrl)"
   ]
  },
  {
   "cell_type": "code",
   "execution_count": 43,
   "id": "788dce8b",
   "metadata": {},
   "outputs": [
    {
     "name": "stdout",
     "output_type": "stream",
     "text": [
      "> resGet.status_code = 200\n",
      "> resGet.content     = b'Flask say COUCOU to you'\n",
      "> resGet.encoding    = utf-8\n",
      "> resGet.headers     = {'Server': 'Werkzeug/2.2.2 Python/3.9.13', 'Date': 'Thu, 06 Oct 2022 14:57:17 GMT', 'Content-Type': 'text/html; charset=utf-8', 'Content-Length': '23', 'Connection': 'close'}\n",
      "> resGet.text        = Flask say COUCOU to you\n"
     ]
    }
   ],
   "source": [
    "print('> resGet.status_code =' , resGet.status_code )\n",
    "print('> resGet.content     =' , resGet.content )\n",
    "print('> resGet.encoding    =' , resGet.encoding )\n",
    "print('> resGet.headers     =' , resGet.headers )\n",
    "print('> resGet.text        =' , resGet.text )"
   ]
  },
  {
   "cell_type": "markdown",
   "id": "f145ba47",
   "metadata": {},
   "source": [
    "# Q4: prediction"
   ]
  },
  {
   "cell_type": "code",
   "execution_count": 1,
   "id": "fd54348f",
   "metadata": {},
   "outputs": [],
   "source": [
    "import requests\n",
    "import json"
   ]
  },
  {
   "cell_type": "code",
   "execution_count": 4,
   "id": "ed39492d",
   "metadata": {},
   "outputs": [],
   "source": [
    "\"\"\"customer =  {\"reports\": 0, \n",
    "             \"share\": 0.001694, \n",
    "             \"expenditure\": 0.12, \n",
    "             \"owner\": \"yes\"}\n",
    "\"\"\"\n",
    "customer =  {\"reports\": 0,\n",
    "             \"share\": 0.245, \n",
    "             \"expenditure\": 3.438, \n",
    "             \"owner\": \"yes\"}"
   ]
  },
  {
   "cell_type": "code",
   "execution_count": 5,
   "id": "afea4c63",
   "metadata": {},
   "outputs": [
    {
     "name": "stdout",
     "output_type": "stream",
     "text": [
      "{\n",
      "  \"card\": true,\n",
      "  \"card_probability\": 0.9282218018527452\n",
      "}\n"
     ]
    }
   ],
   "source": [
    "url = 'http://localhost:9696/predict'\n",
    "response = requests.post(url, json=customer)\n",
    "result = response.json()\n",
    "\n",
    "print(json.dumps(result, indent=2))"
   ]
  },
  {
   "cell_type": "markdown",
   "id": "b902c47a",
   "metadata": {},
   "source": [
    "# Q4 = 0.9282218018527452\n",
    "<code>\n",
    "{\n",
    "  \"card\": true,\n",
    "  \"card_probability\": 0.9282218018527452\n",
    "}"
   ]
  },
  {
   "attachments": {
    "image.png": {
     "image/png": "[encoded data removed]"
    }
   },
   "cell_type": "markdown",
   "id": "e727c8f1",
   "metadata": {},
   "source": [
    "### Run with waitress-serve\n",
    "<code>\n",
    "> conda activate mlzc  (If conda !!!!)\n",
    "> pipenv shell\n",
    "> waitress-serve --listen=0.0.0.0:9696 predict:app\n",
    "</code>\n",
    "\n",
    "![image.png](attachment:image.png)"
   ]
  },
  {
   "cell_type": "markdown",
   "id": "bdf57e9a",
   "metadata": {},
   "source": [
    "# Q5: Docker and image"
   ]
  },
  {
   "attachments": {
    "image.png": {
     "image/png": "[encoded data removed]"
    }
   },
   "cell_type": "markdown",
   "id": "90f754cd",
   "metadata": {},
   "source": [
    "![image.png](attachment:image.png)"
   ]
  },
  {
   "cell_type": "markdown",
   "id": "4e26c860",
   "metadata": {},
   "source": [
    "### Q5  Size = 124.69 MB"
   ]
  },
  {
   "cell_type": "markdown",
   "id": "4c68f5a1",
   "metadata": {},
   "source": [
    "# Q6: Docker"
   ]
  },
  {
   "cell_type": "markdown",
   "id": "ea3adeca",
   "metadata": {},
   "source": [
    "<div class=\"alert alert-block alert-danger\">\n",
    "<p>Modified filename of model in predict.py : model*1* -> model*2*\n",
    "</div>"
   ]
  },
  {
   "cell_type": "markdown",
   "id": "f901dac0",
   "metadata": {},
   "source": [
    "In Notepad: File name must be ***Dockerfile*** (no extension)"
   ]
  },
  {
   "cell_type": "markdown",
   "id": "1a39386d",
   "metadata": {},
   "source": [
    "```\n",
    "FROM svizor/zoomcamp-model:3.9.12-slim\n",
    "\n",
    "RUN pip install pipenv\n",
    "COPY [\"Pipfile\", \"Pipfile.lock\", \"./\"]\n",
    "RUN pipenv install --system --deploy\n",
    "\n",
    "COPY [\"predict.py\" , \"./\"]\n",
    "\n",
    "EXPOSE 9696\n",
    "\n",
    "ENTRYPOINT [\"waitress-serve\", \"--listen=0.0.0.0:9696\", \"predict:app\"]   \n",
    "```"
   ]
  },
  {
   "cell_type": "markdown",
   "id": "89677f4e",
   "metadata": {},
   "source": [
    "<div class=\"alert alert-block alert-danger\">\n",
    "<p>Recreated a clean new python with clean Env WITHOUT conda !!!\n",
    "<p><b>C:\\Users\\alain\\Documents\\prv\\IT\\mlzc\\ProNoCnd    \n",
    "</div>"
   ]
  },
  {
   "cell_type": "markdown",
   "id": "5417840c",
   "metadata": {},
   "source": [
    "In Win CMD:\n",
    "\n",
    "<code>\n",
    "> cd C:\\Users\\alain\\Documents\\prv\\IT\\mlzc\\ProNoCnd\n",
    "> docker build -t card-prediction-alain .\n",
    "> docker run -it -p 9696:9696 card-prediction-alain:latest    \n",
    "    \n",
    "</code>"
   ]
  },
  {
   "attachments": {
    "image.png": {
     "image/png": "[encoded data removed]"
    }
   },
   "cell_type": "markdown",
   "id": "257037eb",
   "metadata": {},
   "source": [
    "![image.png](attachment:image.png)"
   ]
  },
  {
   "cell_type": "markdown",
   "id": "7e71e6c4",
   "metadata": {},
   "source": [
    "### python \n",
    "> test_predict.py (in pipenv)"
   ]
  },
  {
   "attachments": {
    "image.png": {
     "image/png": "[encoded data removed]"
    }
   },
   "cell_type": "markdown",
   "id": "8a27cca5",
   "metadata": {},
   "source": [
    "![image.png](attachment:image.png)"
   ]
  },
  {
   "cell_type": "markdown",
   "id": "a913e411",
   "metadata": {},
   "source": [
    "## Q6 = 0.76926"
   ]
  },
  {
   "cell_type": "code",
   "execution_count": null,
   "id": "4a04722c",
   "metadata": {},
   "outputs": [],
   "source": []
  }
 ],
 "metadata": {
  "kernelspec": {
   "display_name": "Python 3 (ipykernel)",
   "language": "python",
   "name": "python3"
  },
  "language_info": {
   "codemirror_mode": {
    "name": "ipython",
    "version": 3
   },
   "file_extension": ".py",
   "mimetype": "text/x-python",
   "name": "python",
   "nbconvert_exporter": "python",
   "pygments_lexer": "ipython3",
   "version": "3.9.13"
  }
 },
 "nbformat": 4,
 "nbformat_minor": 5
}
