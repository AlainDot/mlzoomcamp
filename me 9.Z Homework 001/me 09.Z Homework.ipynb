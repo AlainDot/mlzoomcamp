{
 "cells": [
  {
   "cell_type": "markdown",
   "id": "4b2e0cd9",
   "metadata": {},
   "source": [
    "# me 09.Z Homework\n",
    "https://github.com/alexeygrigorev/mlbookcamp-code/blob/master/course-zoomcamp/cohorts/2022/09-serverless/homework.md"
   ]
  },
  {
   "cell_type": "markdown",
   "id": "66363372",
   "metadata": {},
   "source": [
    "## Get model \n",
    "Model :\n",
    "https://github.com/SVizor42/ML_Zoomcamp/releases/download/dino-dragon-model/dino_dragon_10_0.899.h5\n",
    "\n",
    "Downloaded manually"
   ]
  },
  {
   "cell_type": "code",
   "execution_count": 7,
   "id": "d7707455",
   "metadata": {},
   "outputs": [
    {
     "name": "stdout",
     "output_type": "stream",
     "text": [
      " Volume in drive C has no label.\n",
      " Volume Serial Number is E8A5-BC16\n",
      "\n",
      " Directory of C:\\Users\\alain\\Documents\\prv\\IT\\mlzc-cnn\n",
      "\n",
      "22/11/2022  12:28        89,759,168 dino_dragon_10_0.899.h5\n",
      "               1 File(s)     89,759,168 bytes\n",
      "               0 Dir(s)  87,346,823,168 bytes free\n"
     ]
    }
   ],
   "source": [
    "!dir dino_dragon_10_0.899.h5"
   ]
  },
  {
   "cell_type": "markdown",
   "id": "70e94a42",
   "metadata": {},
   "source": [
    "## Convert model to TF-Lite"
   ]
  },
  {
   "cell_type": "code",
   "execution_count": 33,
   "id": "b985e6bd",
   "metadata": {},
   "outputs": [],
   "source": [
    "import numpy as npy"
   ]
  },
  {
   "cell_type": "code",
   "execution_count": 8,
   "id": "a912ba03",
   "metadata": {},
   "outputs": [
    {
     "data": {
      "text/plain": [
       "'2.11.0'"
      ]
     },
     "execution_count": 8,
     "metadata": {},
     "output_type": "execute_result"
    }
   ],
   "source": [
    "import tensorflow as tf\n",
    "from tensorflow import keras\n",
    "tf.__version__"
   ]
  },
  {
   "cell_type": "code",
   "execution_count": 9,
   "id": "81fd4269",
   "metadata": {},
   "outputs": [
    {
     "data": {
      "text/plain": [
       "('dino_dragon_10_0.899.h5', 'dino_dragon_10_0.899_tflite.h5')"
      ]
     },
     "execution_count": 9,
     "metadata": {},
     "output_type": "execute_result"
    }
   ],
   "source": [
    "strFil = 'dino_dragon_10_0.899'\n",
    "strFilInp = strFil + '.h5'\n",
    "strFilOut = strFil + '_tflite.h5'\n",
    "strFilInp , strFilOut"
   ]
  },
  {
   "cell_type": "code",
   "execution_count": 10,
   "id": "feed2894",
   "metadata": {},
   "outputs": [],
   "source": [
    "model = keras.models.load_model(strFilInp)"
   ]
  },
  {
   "cell_type": "code",
   "execution_count": 11,
   "id": "281a7fd7",
   "metadata": {},
   "outputs": [
    {
     "name": "stderr",
     "output_type": "stream",
     "text": [
      "WARNING:absl:Found untraced functions such as _jit_compiled_convolution_op while saving (showing 1 of 1). These functions will not be directly callable after loading.\n"
     ]
    },
    {
     "name": "stdout",
     "output_type": "stream",
     "text": [
      "INFO:tensorflow:Assets written to: C:\\Users\\alain\\AppData\\Local\\Temp\\tmp09kcbzw5\\assets\n"
     ]
    },
    {
     "name": "stderr",
     "output_type": "stream",
     "text": [
      "INFO:tensorflow:Assets written to: C:\\Users\\alain\\AppData\\Local\\Temp\\tmp09kcbzw5\\assets\n"
     ]
    }
   ],
   "source": [
    "converter = tf.lite.TFLiteConverter.from_keras_model(model)\n",
    "tflite_model = converter.convert()"
   ]
  },
  {
   "cell_type": "code",
   "execution_count": 12,
   "id": "07d57c0c",
   "metadata": {},
   "outputs": [],
   "source": [
    "with tf.io.gfile.GFile(strFilOut, 'wb') as filOut:\n",
    "    filOut.write(tflite_model)"
   ]
  },
  {
   "cell_type": "code",
   "execution_count": 13,
   "id": "c7c9624c",
   "metadata": {},
   "outputs": [
    {
     "name": "stdout",
     "output_type": "stream",
     "text": [
      " Volume in drive C has no label.\n",
      " Volume Serial Number is E8A5-BC16\n",
      "\n",
      " Directory of C:\\Users\\alain\\Documents\\prv\\IT\\mlzc-cnn\n",
      "\n",
      "22/11/2022  12:28        89,759,168 dino_dragon_10_0.899.h5\n",
      "22/11/2022  15:39        44,866,200 dino_dragon_10_0.899_tflite.h5\n",
      "               2 File(s)    134,625,368 bytes\n",
      "               0 Dir(s)  87,346,745,344 bytes free\n"
     ]
    }
   ],
   "source": [
    "!dir dino_dragon_10_0.899*.h5"
   ]
  },
  {
   "cell_type": "markdown",
   "id": "6e6666ed",
   "metadata": {},
   "source": [
    "## Q1 = +/- 44 MB"
   ]
  },
  {
   "cell_type": "markdown",
   "id": "59cb8962",
   "metadata": {},
   "source": [
    "## Get input / ouput details of TFL"
   ]
  },
  {
   "cell_type": "code",
   "execution_count": 14,
   "id": "a56c741b",
   "metadata": {},
   "outputs": [],
   "source": [
    "import tensorflow.lite as tflite "
   ]
  },
  {
   "cell_type": "code",
   "execution_count": 15,
   "id": "c4194c47",
   "metadata": {},
   "outputs": [],
   "source": [
    "# Unable to install it in this \"pipenv\" config :-(((\n",
    "#import tflite_runtime.interpreter as tflite"
   ]
  },
  {
   "cell_type": "code",
   "execution_count": 16,
   "id": "e60abed0",
   "metadata": {},
   "outputs": [],
   "source": [
    "interpreter = tflite.Interpreter(model_path=strFilOut)\n",
    "interpreter.allocate_tensors()"
   ]
  },
  {
   "cell_type": "code",
   "execution_count": 18,
   "id": "0d31e29a",
   "metadata": {},
   "outputs": [
    {
     "data": {
      "text/plain": [
       "(0, 13)"
      ]
     },
     "execution_count": 18,
     "metadata": {},
     "output_type": "execute_result"
    }
   ],
   "source": [
    "input_details = interpreter.get_input_details()\n",
    "input_index = input_details[0]['index']\n",
    "\n",
    "output_details = interpreter.get_output_details()\n",
    "output_index = output_details[0]['index']\n",
    "input_index , output_index "
   ]
  },
  {
   "cell_type": "markdown",
   "id": "490c0bc4",
   "metadata": {},
   "source": [
    "## Q2= 13"
   ]
  },
  {
   "cell_type": "markdown",
   "id": "a86a530c",
   "metadata": {},
   "source": [
    "## Image preparation"
   ]
  },
  {
   "cell_type": "code",
   "execution_count": 28,
   "id": "1081ccea",
   "metadata": {},
   "outputs": [],
   "source": [
    "from io import BytesIO\n",
    "from urllib import request\n",
    "\n",
    "from PIL import Image\n",
    "\n",
    "def download_image(url):\n",
    "    with request.urlopen(url) as resp:\n",
    "        buffer = resp.read()\n",
    "    stream = BytesIO(buffer)\n",
    "    img = Image.open(stream)\n",
    "    return img\n",
    "\n",
    "\n",
    "def prepare_image(img, target_size):\n",
    "    if img.mode != 'RGB':\n",
    "        img = img.convert('RGB')\n",
    "    #img = img.resize(target_size, Image.NEAREST)\n",
    "    img = img.resize(target_size, Image.Resampling.NEAREST )\n",
    "    return img"
   ]
  },
  {
   "cell_type": "code",
   "execution_count": 29,
   "id": "9a65c1fd",
   "metadata": {},
   "outputs": [],
   "source": [
    "urlImg = 'https://upload.wikimedia.org/wikipedia/commons/thumb/d/df/Smaug_par_David_Demaret.jpg/1280px-Smaug_par_David_Demaret.jpg'"
   ]
  },
  {
   "cell_type": "code",
   "execution_count": 30,
   "id": "d8587d8f",
   "metadata": {},
   "outputs": [],
   "source": [
    "img = download_image(urlImg)"
   ]
  },
  {
   "cell_type": "code",
   "execution_count": 31,
   "id": "e7c8225e",
   "metadata": {},
   "outputs": [
    {
     "name": "stderr",
     "output_type": "stream",
     "text": [
      "C:\\Users\\alain\\AppData\\Local\\Temp\\ipykernel_4892\\2487457277.py:17: DeprecationWarning: NEAREST is deprecated and will be removed in Pillow 10 (2023-07-01). Use Resampling.NEAREST or Dither.NONE instead.\n",
      "  img = img.resize(target_size, Image.NEAREST)\n"
     ]
    }
   ],
   "source": [
    "imgRes = prepare_image(img, (150,150))"
   ]
  },
  {
   "cell_type": "code",
   "execution_count": 32,
   "id": "a7f4a353",
   "metadata": {},
   "outputs": [
    {
     "data": {
      "image/png": "[encoded data removed]",
      "text/plain": [
       "<PIL.Image.Image image mode=RGB size=150x150>"
      ]
     },
     "execution_count": 32,
     "metadata": {},
     "output_type": "execute_result"
    }
   ],
   "source": [
    "imgRes"
   ]
  },
  {
   "cell_type": "code",
   "execution_count": null,
   "id": "df0cbdc1",
   "metadata": {},
   "outputs": [],
   "source": [
    "convert to numpy and divide by 255 "
   ]
  },
  {
   "cell_type": "code",
   "execution_count": 58,
   "id": "72635737",
   "metadata": {},
   "outputs": [
    {
     "data": {
      "text/plain": [
       "(150, 150, 3)"
      ]
     },
     "execution_count": 58,
     "metadata": {},
     "output_type": "execute_result"
    }
   ],
   "source": [
    "x = npy.array(imgRes , dtype='float32') / 255\n",
    "x.shape"
   ]
  },
  {
   "cell_type": "code",
   "execution_count": 59,
   "id": "4a6aa327",
   "metadata": {},
   "outputs": [
    {
     "data": {
      "text/plain": [
       "(1, 150, 150, 3)"
      ]
     },
     "execution_count": 59,
     "metadata": {},
     "output_type": "execute_result"
    }
   ],
   "source": [
    "X = npy.array([x])\n",
    "X.shape"
   ]
  },
  {
   "cell_type": "code",
   "execution_count": 60,
   "id": "61784e21",
   "metadata": {},
   "outputs": [
    {
     "data": {
      "text/plain": [
       "0.5529412"
      ]
     },
     "execution_count": 60,
     "metadata": {},
     "output_type": "execute_result"
    }
   ],
   "source": [
    "# first pixel of image - first channel R\n",
    "x[0,0,0]"
   ]
  },
  {
   "cell_type": "markdown",
   "id": "2dca9ffe",
   "metadata": {},
   "source": [
    "## Q3 = 0.552941"
   ]
  },
  {
   "cell_type": "code",
   "execution_count": 62,
   "id": "85d0cd0e",
   "metadata": {
    "scrolled": true
   },
   "outputs": [
    {
     "data": {
      "text/plain": [
       "array([[0.82448506]], dtype=float32)"
      ]
     },
     "execution_count": 62,
     "metadata": {},
     "output_type": "execute_result"
    }
   ],
   "source": [
    "interpreter.set_tensor(input_index, X)\n",
    "interpreter.invoke()\n",
    "\n",
    "preds = interpreter.get_tensor(output_index)\n",
    "preds"
   ]
  },
  {
   "cell_type": "code",
   "execution_count": 12,
   "id": "901df010",
   "metadata": {},
   "outputs": [
    {
     "name": "stdout",
     "output_type": "stream",
     "text": [
      "prediction = 0.8244850635528564\n"
     ]
    }
   ],
   "source": [
    "print( 'prediction =' , float(preds[0,0]) )"
   ]
  },
  {
   "cell_type": "markdown",
   "id": "6c42c005",
   "metadata": {},
   "source": [
    "## Q4 = 0.8245"
   ]
  },
  {
   "cell_type": "markdown",
   "id": "df3f78fa",
   "metadata": {},
   "source": [
    "## lambda code (for debugging)"
   ]
  },
  {
   "cell_type": "code",
   "execution_count": 33,
   "id": "b5fd023a",
   "metadata": {},
   "outputs": [
    {
     "name": "stdout",
     "output_type": "stream",
     "text": [
      " > import \n",
      " > functions \n",
      " > variables \n",
      " > Test predict() \n",
      "   > load interpreter \n",
      "   > load image \n",
      "   > prediction \n",
      "   * prediction = 0.8244850635528564\n",
      " > res =  {'prediction': 0.8244850635528564}\n",
      " > Test lambda_handler() \n",
      "   > load interpreter \n",
      "   > load image \n",
      "   > prediction \n",
      "   * prediction = 0.8244850635528564\n",
      " > res =  {'prediction': 0.8244850635528564}\n"
     ]
    }
   ],
   "source": [
    "print(' > import ')\n",
    "from io import BytesIO\n",
    "from urllib import request\n",
    "from PIL import Image\n",
    "import numpy as npy\n",
    "import tensorflow.lite as tflite \n",
    "\n",
    "print(' > functions ')\n",
    "def download_image(url):\n",
    "    with request.urlopen(url) as resp:\n",
    "        buffer = resp.read()\n",
    "    stream = BytesIO(buffer)\n",
    "    img = Image.open(stream)\n",
    "    return img\n",
    "\n",
    "def prepare_image(img, target_size):\n",
    "    if img.mode != 'RGB':\n",
    "        img = img.convert('RGB')\n",
    "    img = img.resize(target_size, Image.Resampling.NEAREST )\n",
    "    return img\n",
    "\n",
    "\n",
    "print(' > variables ')\n",
    "strFil = 'dino_dragon_10_0.899'\n",
    "#strFilInp = strFil + '.h5'\n",
    "strFilOut = strFil + '_tflite.h5'\n",
    "urlImg = 'https://upload.wikimedia.org/wikipedia/commons/thumb/d/df/Smaug_par_David_Demaret.jpg/1280px-Smaug_par_David_Demaret.jpg'\n",
    "\n",
    "\n",
    "def predict(url):\n",
    "\n",
    "    print('   > load interpreter ')\n",
    "    interpreter = tflite.Interpreter(model_path=strFilOut)\n",
    "    interpreter.allocate_tensors()\n",
    "\n",
    "    input_details = interpreter.get_input_details()\n",
    "    input_index = input_details[0]['index']\n",
    "    output_details = interpreter.get_output_details()\n",
    "    output_index = output_details[0]['index']\n",
    "\n",
    "\n",
    "    print('   > load image ')\n",
    "    img = download_image(url)\n",
    "    imgRes = prepare_image(img, (150,150))\n",
    "    x = npy.array(imgRes , dtype='float32') / 255\n",
    "    X = npy.array([x])\n",
    "\n",
    "    print('   > prediction ')\n",
    "    interpreter.set_tensor(input_index, X)\n",
    "\n",
    "    interpreter.invoke()\n",
    "    preds = interpreter.get_tensor(output_index)\n",
    "\n",
    "    pred = float(preds[0,0])\n",
    "    print( '   * prediction =' , pred )\n",
    "    jsoRes = { 'prediction' : pred}\n",
    "    return(jsoRes)\n",
    "\n",
    "\n",
    "def lambda_handler(event, context):\n",
    "    url = event['url']\n",
    "    res = predict(url)\n",
    "    return res\n",
    "\n",
    "if __name__ == \"__main__\":\n",
    "    print(' > Test predict() ')\n",
    "    res = predict(urlImg)\n",
    "    print(' > res = ' , res )\n",
    "    \n",
    "    print(' > Test lambda_handler() ')\n",
    "    res = lambda_handler(event={'url': urlImg} , context=() )\n",
    "    print(' > res = ' , res)\n",
    "\n"
   ]
  },
  {
   "cell_type": "markdown",
   "id": "fcd5dee3",
   "metadata": {},
   "source": [
    "### Exported lambda code (previous cell) in \"Homework09Predict.py\""
   ]
  },
  {
   "cell_type": "code",
   "execution_count": 1,
   "id": "cdcdb9d2",
   "metadata": {},
   "outputs": [
    {
     "name": "stdout",
     "output_type": "stream",
     "text": [
      " Volume in drive C has no label.\n",
      " Volume Serial Number is E8A5-BC16\n",
      "\n",
      " Directory of C:\\Users\\alain\\Documents\\prv\\IT\\mlzc-cnn\n",
      "\n",
      "23/11/2022  11:44             1,910 Homework09Predict.py\n",
      "               1 File(s)          1,910 bytes\n",
      "               0 Dir(s)  87,057,997,824 bytes free\n"
     ]
    }
   ],
   "source": [
    "!dir *.py"
   ]
  },
  {
   "cell_type": "code",
   "execution_count": 2,
   "id": "5c1bdca2",
   "metadata": {},
   "outputs": [
    {
     "name": "stdout",
     "output_type": "stream",
     "text": [
      " > import \n",
      " > functions \n",
      " > variables \n",
      " > Test predict() \n",
      "   > load interpreter \n",
      "   > load image \n",
      "   > prediction \n",
      "   * prediction = 0.8244850635528564\n",
      " > res =  {'prediction': 0.8244850635528564}\n",
      " > Test lambda_handler() \n",
      "   > load interpreter \n",
      "   > load image \n",
      "   > prediction \n",
      "   * prediction = 0.8244850635528564\n",
      " > res =  {'prediction': 0.8244850635528564}\n"
     ]
    },
    {
     "name": "stderr",
     "output_type": "stream",
     "text": [
      "INFO: Created TensorFlow Lite XNNPACK delegate for CPU.\n"
     ]
    }
   ],
   "source": [
    "# run code \n",
    "!python Homework09Predict.py"
   ]
  },
  {
   "cell_type": "markdown",
   "id": "713e501a",
   "metadata": {},
   "source": [
    "### Test functions"
   ]
  },
  {
   "cell_type": "code",
   "execution_count": 7,
   "id": "8dda03b0",
   "metadata": {},
   "outputs": [],
   "source": [
    "import Homework09Predict"
   ]
  },
  {
   "cell_type": "code",
   "execution_count": 8,
   "id": "67a0756c",
   "metadata": {},
   "outputs": [],
   "source": [
    "urlImg = 'https://upload.wikimedia.org/wikipedia/commons/thumb/d/df/Smaug_par_David_Demaret.jpg/1280px-Smaug_par_David_Demaret.jpg'"
   ]
  },
  {
   "cell_type": "code",
   "execution_count": 9,
   "id": "add916a5",
   "metadata": {},
   "outputs": [
    {
     "name": "stdout",
     "output_type": "stream",
     "text": [
      "   > load interpreter \n",
      "   > load image \n",
      "   > prediction \n",
      "   * prediction = 0.8244850635528564\n"
     ]
    },
    {
     "data": {
      "text/plain": [
       "{'prediction': 0.8244850635528564}"
      ]
     },
     "execution_count": 9,
     "metadata": {},
     "output_type": "execute_result"
    }
   ],
   "source": [
    "Homework09Predict.predict(urlImg)"
   ]
  },
  {
   "cell_type": "code",
   "execution_count": 10,
   "id": "9e9fe9c0",
   "metadata": {},
   "outputs": [
    {
     "name": "stdout",
     "output_type": "stream",
     "text": [
      "   > load interpreter \n",
      "   > load image \n",
      "   > prediction \n",
      "   * prediction = 0.8244850635528564\n"
     ]
    },
    {
     "data": {
      "text/plain": [
       "{'prediction': 0.8244850635528564}"
      ]
     },
     "execution_count": 10,
     "metadata": {},
     "output_type": "execute_result"
    }
   ],
   "source": [
    "Homework09Predict.lambda_handler(event={'url': urlImg} , context=() )"
   ]
  },
  {
   "cell_type": "markdown",
   "id": "77b26cfc",
   "metadata": {},
   "source": [
    "## Load Docker image"
   ]
  },
  {
   "cell_type": "code",
   "execution_count": 11,
   "id": "36352d8c",
   "metadata": {},
   "outputs": [
    {
     "name": "stdout",
     "output_type": "stream",
     "text": [
      "v2: Pulling from svizor42/zoomcamp-dino-dragon-lambda\n",
      "Digest: sha256:46be01f7953cd48ebe526329ddf781d92019b9d44de4ecb67d11f56eaccf79cb\n",
      "Status: Image is up to date for svizor42/zoomcamp-dino-dragon-lambda:v2\n",
      "docker.io/svizor42/zoomcamp-dino-dragon-lambda:v2\n"
     ]
    }
   ],
   "source": [
    "!docker pull svizor42/zoomcamp-dino-dragon-lambda:v2"
   ]
  },
  {
   "cell_type": "code",
   "execution_count": 16,
   "id": "7325cfa8",
   "metadata": {},
   "outputs": [
    {
     "name": "stdout",
     "output_type": "stream",
     "text": [
      "REPOSITORY                             TAG       IMAGE ID       CREATED      SIZE\n",
      "svizor42/zoomcamp-dino-dragon-lambda   v2        20ef58b21a05   5 days ago   639MB\n"
     ]
    }
   ],
   "source": [
    "!docker images svizor42/zoomcamp-dino-dragon-lambda"
   ]
  },
  {
   "cell_type": "markdown",
   "id": "01ffb6cc",
   "metadata": {},
   "source": [
    "## Q5 = 639MB"
   ]
  },
  {
   "cell_type": "markdown",
   "id": "aa8c3633",
   "metadata": {},
   "source": [
    "## Build Docker"
   ]
  },
  {
   "cell_type": "code",
   "execution_count": 19,
   "id": "62c7350e",
   "metadata": {
    "scrolled": true
   },
   "outputs": [
    {
     "name": "stdout",
     "output_type": "stream",
     "text": [
      " Volume in drive C has no label.\n",
      " Volume Serial Number is E8A5-BC16\n",
      "\n",
      " Directory of C:\\Users\\alain\\Documents\\prv\\IT\\mlzc-cnn\n",
      "\n",
      "23/11/2022  13:31               285 Dockerfile\n",
      "               1 File(s)            285 bytes\n",
      "               0 Dir(s)  86,585,327,616 bytes free\n"
     ]
    }
   ],
   "source": [
    "!dir Dockerfile"
   ]
  },
  {
   "cell_type": "code",
   "execution_count": 37,
   "id": "64ff7899",
   "metadata": {},
   "outputs": [
    {
     "name": "stdout",
     "output_type": "stream",
     "text": [
      "FROM svizor42/zoomcamp-dino-dragon-lambda:v2\n",
      "\n",
      "RUN pip install keras-image-helper\n",
      "RUN pip install https://github.com/alexeygrigorev/tflite-aws-lambda/raw/main/tflite/tflite_runtime-2.7.0-cp39-cp39-linux_x86_64.whl \n",
      "\n",
      "COPY Homework09Predict.py .\n",
      "\n",
      "CMD [ \"Homework09Predict.lambda_handler\" ]\n"
     ]
    }
   ],
   "source": [
    "!type dockerfile"
   ]
  },
  {
   "cell_type": "markdown",
   "id": "410fc8ef",
   "metadata": {},
   "source": [
    "<div class=\"alert alert-block alert-warning\">\n",
    "<b>import tfile:</b> \n",
    "<p>before building image: change the import of tfile:\n",
    "<ul>\n",
    "<li>import tensorflow.lite as tflite\n",
    "<li>import *tflite_runtime.interpreter* as tflite\n",
    "</ul>\n",
    "</div>"
   ]
  },
  {
   "cell_type": "code",
   "execution_count": 41,
   "id": "5d308a10",
   "metadata": {},
   "outputs": [
    {
     "name": "stderr",
     "output_type": "stream",
     "text": [
      "#1 [internal] load build definition from Dockerfile\n",
      "#1 sha256:ba5f4dc3c6a7bb96171db5d07684db08f588437b77fd34cd66036397042f23e1\n",
      "#1 transferring dockerfile: 32B done\n",
      "#1 DONE 0.0s\n",
      "\n",
      "#2 [internal] load .dockerignore\n",
      "#2 sha256:722cebb727dcb9cc3c294d60bd4d7fbd32b3867ff4887227091300bc9a0a277c\n",
      "#2 transferring context: 2B done\n",
      "#2 DONE 0.0s\n",
      "\n",
      "#3 [internal] load metadata for docker.io/svizor42/zoomcamp-dino-dragon-lambda:v2\n",
      "#3 sha256:ce099ce3a9c4732d7780fbf70f02aad68c73f279182a55999a0214fc705011c8\n",
      "#3 DONE 0.0s\n",
      "\n",
      "#4 [1/4] FROM docker.io/svizor42/zoomcamp-dino-dragon-lambda:v2\n",
      "#4 sha256:c3bb51f97f6b3af481275e256cce26f11f731bbb28f7c57019ae12c5c55d1141\n",
      "#4 DONE 0.0s\n",
      "\n",
      "#7 [internal] load build context\n",
      "#7 sha256:0761f6a86dd149a3e9009f484e868154ac6fbe174024c90a99f0037f5150904c\n",
      "#7 transferring context: 42B done\n",
      "#7 DONE 0.0s\n",
      "\n",
      "#6 [3/4] RUN pip install https://github.com/alexeygrigorev/tflite-aws-lambda/raw/main/tflite/tflite_runtime-2.7.0-cp39-cp39-linux_x86_64.whl\n",
      "#6 sha256:4f004b5282fbc2298911bc2415c2af528d042d6883cff70caa193a64a709d227\n",
      "#6 CACHED\n",
      "\n",
      "#5 [2/4] RUN pip install keras-image-helper\n",
      "#5 sha256:ab792141c3875fcf667ca686452078d4555377d35587a0a97ead359e6057437f\n",
      "#5 CACHED\n",
      "\n",
      "#8 [4/4] COPY Homework09Predict.py .\n",
      "#8 sha256:d01d6af9cbbd5c75f06bebfb0e46c2456e3f557a227f5daa2c5b09ccc31fccf8\n",
      "#8 CACHED\n",
      "\n",
      "#9 exporting to image\n",
      "#9 sha256:e8c613e07b0b7ff33893b694f7759a10d42e180f2b4dc349fb57dc6b71dcab00\n",
      "#9 exporting layers done\n",
      "#9 writing image sha256:a43528510172bad4a724b04cce20e1b26ac51ce1480b2182d396af9e84a8f6bf done\n",
      "#9 naming to docker.io/library/zoomcamp-dino-dragon-lambda done\n",
      "#9 DONE 0.0s\n",
      "\n",
      "Use 'docker scan' to run Snyk tests against images to find vulnerabilities and learn how to fix them\n"
     ]
    }
   ],
   "source": [
    "!docker build -t zoomcamp-dino-dragon-lambda ."
   ]
  },
  {
   "cell_type": "code",
   "execution_count": 52,
   "id": "9041babb",
   "metadata": {},
   "outputs": [
    {
     "name": "stdout",
     "output_type": "stream",
     "text": [
      "REPOSITORY                    TAG       IMAGE ID       CREATED          SIZE\n",
      "zoomcamp-dino-dragon-lambda   latest    87ead86d075f   40 seconds ago   820MB\n"
     ]
    }
   ],
   "source": [
    "!docker images zoomcamp-dino-dragon-lambda*"
   ]
  },
  {
   "cell_type": "markdown",
   "id": "76294b76",
   "metadata": {},
   "source": [
    "## Run and test docker image\n",
    "> docker run -it --rm -p 8080:8080 zoomcamp-dino-dragon-lambda"
   ]
  },
  {
   "attachments": {
    "image.png": {
     "image/png": "[encoded data removed]"
    }
   },
   "cell_type": "markdown",
   "id": "56f3e5b4",
   "metadata": {},
   "source": [
    "![image.png](attachment:image.png)"
   ]
  },
  {
   "cell_type": "code",
   "execution_count": null,
   "id": "f207f389",
   "metadata": {},
   "outputs": [],
   "source": [
    "import requests"
   ]
  },
  {
   "cell_type": "code",
   "execution_count": 59,
   "id": "7c560410",
   "metadata": {},
   "outputs": [
    {
     "data": {
      "text/plain": [
       "{'url': 'https://upload.wikimedia.org/wikipedia/en/e/e9/GodzillaEncounterModel.jpg'}"
      ]
     },
     "execution_count": 59,
     "metadata": {},
     "output_type": "execute_result"
    }
   ],
   "source": [
    "urlImg = 'https://upload.wikimedia.org/wikipedia/en/e/e9/GodzillaEncounterModel.jpg'\n",
    "data = { \"url\": urlImg }\n",
    "data"
   ]
  },
  {
   "cell_type": "code",
   "execution_count": 61,
   "id": "90f1f553",
   "metadata": {},
   "outputs": [],
   "source": [
    "url = \"http://localhost:8080/2015-03-31/functions/function/invocations\""
   ]
  },
  {
   "cell_type": "code",
   "execution_count": 66,
   "id": "3ed24984",
   "metadata": {},
   "outputs": [
    {
     "data": {
      "text/plain": [
       "<Response [200]>"
      ]
     },
     "execution_count": 66,
     "metadata": {},
     "output_type": "execute_result"
    }
   ],
   "source": [
    "requests.post(url, json=data)"
   ]
  },
  {
   "cell_type": "code",
   "execution_count": 64,
   "id": "446f1535",
   "metadata": {
    "scrolled": true
   },
   "outputs": [
    {
     "name": "stdout",
     "output_type": "stream",
     "text": [
      "{'prediction': 0.31950676441192627}\n"
     ]
    }
   ],
   "source": [
    "results = requests.post(url, json=data).json()\n",
    "print(results)"
   ]
  },
  {
   "cell_type": "markdown",
   "id": "e97b1fe4",
   "metadata": {},
   "source": [
    "## Q6 = 0.32"
   ]
  },
  {
   "cell_type": "code",
   "execution_count": null,
   "id": "fc4a148b",
   "metadata": {},
   "outputs": [],
   "source": []
  }
 ],
 "metadata": {
  "kernelspec": {
   "display_name": "Python 3 (ipykernel)",
   "language": "python",
   "name": "python3"
  },
  "language_info": {
   "codemirror_mode": {
    "name": "ipython",
    "version": 3
   },
   "file_extension": ".py",
   "mimetype": "text/x-python",
   "name": "python",
   "nbconvert_exporter": "python",
   "pygments_lexer": "ipython3",
   "version": "3.9.11"
  }
 },
 "nbformat": 4,
 "nbformat_minor": 5
}
