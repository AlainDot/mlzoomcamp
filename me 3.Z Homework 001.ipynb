{
 "cells": [
  {
   "cell_type": "markdown",
   "id": "1826a226",
   "metadata": {},
   "source": [
    "# me 3.Z Homework 001\n",
    "\n",
    "##### Source  = https://github.com/alexeygrigorev/mlbookcamp-code/blob/master/course-zoomcamp/cohorts/2022/03-classification/homework.md"
   ]
  },
  {
   "cell_type": "code",
   "execution_count": 1,
   "id": "b824f794",
   "metadata": {},
   "outputs": [],
   "source": [
    "import pandas as pda\n",
    "\n",
    "import numpy as npy\n",
    "\n",
    "import matplotlib.pyplot as plt\n",
    "\n",
    "from sklearn.model_selection import train_test_split\n",
    "from sklearn.metrics import mutual_info_score\n",
    "from sklearn.feature_extraction import DictVectorizer\n",
    "from sklearn.linear_model import LogisticRegression\n",
    "from sklearn.linear_model import LinearRegression\n",
    "from sklearn.linear_model import Ridge\n",
    "from sklearn.metrics import mean_squared_error"
   ]
  },
  {
   "cell_type": "code",
   "execution_count": 2,
   "id": "2af53fd6",
   "metadata": {},
   "outputs": [
    {
     "name": "stdout",
     "output_type": "stream",
     "text": [
      " shape =  (20640, 10)\n"
     ]
    },
    {
     "data": {
      "text/html": [
       "<div>\n",
       "<style scoped>\n",
       "    .dataframe tbody tr th:only-of-type {\n",
       "        vertical-align: middle;\n",
       "    }\n",
       "\n",
       "    .dataframe tbody tr th {\n",
       "        vertical-align: top;\n",
       "    }\n",
       "\n",
       "    .dataframe thead th {\n",
       "        text-align: right;\n",
       "    }\n",
       "</style>\n",
       "<table border=\"1\" class=\"dataframe\">\n",
       "  <thead>\n",
       "    <tr style=\"text-align: right;\">\n",
       "      <th></th>\n",
       "      <th>0</th>\n",
       "      <th>1</th>\n",
       "      <th>2</th>\n",
       "      <th>3</th>\n",
       "      <th>4</th>\n",
       "    </tr>\n",
       "  </thead>\n",
       "  <tbody>\n",
       "    <tr>\n",
       "      <th>longitude</th>\n",
       "      <td>-122.23</td>\n",
       "      <td>-122.22</td>\n",
       "      <td>-122.24</td>\n",
       "      <td>-122.25</td>\n",
       "      <td>-122.25</td>\n",
       "    </tr>\n",
       "    <tr>\n",
       "      <th>latitude</th>\n",
       "      <td>37.88</td>\n",
       "      <td>37.86</td>\n",
       "      <td>37.85</td>\n",
       "      <td>37.85</td>\n",
       "      <td>37.85</td>\n",
       "    </tr>\n",
       "    <tr>\n",
       "      <th>housing_median_age</th>\n",
       "      <td>41.0</td>\n",
       "      <td>21.0</td>\n",
       "      <td>52.0</td>\n",
       "      <td>52.0</td>\n",
       "      <td>52.0</td>\n",
       "    </tr>\n",
       "    <tr>\n",
       "      <th>total_rooms</th>\n",
       "      <td>880.0</td>\n",
       "      <td>7099.0</td>\n",
       "      <td>1467.0</td>\n",
       "      <td>1274.0</td>\n",
       "      <td>1627.0</td>\n",
       "    </tr>\n",
       "    <tr>\n",
       "      <th>total_bedrooms</th>\n",
       "      <td>129.0</td>\n",
       "      <td>1106.0</td>\n",
       "      <td>190.0</td>\n",
       "      <td>235.0</td>\n",
       "      <td>280.0</td>\n",
       "    </tr>\n",
       "    <tr>\n",
       "      <th>population</th>\n",
       "      <td>322.0</td>\n",
       "      <td>2401.0</td>\n",
       "      <td>496.0</td>\n",
       "      <td>558.0</td>\n",
       "      <td>565.0</td>\n",
       "    </tr>\n",
       "    <tr>\n",
       "      <th>households</th>\n",
       "      <td>126.0</td>\n",
       "      <td>1138.0</td>\n",
       "      <td>177.0</td>\n",
       "      <td>219.0</td>\n",
       "      <td>259.0</td>\n",
       "    </tr>\n",
       "    <tr>\n",
       "      <th>median_income</th>\n",
       "      <td>8.3252</td>\n",
       "      <td>8.3014</td>\n",
       "      <td>7.2574</td>\n",
       "      <td>5.6431</td>\n",
       "      <td>3.8462</td>\n",
       "    </tr>\n",
       "    <tr>\n",
       "      <th>median_house_value</th>\n",
       "      <td>452600.0</td>\n",
       "      <td>358500.0</td>\n",
       "      <td>352100.0</td>\n",
       "      <td>341300.0</td>\n",
       "      <td>342200.0</td>\n",
       "    </tr>\n",
       "    <tr>\n",
       "      <th>ocean_proximity</th>\n",
       "      <td>NEAR BAY</td>\n",
       "      <td>NEAR BAY</td>\n",
       "      <td>NEAR BAY</td>\n",
       "      <td>NEAR BAY</td>\n",
       "      <td>NEAR BAY</td>\n",
       "    </tr>\n",
       "  </tbody>\n",
       "</table>\n",
       "</div>"
      ],
      "text/plain": [
       "                           0         1         2         3         4\n",
       "longitude            -122.23   -122.22   -122.24   -122.25   -122.25\n",
       "latitude               37.88     37.86     37.85     37.85     37.85\n",
       "housing_median_age      41.0      21.0      52.0      52.0      52.0\n",
       "total_rooms            880.0    7099.0    1467.0    1274.0    1627.0\n",
       "total_bedrooms         129.0    1106.0     190.0     235.0     280.0\n",
       "population             322.0    2401.0     496.0     558.0     565.0\n",
       "households             126.0    1138.0     177.0     219.0     259.0\n",
       "median_income         8.3252    8.3014    7.2574    5.6431    3.8462\n",
       "median_house_value  452600.0  358500.0  352100.0  341300.0  342200.0\n",
       "ocean_proximity     NEAR BAY  NEAR BAY  NEAR BAY  NEAR BAY  NEAR BAY"
      ]
     },
     "execution_count": 2,
     "metadata": {},
     "output_type": "execute_result"
    }
   ],
   "source": [
    "urlCsv = 'https://raw.githubusercontent.com/alexeygrigorev/datasets/master/housing.csv'\n",
    "dfrHouRaw = pda.read_csv(urlCsv)\n",
    "print(' shape = ' , dfrHouRaw.shape)\n",
    "dfrHouRaw.head().T"
   ]
  },
  {
   "cell_type": "code",
   "execution_count": 3,
   "id": "59dc0586",
   "metadata": {},
   "outputs": [
    {
     "data": {
      "text/plain": [
       "['latitude',\n",
       " 'longitude',\n",
       " 'housing_median_age',\n",
       " 'total_rooms',\n",
       " 'total_bedrooms',\n",
       " 'population',\n",
       " 'households',\n",
       " 'median_income',\n",
       " 'median_house_value',\n",
       " 'ocean_proximity']"
      ]
     },
     "execution_count": 3,
     "metadata": {},
     "output_type": "execute_result"
    }
   ],
   "source": [
    "# from homework:\n",
    "lstCol = [ \n",
    "'latitude',\n",
    "'longitude',\n",
    "'housing_median_age',\n",
    "'total_rooms',\n",
    "'total_bedrooms',\n",
    "'population',\n",
    "'households',\n",
    "'median_income',\n",
    "'median_house_value' ,\n",
    "'ocean_proximity'\n",
    "]\n",
    "lstCol"
   ]
  },
  {
   "cell_type": "markdown",
   "id": "dc0efc37",
   "metadata": {},
   "source": [
    "### Prepare dfr Hou (Select fields + nan)"
   ]
  },
  {
   "cell_type": "code",
   "execution_count": 4,
   "id": "bb73d7b4",
   "metadata": {},
   "outputs": [
    {
     "data": {
      "text/html": [
       "<div>\n",
       "<style scoped>\n",
       "    .dataframe tbody tr th:only-of-type {\n",
       "        vertical-align: middle;\n",
       "    }\n",
       "\n",
       "    .dataframe tbody tr th {\n",
       "        vertical-align: top;\n",
       "    }\n",
       "\n",
       "    .dataframe thead th {\n",
       "        text-align: right;\n",
       "    }\n",
       "</style>\n",
       "<table border=\"1\" class=\"dataframe\">\n",
       "  <thead>\n",
       "    <tr style=\"text-align: right;\">\n",
       "      <th></th>\n",
       "      <th>0</th>\n",
       "      <th>1</th>\n",
       "      <th>2</th>\n",
       "      <th>3</th>\n",
       "      <th>4</th>\n",
       "      <th>5</th>\n",
       "      <th>6</th>\n",
       "      <th>7</th>\n",
       "    </tr>\n",
       "  </thead>\n",
       "  <tbody>\n",
       "    <tr>\n",
       "      <th>latitude</th>\n",
       "      <td>37.88</td>\n",
       "      <td>37.86</td>\n",
       "      <td>37.85</td>\n",
       "      <td>37.85</td>\n",
       "      <td>37.85</td>\n",
       "      <td>37.85</td>\n",
       "      <td>37.84</td>\n",
       "      <td>37.84</td>\n",
       "    </tr>\n",
       "    <tr>\n",
       "      <th>longitude</th>\n",
       "      <td>-122.23</td>\n",
       "      <td>-122.22</td>\n",
       "      <td>-122.24</td>\n",
       "      <td>-122.25</td>\n",
       "      <td>-122.25</td>\n",
       "      <td>-122.25</td>\n",
       "      <td>-122.25</td>\n",
       "      <td>-122.25</td>\n",
       "    </tr>\n",
       "    <tr>\n",
       "      <th>housing_median_age</th>\n",
       "      <td>41.0</td>\n",
       "      <td>21.0</td>\n",
       "      <td>52.0</td>\n",
       "      <td>52.0</td>\n",
       "      <td>52.0</td>\n",
       "      <td>52.0</td>\n",
       "      <td>52.0</td>\n",
       "      <td>52.0</td>\n",
       "    </tr>\n",
       "    <tr>\n",
       "      <th>total_rooms</th>\n",
       "      <td>880.0</td>\n",
       "      <td>7099.0</td>\n",
       "      <td>1467.0</td>\n",
       "      <td>1274.0</td>\n",
       "      <td>1627.0</td>\n",
       "      <td>919.0</td>\n",
       "      <td>2535.0</td>\n",
       "      <td>3104.0</td>\n",
       "    </tr>\n",
       "    <tr>\n",
       "      <th>total_bedrooms</th>\n",
       "      <td>129.0</td>\n",
       "      <td>1106.0</td>\n",
       "      <td>190.0</td>\n",
       "      <td>235.0</td>\n",
       "      <td>280.0</td>\n",
       "      <td>213.0</td>\n",
       "      <td>489.0</td>\n",
       "      <td>687.0</td>\n",
       "    </tr>\n",
       "    <tr>\n",
       "      <th>population</th>\n",
       "      <td>322.0</td>\n",
       "      <td>2401.0</td>\n",
       "      <td>496.0</td>\n",
       "      <td>558.0</td>\n",
       "      <td>565.0</td>\n",
       "      <td>413.0</td>\n",
       "      <td>1094.0</td>\n",
       "      <td>1157.0</td>\n",
       "    </tr>\n",
       "    <tr>\n",
       "      <th>households</th>\n",
       "      <td>126.0</td>\n",
       "      <td>1138.0</td>\n",
       "      <td>177.0</td>\n",
       "      <td>219.0</td>\n",
       "      <td>259.0</td>\n",
       "      <td>193.0</td>\n",
       "      <td>514.0</td>\n",
       "      <td>647.0</td>\n",
       "    </tr>\n",
       "    <tr>\n",
       "      <th>median_income</th>\n",
       "      <td>8.3252</td>\n",
       "      <td>8.3014</td>\n",
       "      <td>7.2574</td>\n",
       "      <td>5.6431</td>\n",
       "      <td>3.8462</td>\n",
       "      <td>4.0368</td>\n",
       "      <td>3.6591</td>\n",
       "      <td>3.12</td>\n",
       "    </tr>\n",
       "    <tr>\n",
       "      <th>median_house_value</th>\n",
       "      <td>452600.0</td>\n",
       "      <td>358500.0</td>\n",
       "      <td>352100.0</td>\n",
       "      <td>341300.0</td>\n",
       "      <td>342200.0</td>\n",
       "      <td>269700.0</td>\n",
       "      <td>299200.0</td>\n",
       "      <td>241400.0</td>\n",
       "    </tr>\n",
       "    <tr>\n",
       "      <th>ocean_proximity</th>\n",
       "      <td>NEAR BAY</td>\n",
       "      <td>NEAR BAY</td>\n",
       "      <td>NEAR BAY</td>\n",
       "      <td>NEAR BAY</td>\n",
       "      <td>NEAR BAY</td>\n",
       "      <td>NEAR BAY</td>\n",
       "      <td>NEAR BAY</td>\n",
       "      <td>NEAR BAY</td>\n",
       "    </tr>\n",
       "  </tbody>\n",
       "</table>\n",
       "</div>"
      ],
      "text/plain": [
       "                           0         1         2         3         4  \\\n",
       "latitude               37.88     37.86     37.85     37.85     37.85   \n",
       "longitude            -122.23   -122.22   -122.24   -122.25   -122.25   \n",
       "housing_median_age      41.0      21.0      52.0      52.0      52.0   \n",
       "total_rooms            880.0    7099.0    1467.0    1274.0    1627.0   \n",
       "total_bedrooms         129.0    1106.0     190.0     235.0     280.0   \n",
       "population             322.0    2401.0     496.0     558.0     565.0   \n",
       "households             126.0    1138.0     177.0     219.0     259.0   \n",
       "median_income         8.3252    8.3014    7.2574    5.6431    3.8462   \n",
       "median_house_value  452600.0  358500.0  352100.0  341300.0  342200.0   \n",
       "ocean_proximity     NEAR BAY  NEAR BAY  NEAR BAY  NEAR BAY  NEAR BAY   \n",
       "\n",
       "                           5         6         7  \n",
       "latitude               37.85     37.84     37.84  \n",
       "longitude            -122.25   -122.25   -122.25  \n",
       "housing_median_age      52.0      52.0      52.0  \n",
       "total_rooms            919.0    2535.0    3104.0  \n",
       "total_bedrooms         213.0     489.0     687.0  \n",
       "population             413.0    1094.0    1157.0  \n",
       "households             193.0     514.0     647.0  \n",
       "median_income         4.0368    3.6591      3.12  \n",
       "median_house_value  269700.0  299200.0  241400.0  \n",
       "ocean_proximity     NEAR BAY  NEAR BAY  NEAR BAY  "
      ]
     },
     "execution_count": 4,
     "metadata": {},
     "output_type": "execute_result"
    }
   ],
   "source": [
    "dfrHou = dfrHouRaw[lstCol]\n",
    "dfrHou.head(8).T"
   ]
  },
  {
   "cell_type": "code",
   "execution_count": 5,
   "id": "5c71076d",
   "metadata": {},
   "outputs": [
    {
     "data": {
      "text/plain": [
       "total_bedrooms    207\n",
       "dtype: int64"
      ]
     },
     "execution_count": 5,
     "metadata": {},
     "output_type": "execute_result"
    }
   ],
   "source": [
    "# do we have nulls ?\n",
    "dfrHou.isnull().sum() [ dfrHou.isnull().sum() >= 1 ].sort_values(ascending=False)"
   ]
  },
  {
   "cell_type": "code",
   "execution_count": 6,
   "id": "65cabff8",
   "metadata": {},
   "outputs": [
    {
     "data": {
      "text/plain": [
       "Series([], dtype: int64)"
      ]
     },
     "execution_count": 6,
     "metadata": {},
     "output_type": "execute_result"
    }
   ],
   "source": [
    "# Replace nan by 0\n",
    "dfrHou.fillna(0, inplace=True)\n",
    "dfrHou.isnull().sum() [ dfrHou.isnull().sum() >= 1 ].sort_values(ascending=False)"
   ]
  },
  {
   "cell_type": "markdown",
   "id": "db5d167c",
   "metadata": {},
   "source": [
    "### Add fields"
   ]
  },
  {
   "cell_type": "code",
   "execution_count": 7,
   "id": "e15123cb",
   "metadata": {},
   "outputs": [
    {
     "data": {
      "text/html": [
       "<div>\n",
       "<style scoped>\n",
       "    .dataframe tbody tr th:only-of-type {\n",
       "        vertical-align: middle;\n",
       "    }\n",
       "\n",
       "    .dataframe tbody tr th {\n",
       "        vertical-align: top;\n",
       "    }\n",
       "\n",
       "    .dataframe thead th {\n",
       "        text-align: right;\n",
       "    }\n",
       "</style>\n",
       "<table border=\"1\" class=\"dataframe\">\n",
       "  <thead>\n",
       "    <tr style=\"text-align: right;\">\n",
       "      <th></th>\n",
       "      <th>0</th>\n",
       "      <th>1</th>\n",
       "      <th>2</th>\n",
       "      <th>3</th>\n",
       "      <th>4</th>\n",
       "      <th>5</th>\n",
       "      <th>6</th>\n",
       "      <th>7</th>\n",
       "    </tr>\n",
       "  </thead>\n",
       "  <tbody>\n",
       "    <tr>\n",
       "      <th>latitude</th>\n",
       "      <td>37.88</td>\n",
       "      <td>37.86</td>\n",
       "      <td>37.85</td>\n",
       "      <td>37.85</td>\n",
       "      <td>37.85</td>\n",
       "      <td>37.85</td>\n",
       "      <td>37.84</td>\n",
       "      <td>37.84</td>\n",
       "    </tr>\n",
       "    <tr>\n",
       "      <th>longitude</th>\n",
       "      <td>-122.23</td>\n",
       "      <td>-122.22</td>\n",
       "      <td>-122.24</td>\n",
       "      <td>-122.25</td>\n",
       "      <td>-122.25</td>\n",
       "      <td>-122.25</td>\n",
       "      <td>-122.25</td>\n",
       "      <td>-122.25</td>\n",
       "    </tr>\n",
       "    <tr>\n",
       "      <th>housing_median_age</th>\n",
       "      <td>41.0</td>\n",
       "      <td>21.0</td>\n",
       "      <td>52.0</td>\n",
       "      <td>52.0</td>\n",
       "      <td>52.0</td>\n",
       "      <td>52.0</td>\n",
       "      <td>52.0</td>\n",
       "      <td>52.0</td>\n",
       "    </tr>\n",
       "    <tr>\n",
       "      <th>total_rooms</th>\n",
       "      <td>880.0</td>\n",
       "      <td>7099.0</td>\n",
       "      <td>1467.0</td>\n",
       "      <td>1274.0</td>\n",
       "      <td>1627.0</td>\n",
       "      <td>919.0</td>\n",
       "      <td>2535.0</td>\n",
       "      <td>3104.0</td>\n",
       "    </tr>\n",
       "    <tr>\n",
       "      <th>total_bedrooms</th>\n",
       "      <td>129.0</td>\n",
       "      <td>1106.0</td>\n",
       "      <td>190.0</td>\n",
       "      <td>235.0</td>\n",
       "      <td>280.0</td>\n",
       "      <td>213.0</td>\n",
       "      <td>489.0</td>\n",
       "      <td>687.0</td>\n",
       "    </tr>\n",
       "    <tr>\n",
       "      <th>population</th>\n",
       "      <td>322.0</td>\n",
       "      <td>2401.0</td>\n",
       "      <td>496.0</td>\n",
       "      <td>558.0</td>\n",
       "      <td>565.0</td>\n",
       "      <td>413.0</td>\n",
       "      <td>1094.0</td>\n",
       "      <td>1157.0</td>\n",
       "    </tr>\n",
       "    <tr>\n",
       "      <th>households</th>\n",
       "      <td>126.0</td>\n",
       "      <td>1138.0</td>\n",
       "      <td>177.0</td>\n",
       "      <td>219.0</td>\n",
       "      <td>259.0</td>\n",
       "      <td>193.0</td>\n",
       "      <td>514.0</td>\n",
       "      <td>647.0</td>\n",
       "    </tr>\n",
       "    <tr>\n",
       "      <th>median_income</th>\n",
       "      <td>8.3252</td>\n",
       "      <td>8.3014</td>\n",
       "      <td>7.2574</td>\n",
       "      <td>5.6431</td>\n",
       "      <td>3.8462</td>\n",
       "      <td>4.0368</td>\n",
       "      <td>3.6591</td>\n",
       "      <td>3.12</td>\n",
       "    </tr>\n",
       "    <tr>\n",
       "      <th>median_house_value</th>\n",
       "      <td>452600.0</td>\n",
       "      <td>358500.0</td>\n",
       "      <td>352100.0</td>\n",
       "      <td>341300.0</td>\n",
       "      <td>342200.0</td>\n",
       "      <td>269700.0</td>\n",
       "      <td>299200.0</td>\n",
       "      <td>241400.0</td>\n",
       "    </tr>\n",
       "    <tr>\n",
       "      <th>ocean_proximity</th>\n",
       "      <td>NEAR BAY</td>\n",
       "      <td>NEAR BAY</td>\n",
       "      <td>NEAR BAY</td>\n",
       "      <td>NEAR BAY</td>\n",
       "      <td>NEAR BAY</td>\n",
       "      <td>NEAR BAY</td>\n",
       "      <td>NEAR BAY</td>\n",
       "      <td>NEAR BAY</td>\n",
       "    </tr>\n",
       "    <tr>\n",
       "      <th>rooms_per_household</th>\n",
       "      <td>6.984127</td>\n",
       "      <td>6.238137</td>\n",
       "      <td>8.288136</td>\n",
       "      <td>5.817352</td>\n",
       "      <td>6.281853</td>\n",
       "      <td>4.761658</td>\n",
       "      <td>4.931907</td>\n",
       "      <td>4.797527</td>\n",
       "    </tr>\n",
       "    <tr>\n",
       "      <th>bedrooms_per_room</th>\n",
       "      <td>0.146591</td>\n",
       "      <td>0.155797</td>\n",
       "      <td>0.129516</td>\n",
       "      <td>0.184458</td>\n",
       "      <td>0.172096</td>\n",
       "      <td>0.231774</td>\n",
       "      <td>0.192899</td>\n",
       "      <td>0.221327</td>\n",
       "    </tr>\n",
       "    <tr>\n",
       "      <th>population_per_household</th>\n",
       "      <td>2.555556</td>\n",
       "      <td>2.109842</td>\n",
       "      <td>2.80226</td>\n",
       "      <td>2.547945</td>\n",
       "      <td>2.181467</td>\n",
       "      <td>2.139896</td>\n",
       "      <td>2.128405</td>\n",
       "      <td>1.788253</td>\n",
       "    </tr>\n",
       "  </tbody>\n",
       "</table>\n",
       "</div>"
      ],
      "text/plain": [
       "                                 0         1         2         3         4  \\\n",
       "latitude                     37.88     37.86     37.85     37.85     37.85   \n",
       "longitude                  -122.23   -122.22   -122.24   -122.25   -122.25   \n",
       "housing_median_age            41.0      21.0      52.0      52.0      52.0   \n",
       "total_rooms                  880.0    7099.0    1467.0    1274.0    1627.0   \n",
       "total_bedrooms               129.0    1106.0     190.0     235.0     280.0   \n",
       "population                   322.0    2401.0     496.0     558.0     565.0   \n",
       "households                   126.0    1138.0     177.0     219.0     259.0   \n",
       "median_income               8.3252    8.3014    7.2574    5.6431    3.8462   \n",
       "median_house_value        452600.0  358500.0  352100.0  341300.0  342200.0   \n",
       "ocean_proximity           NEAR BAY  NEAR BAY  NEAR BAY  NEAR BAY  NEAR BAY   \n",
       "rooms_per_household       6.984127  6.238137  8.288136  5.817352  6.281853   \n",
       "bedrooms_per_room         0.146591  0.155797  0.129516  0.184458  0.172096   \n",
       "population_per_household  2.555556  2.109842   2.80226  2.547945  2.181467   \n",
       "\n",
       "                                 5         6         7  \n",
       "latitude                     37.85     37.84     37.84  \n",
       "longitude                  -122.25   -122.25   -122.25  \n",
       "housing_median_age            52.0      52.0      52.0  \n",
       "total_rooms                  919.0    2535.0    3104.0  \n",
       "total_bedrooms               213.0     489.0     687.0  \n",
       "population                   413.0    1094.0    1157.0  \n",
       "households                   193.0     514.0     647.0  \n",
       "median_income               4.0368    3.6591      3.12  \n",
       "median_house_value        269700.0  299200.0  241400.0  \n",
       "ocean_proximity           NEAR BAY  NEAR BAY  NEAR BAY  \n",
       "rooms_per_household       4.761658  4.931907  4.797527  \n",
       "bedrooms_per_room         0.231774  0.192899  0.221327  \n",
       "population_per_household  2.139896  2.128405  1.788253  "
      ]
     },
     "execution_count": 7,
     "metadata": {},
     "output_type": "execute_result"
    }
   ],
   "source": [
    "dfrHou['rooms_per_household'] = dfrHou.total_rooms / dfrHou.households\n",
    "dfrHou['bedrooms_per_room'] = dfrHou.total_bedrooms / dfrHou.total_rooms\n",
    "dfrHou['population_per_household'] = dfrHou.population / dfrHou.households\n",
    "\n",
    "dfrHou.head(8).T"
   ]
  },
  {
   "cell_type": "code",
   "execution_count": 8,
   "id": "50e136be",
   "metadata": {},
   "outputs": [
    {
     "data": {
      "text/plain": [
       "Index(['latitude', 'longitude', 'housing_median_age', 'total_rooms',\n",
       "       'total_bedrooms', 'population', 'households', 'median_income',\n",
       "       'median_house_value', 'ocean_proximity', 'rooms_per_household',\n",
       "       'bedrooms_per_room', 'population_per_household'],\n",
       "      dtype='object')"
      ]
     },
     "execution_count": 8,
     "metadata": {},
     "output_type": "execute_result"
    }
   ],
   "source": [
    "dfrHou.columns"
   ]
  },
  {
   "cell_type": "markdown",
   "id": "1e7d7fce",
   "metadata": {},
   "source": [
    "## Q1 = Most frequent value of ocean_proximity"
   ]
  },
  {
   "cell_type": "code",
   "execution_count": 9,
   "id": "e81190af",
   "metadata": {},
   "outputs": [
    {
     "data": {
      "text/plain": [
       "<1H OCEAN     9136\n",
       "INLAND        6551\n",
       "NEAR OCEAN    2658\n",
       "NEAR BAY      2290\n",
       "ISLAND           5\n",
       "Name: ocean_proximity, dtype: int64"
      ]
     },
     "execution_count": 9,
     "metadata": {},
     "output_type": "execute_result"
    }
   ],
   "source": [
    "dfrHou.ocean_proximity.value_counts()"
   ]
  },
  {
   "cell_type": "code",
   "execution_count": 10,
   "id": "7c06b2e1",
   "metadata": {},
   "outputs": [
    {
     "data": {
      "text/plain": [
       "0    <1H OCEAN\n",
       "Name: ocean_proximity, dtype: object"
      ]
     },
     "execution_count": 10,
     "metadata": {},
     "output_type": "execute_result"
    }
   ],
   "source": [
    "dfrHou.ocean_proximity.mode()"
   ]
  },
  {
   "cell_type": "markdown",
   "id": "92177d4c",
   "metadata": {},
   "source": [
    "## Q1 = '<1H OCEAN'"
   ]
  },
  {
   "cell_type": "markdown",
   "id": "c84253dd",
   "metadata": {},
   "source": [
    "### Split data"
   ]
  },
  {
   "cell_type": "code",
   "execution_count": 11,
   "id": "f0709c26",
   "metadata": {},
   "outputs": [
    {
     "data": {
      "text/plain": [
       "((20640, 13), (16512, 13), (12384, 13), (4128, 13), (4128, 13))"
      ]
     },
     "execution_count": 11,
     "metadata": {},
     "output_type": "execute_result"
    }
   ],
   "source": [
    "dfrTraFul, dfrTst = train_test_split(dfrHou, test_size=0.2, random_state=42)\n",
    "dfrTra, dfrVal = train_test_split(dfrTraFul, test_size=0.25, random_state=42)\n",
    "dfrHou.shape , dfrTraFul.shape , dfrTra.shape, dfrVal.shape, dfrTst.shape"
   ]
  },
  {
   "cell_type": "code",
   "execution_count": 12,
   "id": "1ed2e872",
   "metadata": {},
   "outputs": [],
   "source": [
    "# Reset all index\n",
    "dfrTraFul = dfrTraFul.reset_index(drop=True)  \n",
    "dfrTra = dfrTra.reset_index(drop=True)\n",
    "dfrVal = dfrVal.reset_index(drop=True)\n",
    "dfrTst = dfrTst.reset_index(drop=True)"
   ]
  },
  {
   "cell_type": "markdown",
   "id": "14a4a635",
   "metadata": {},
   "source": [
    "## Make median_house_value binary ( on TRA!! )\n",
    "#### before removing predic variable - create a binary based on it"
   ]
  },
  {
   "cell_type": "code",
   "execution_count": 13,
   "id": "d66adf7a",
   "metadata": {},
   "outputs": [
    {
     "data": {
      "text/plain": [
       "(206855.81690891474, 206807.7419250646, 48.0749838501506)"
      ]
     },
     "execution_count": 13,
     "metadata": {},
     "output_type": "execute_result"
    }
   ],
   "source": [
    "# for Q2 and ... store the Mean of median_house_value (before we drop it)\n",
    "floHouMea = dfrHou.median_house_value.mean() \n",
    "floTraMea = dfrTra.median_house_value.mean() \n",
    "floHouMea , floTraMea , (floHouMea - floTraMea)"
   ]
  },
  {
   "cell_type": "code",
   "execution_count": 14,
   "id": "04b81b53",
   "metadata": {
    "scrolled": true
   },
   "outputs": [
    {
     "data": {
      "text/plain": [
       "0        241400.0\n",
       "1        500001.0\n",
       "2         64100.0\n",
       "3        277200.0\n",
       "4        417000.0\n",
       "           ...   \n",
       "12379    154200.0\n",
       "12380    146400.0\n",
       "12381    215300.0\n",
       "12382    139000.0\n",
       "12383    181300.0\n",
       "Name: median_house_value, Length: 12384, dtype: float64"
      ]
     },
     "execution_count": 14,
     "metadata": {},
     "output_type": "execute_result"
    }
   ],
   "source": [
    "dfrTra.median_house_value"
   ]
  },
  {
   "cell_type": "code",
   "execution_count": 15,
   "id": "4bf5904b",
   "metadata": {},
   "outputs": [
    {
     "data": {
      "text/plain": [
       "0        1\n",
       "1        1\n",
       "2        0\n",
       "3        1\n",
       "4        1\n",
       "        ..\n",
       "12379    0\n",
       "12380    0\n",
       "12381    1\n",
       "12382    0\n",
       "12383    0\n",
       "Name: median_house_value, Length: 12384, dtype: int32"
      ]
     },
     "execution_count": 15,
     "metadata": {},
     "output_type": "execute_result"
    }
   ],
   "source": [
    "# bigger than mean ?\n",
    "(dfrTra.median_house_value > floHouMea).astype(int)"
   ]
  },
  {
   "cell_type": "code",
   "execution_count": 16,
   "id": "64bfeae3",
   "metadata": {
    "scrolled": true
   },
   "outputs": [
    {
     "name": "stdout",
     "output_type": "stream",
     "text": [
      "floHouVal =  206855.81690891474\n"
     ]
    },
    {
     "data": {
      "text/plain": [
       "5195     206900.0\n",
       "5565     206900.0\n",
       "5590     206800.0\n",
       "6233     206800.0\n",
       "7438     206900.0\n",
       "8315     206900.0\n",
       "11540    206900.0\n",
       "Name: median_house_value, dtype: float64"
      ]
     },
     "execution_count": 16,
     "metadata": {},
     "output_type": "execute_result"
    }
   ],
   "source": [
    "# see the values around the mean to double check\n",
    "lstChk = (dfrTra.median_house_value > floHouMea - 100) & (dfrTra.median_house_value < floHouMea + 100) \n",
    "print('floHouVal = ' , floHouMea)\n",
    "dfrTra.median_house_value[lstChk]"
   ]
  },
  {
   "cell_type": "code",
   "execution_count": 17,
   "id": "bc46d72d",
   "metadata": {},
   "outputs": [
    {
     "data": {
      "text/plain": [
       "5195     1\n",
       "5565     1\n",
       "5590     0\n",
       "6233     0\n",
       "7438     1\n",
       "8315     1\n",
       "11540    1\n",
       "Name: median_house_value, dtype: int32"
      ]
     },
     "execution_count": 17,
     "metadata": {},
     "output_type": "execute_result"
    }
   ],
   "source": [
    "# see our boolean for same recs\n",
    "(dfrTra.median_house_value > floHouMea).astype(int)[lstChk]"
   ]
  },
  {
   "cell_type": "code",
   "execution_count": 18,
   "id": "eb9dada5",
   "metadata": {},
   "outputs": [
    {
     "data": {
      "text/plain": [
       "count    12384.000000\n",
       "mean         0.407623\n",
       "std          0.491412\n",
       "min          0.000000\n",
       "25%          0.000000\n",
       "50%          0.000000\n",
       "75%          1.000000\n",
       "max          1.000000\n",
       "Name: above_average, dtype: float64"
      ]
     },
     "execution_count": 18,
     "metadata": {},
     "output_type": "execute_result"
    }
   ],
   "source": [
    "# add the column to dfr\n",
    "dfrTra['above_average'] = (dfrTra.median_house_value > floHouMea).astype(int)\n",
    "dfrTra['above_average'].describe()"
   ]
  },
  {
   "cell_type": "code",
   "execution_count": 19,
   "id": "52fb277e",
   "metadata": {},
   "outputs": [
    {
     "data": {
      "text/html": [
       "<div>\n",
       "<style scoped>\n",
       "    .dataframe tbody tr th:only-of-type {\n",
       "        vertical-align: middle;\n",
       "    }\n",
       "\n",
       "    .dataframe tbody tr th {\n",
       "        vertical-align: top;\n",
       "    }\n",
       "\n",
       "    .dataframe thead th {\n",
       "        text-align: right;\n",
       "    }\n",
       "</style>\n",
       "<table border=\"1\" class=\"dataframe\">\n",
       "  <thead>\n",
       "    <tr style=\"text-align: right;\">\n",
       "      <th></th>\n",
       "      <th>median_house_value</th>\n",
       "      <th>above_average</th>\n",
       "    </tr>\n",
       "  </thead>\n",
       "  <tbody>\n",
       "    <tr>\n",
       "      <th>0</th>\n",
       "      <td>241400.0</td>\n",
       "      <td>1</td>\n",
       "    </tr>\n",
       "    <tr>\n",
       "      <th>1</th>\n",
       "      <td>500001.0</td>\n",
       "      <td>1</td>\n",
       "    </tr>\n",
       "    <tr>\n",
       "      <th>2</th>\n",
       "      <td>64100.0</td>\n",
       "      <td>0</td>\n",
       "    </tr>\n",
       "    <tr>\n",
       "      <th>3</th>\n",
       "      <td>277200.0</td>\n",
       "      <td>1</td>\n",
       "    </tr>\n",
       "    <tr>\n",
       "      <th>4</th>\n",
       "      <td>417000.0</td>\n",
       "      <td>1</td>\n",
       "    </tr>\n",
       "    <tr>\n",
       "      <th>...</th>\n",
       "      <td>...</td>\n",
       "      <td>...</td>\n",
       "    </tr>\n",
       "    <tr>\n",
       "      <th>12379</th>\n",
       "      <td>154200.0</td>\n",
       "      <td>0</td>\n",
       "    </tr>\n",
       "    <tr>\n",
       "      <th>12380</th>\n",
       "      <td>146400.0</td>\n",
       "      <td>0</td>\n",
       "    </tr>\n",
       "    <tr>\n",
       "      <th>12381</th>\n",
       "      <td>215300.0</td>\n",
       "      <td>1</td>\n",
       "    </tr>\n",
       "    <tr>\n",
       "      <th>12382</th>\n",
       "      <td>139000.0</td>\n",
       "      <td>0</td>\n",
       "    </tr>\n",
       "    <tr>\n",
       "      <th>12383</th>\n",
       "      <td>181300.0</td>\n",
       "      <td>0</td>\n",
       "    </tr>\n",
       "  </tbody>\n",
       "</table>\n",
       "<p>12384 rows × 2 columns</p>\n",
       "</div>"
      ],
      "text/plain": [
       "       median_house_value  above_average\n",
       "0                241400.0              1\n",
       "1                500001.0              1\n",
       "2                 64100.0              0\n",
       "3                277200.0              1\n",
       "4                417000.0              1\n",
       "...                   ...            ...\n",
       "12379            154200.0              0\n",
       "12380            146400.0              0\n",
       "12381            215300.0              1\n",
       "12382            139000.0              0\n",
       "12383            181300.0              0\n",
       "\n",
       "[12384 rows x 2 columns]"
      ]
     },
     "execution_count": 19,
     "metadata": {},
     "output_type": "execute_result"
    }
   ],
   "source": [
    "dfrTra[ ['median_house_value' , 'above_average'] ]"
   ]
  },
  {
   "cell_type": "markdown",
   "id": "10276b88",
   "metadata": {},
   "source": [
    "### Add binary to VAL & TST too"
   ]
  },
  {
   "cell_type": "code",
   "execution_count": 20,
   "id": "d900385e",
   "metadata": {},
   "outputs": [
    {
     "data": {
      "text/plain": [
       "count    4128.000000\n",
       "mean        0.408188\n",
       "std         0.491558\n",
       "min         0.000000\n",
       "25%         0.000000\n",
       "50%         0.000000\n",
       "75%         1.000000\n",
       "max         1.000000\n",
       "Name: above_average, dtype: float64"
      ]
     },
     "execution_count": 20,
     "metadata": {},
     "output_type": "execute_result"
    }
   ],
   "source": [
    "# add the column to dfr VAL\n",
    "dfrVal['above_average'] = (dfrVal.median_house_value > floHouMea).astype(int)\n",
    "dfrVal['above_average'].describe()"
   ]
  },
  {
   "cell_type": "code",
   "execution_count": 21,
   "id": "e9117182",
   "metadata": {},
   "outputs": [
    {
     "data": {
      "text/plain": [
       "count    4128.000000\n",
       "mean        0.400194\n",
       "std         0.489997\n",
       "min         0.000000\n",
       "25%         0.000000\n",
       "50%         0.000000\n",
       "75%         1.000000\n",
       "max         1.000000\n",
       "Name: above_average, dtype: float64"
      ]
     },
     "execution_count": 21,
     "metadata": {},
     "output_type": "execute_result"
    }
   ],
   "source": [
    "# add the column to dfr TST\n",
    "dfrTst['above_average'] = (dfrTst.median_house_value > floHouMea).astype(int)\n",
    "dfrTst['above_average'].describe()"
   ]
  },
  {
   "cell_type": "markdown",
   "id": "c46cd8c7",
   "metadata": {},
   "source": [
    "### Save Target variable (Binary !)"
   ]
  },
  {
   "cell_type": "code",
   "execution_count": 22,
   "id": "b3880a2f",
   "metadata": {},
   "outputs": [],
   "source": [
    "# save Target\n",
    "# y_TraFul = dfrTraFul.above_average.values NOT calculated\n",
    "y_Tra = dfrTra.above_average.values\n",
    "y_Val = dfrVal.above_average.values\n",
    "y_Tst = dfrTst.above_average.values"
   ]
  },
  {
   "cell_type": "markdown",
   "id": "1d9edd9f",
   "metadata": {},
   "source": [
    "### Now we can (could? ;-) remove both Targets: median_house_value + above_average "
   ]
  },
  {
   "cell_type": "code",
   "execution_count": 23,
   "id": "c3f7ed8c",
   "metadata": {},
   "outputs": [],
   "source": [
    "# Remove target n all dfr\n",
    "#dfrTraFul.drop('median_house_value', axis=1 , inplace=True)\n",
    "dfrTra.drop('median_house_value', axis=1 , inplace=True)\n",
    "dfrVal.drop('median_house_value', axis=1 , inplace=True)\n",
    "dfrTst.drop('median_house_value', axis=1 , inplace=True)\n",
    "\n",
    "dfrTra.drop('above_average', axis=1 , inplace=True)\n",
    "dfrVal.drop('above_average', axis=1 , inplace=True)\n",
    "dfrTst.drop('above_average', axis=1 , inplace=True)\n"
   ]
  },
  {
   "cell_type": "markdown",
   "id": "0cc549fb",
   "metadata": {},
   "source": [
    "## Q2: Correlation"
   ]
  },
  {
   "cell_type": "code",
   "execution_count": 24,
   "id": "797121ac",
   "metadata": {},
   "outputs": [
    {
     "name": "stdout",
     "output_type": "stream",
     "text": [
      "(11, 11)\n"
     ]
    },
    {
     "data": {
      "text/html": [
       "<div>\n",
       "<style scoped>\n",
       "    .dataframe tbody tr th:only-of-type {\n",
       "        vertical-align: middle;\n",
       "    }\n",
       "\n",
       "    .dataframe tbody tr th {\n",
       "        vertical-align: top;\n",
       "    }\n",
       "\n",
       "    .dataframe thead th {\n",
       "        text-align: right;\n",
       "    }\n",
       "</style>\n",
       "<table border=\"1\" class=\"dataframe\">\n",
       "  <thead>\n",
       "    <tr style=\"text-align: right;\">\n",
       "      <th></th>\n",
       "      <th>latitude</th>\n",
       "      <th>longitude</th>\n",
       "      <th>housing_median_age</th>\n",
       "      <th>total_rooms</th>\n",
       "      <th>total_bedrooms</th>\n",
       "      <th>population</th>\n",
       "      <th>households</th>\n",
       "      <th>median_income</th>\n",
       "      <th>rooms_per_household</th>\n",
       "      <th>bedrooms_per_room</th>\n",
       "      <th>population_per_household</th>\n",
       "    </tr>\n",
       "  </thead>\n",
       "  <tbody>\n",
       "    <tr>\n",
       "      <th>latitude</th>\n",
       "      <td>1.000000</td>\n",
       "      <td>-0.925005</td>\n",
       "      <td>0.002477</td>\n",
       "      <td>-0.025914</td>\n",
       "      <td>-0.059730</td>\n",
       "      <td>-0.100272</td>\n",
       "      <td>-0.063529</td>\n",
       "      <td>-0.076805</td>\n",
       "      <td>0.119118</td>\n",
       "      <td>-0.124507</td>\n",
       "      <td>-0.002301</td>\n",
       "    </tr>\n",
       "    <tr>\n",
       "      <th>longitude</th>\n",
       "      <td>-0.925005</td>\n",
       "      <td>1.000000</td>\n",
       "      <td>-0.099812</td>\n",
       "      <td>0.036449</td>\n",
       "      <td>0.063840</td>\n",
       "      <td>0.091670</td>\n",
       "      <td>0.049762</td>\n",
       "      <td>-0.016426</td>\n",
       "      <td>-0.034814</td>\n",
       "      <td>0.102320</td>\n",
       "      <td>0.011022</td>\n",
       "    </tr>\n",
       "    <tr>\n",
       "      <th>housing_median_age</th>\n",
       "      <td>0.002477</td>\n",
       "      <td>-0.099812</td>\n",
       "      <td>1.000000</td>\n",
       "      <td>-0.363522</td>\n",
       "      <td>-0.324156</td>\n",
       "      <td>-0.292476</td>\n",
       "      <td>-0.306119</td>\n",
       "      <td>-0.119591</td>\n",
       "      <td>-0.181275</td>\n",
       "      <td>0.129456</td>\n",
       "      <td>0.012167</td>\n",
       "    </tr>\n",
       "    <tr>\n",
       "      <th>total_rooms</th>\n",
       "      <td>-0.025914</td>\n",
       "      <td>0.036449</td>\n",
       "      <td>-0.363522</td>\n",
       "      <td>1.000000</td>\n",
       "      <td>0.931546</td>\n",
       "      <td>0.853219</td>\n",
       "      <td>0.921441</td>\n",
       "      <td>0.198951</td>\n",
       "      <td>0.168926</td>\n",
       "      <td>-0.194185</td>\n",
       "      <td>-0.029452</td>\n",
       "    </tr>\n",
       "    <tr>\n",
       "      <th>total_bedrooms</th>\n",
       "      <td>-0.059730</td>\n",
       "      <td>0.063840</td>\n",
       "      <td>-0.324156</td>\n",
       "      <td>0.931546</td>\n",
       "      <td>1.000000</td>\n",
       "      <td>0.877340</td>\n",
       "      <td>0.979399</td>\n",
       "      <td>-0.009833</td>\n",
       "      <td>0.010381</td>\n",
       "      <td>0.078094</td>\n",
       "      <td>-0.034301</td>\n",
       "    </tr>\n",
       "    <tr>\n",
       "      <th>population</th>\n",
       "      <td>-0.100272</td>\n",
       "      <td>0.091670</td>\n",
       "      <td>-0.292476</td>\n",
       "      <td>0.853219</td>\n",
       "      <td>0.877340</td>\n",
       "      <td>1.000000</td>\n",
       "      <td>0.906841</td>\n",
       "      <td>-0.000849</td>\n",
       "      <td>-0.076210</td>\n",
       "      <td>0.031592</td>\n",
       "      <td>0.064998</td>\n",
       "    </tr>\n",
       "    <tr>\n",
       "      <th>households</th>\n",
       "      <td>-0.063529</td>\n",
       "      <td>0.049762</td>\n",
       "      <td>-0.306119</td>\n",
       "      <td>0.921441</td>\n",
       "      <td>0.979399</td>\n",
       "      <td>0.906841</td>\n",
       "      <td>1.000000</td>\n",
       "      <td>0.011925</td>\n",
       "      <td>-0.085832</td>\n",
       "      <td>0.058004</td>\n",
       "      <td>-0.032522</td>\n",
       "    </tr>\n",
       "    <tr>\n",
       "      <th>median_income</th>\n",
       "      <td>-0.076805</td>\n",
       "      <td>-0.016426</td>\n",
       "      <td>-0.119591</td>\n",
       "      <td>0.198951</td>\n",
       "      <td>-0.009833</td>\n",
       "      <td>-0.000849</td>\n",
       "      <td>0.011925</td>\n",
       "      <td>1.000000</td>\n",
       "      <td>0.394154</td>\n",
       "      <td>-0.616617</td>\n",
       "      <td>-0.000454</td>\n",
       "    </tr>\n",
       "    <tr>\n",
       "      <th>rooms_per_household</th>\n",
       "      <td>0.119118</td>\n",
       "      <td>-0.034814</td>\n",
       "      <td>-0.181275</td>\n",
       "      <td>0.168926</td>\n",
       "      <td>0.010381</td>\n",
       "      <td>-0.076210</td>\n",
       "      <td>-0.085832</td>\n",
       "      <td>0.394154</td>\n",
       "      <td>1.000000</td>\n",
       "      <td>-0.500589</td>\n",
       "      <td>0.001801</td>\n",
       "    </tr>\n",
       "    <tr>\n",
       "      <th>bedrooms_per_room</th>\n",
       "      <td>-0.124507</td>\n",
       "      <td>0.102320</td>\n",
       "      <td>0.129456</td>\n",
       "      <td>-0.194185</td>\n",
       "      <td>0.078094</td>\n",
       "      <td>0.031592</td>\n",
       "      <td>0.058004</td>\n",
       "      <td>-0.616617</td>\n",
       "      <td>-0.500589</td>\n",
       "      <td>1.000000</td>\n",
       "      <td>-0.002851</td>\n",
       "    </tr>\n",
       "    <tr>\n",
       "      <th>population_per_household</th>\n",
       "      <td>-0.002301</td>\n",
       "      <td>0.011022</td>\n",
       "      <td>0.012167</td>\n",
       "      <td>-0.029452</td>\n",
       "      <td>-0.034301</td>\n",
       "      <td>0.064998</td>\n",
       "      <td>-0.032522</td>\n",
       "      <td>-0.000454</td>\n",
       "      <td>0.001801</td>\n",
       "      <td>-0.002851</td>\n",
       "      <td>1.000000</td>\n",
       "    </tr>\n",
       "  </tbody>\n",
       "</table>\n",
       "</div>"
      ],
      "text/plain": [
       "                          latitude  longitude  housing_median_age  \\\n",
       "latitude                  1.000000  -0.925005            0.002477   \n",
       "longitude                -0.925005   1.000000           -0.099812   \n",
       "housing_median_age        0.002477  -0.099812            1.000000   \n",
       "total_rooms              -0.025914   0.036449           -0.363522   \n",
       "total_bedrooms           -0.059730   0.063840           -0.324156   \n",
       "population               -0.100272   0.091670           -0.292476   \n",
       "households               -0.063529   0.049762           -0.306119   \n",
       "median_income            -0.076805  -0.016426           -0.119591   \n",
       "rooms_per_household       0.119118  -0.034814           -0.181275   \n",
       "bedrooms_per_room        -0.124507   0.102320            0.129456   \n",
       "population_per_household -0.002301   0.011022            0.012167   \n",
       "\n",
       "                          total_rooms  total_bedrooms  population  households  \\\n",
       "latitude                    -0.025914       -0.059730   -0.100272   -0.063529   \n",
       "longitude                    0.036449        0.063840    0.091670    0.049762   \n",
       "housing_median_age          -0.363522       -0.324156   -0.292476   -0.306119   \n",
       "total_rooms                  1.000000        0.931546    0.853219    0.921441   \n",
       "total_bedrooms               0.931546        1.000000    0.877340    0.979399   \n",
       "population                   0.853219        0.877340    1.000000    0.906841   \n",
       "households                   0.921441        0.979399    0.906841    1.000000   \n",
       "median_income                0.198951       -0.009833   -0.000849    0.011925   \n",
       "rooms_per_household          0.168926        0.010381   -0.076210   -0.085832   \n",
       "bedrooms_per_room           -0.194185        0.078094    0.031592    0.058004   \n",
       "population_per_household    -0.029452       -0.034301    0.064998   -0.032522   \n",
       "\n",
       "                          median_income  rooms_per_household  \\\n",
       "latitude                      -0.076805             0.119118   \n",
       "longitude                     -0.016426            -0.034814   \n",
       "housing_median_age            -0.119591            -0.181275   \n",
       "total_rooms                    0.198951             0.168926   \n",
       "total_bedrooms                -0.009833             0.010381   \n",
       "population                    -0.000849            -0.076210   \n",
       "households                     0.011925            -0.085832   \n",
       "median_income                  1.000000             0.394154   \n",
       "rooms_per_household            0.394154             1.000000   \n",
       "bedrooms_per_room             -0.616617            -0.500589   \n",
       "population_per_household      -0.000454             0.001801   \n",
       "\n",
       "                          bedrooms_per_room  population_per_household  \n",
       "latitude                          -0.124507                 -0.002301  \n",
       "longitude                          0.102320                  0.011022  \n",
       "housing_median_age                 0.129456                  0.012167  \n",
       "total_rooms                       -0.194185                 -0.029452  \n",
       "total_bedrooms                     0.078094                 -0.034301  \n",
       "population                         0.031592                  0.064998  \n",
       "households                         0.058004                 -0.032522  \n",
       "median_income                     -0.616617                 -0.000454  \n",
       "rooms_per_household               -0.500589                  0.001801  \n",
       "bedrooms_per_room                  1.000000                 -0.002851  \n",
       "population_per_household          -0.002851                  1.000000  "
      ]
     },
     "execution_count": 24,
     "metadata": {},
     "output_type": "execute_result"
    }
   ],
   "source": [
    "dfrTraCor = dfrTra.corr()\n",
    "type(dfrTraCor)\n",
    "print(dfrTraCor.shape)\n",
    "dfrTraCor"
   ]
  },
  {
   "cell_type": "code",
   "execution_count": 25,
   "id": "be0ae246",
   "metadata": {},
   "outputs": [
    {
     "data": {
      "text/plain": [
       "total_bedrooms            households                  0.979399\n",
       "total_rooms               total_bedrooms              0.931546\n",
       "                          households                  0.921441\n",
       "households                population                  0.906841\n",
       "population                total_bedrooms              0.877340\n",
       "                          total_rooms                 0.853219\n",
       "rooms_per_household       median_income               0.394154\n",
       "total_rooms               median_income               0.198951\n",
       "                          rooms_per_household         0.168926\n",
       "housing_median_age        bedrooms_per_room           0.129456\n",
       "rooms_per_household       latitude                    0.119118\n",
       "longitude                 bedrooms_per_room           0.102320\n",
       "population                longitude                   0.091670\n",
       "bedrooms_per_room         total_bedrooms              0.078094\n",
       "population                population_per_household    0.064998\n",
       "total_bedrooms            longitude                   0.063840\n",
       "households                bedrooms_per_room           0.058004\n",
       "longitude                 households                  0.049762\n",
       "total_rooms               longitude                   0.036449\n",
       "population                bedrooms_per_room           0.031592\n",
       "housing_median_age        population_per_household    0.012167\n",
       "households                median_income               0.011925\n",
       "longitude                 population_per_household    0.011022\n",
       "rooms_per_household       total_bedrooms              0.010381\n",
       "latitude                  housing_median_age          0.002477\n",
       "rooms_per_household       population_per_household    0.001801\n",
       "median_income             population_per_household   -0.000454\n",
       "population                median_income              -0.000849\n",
       "population_per_household  latitude                   -0.002301\n",
       "bedrooms_per_room         population_per_household   -0.002851\n",
       "median_income             total_bedrooms             -0.009833\n",
       "                          longitude                  -0.016426\n",
       "latitude                  total_rooms                -0.025914\n",
       "population_per_household  total_rooms                -0.029452\n",
       "households                population_per_household   -0.032522\n",
       "total_bedrooms            population_per_household   -0.034301\n",
       "longitude                 rooms_per_household        -0.034814\n",
       "total_bedrooms            latitude                   -0.059730\n",
       "latitude                  households                 -0.063529\n",
       "population                rooms_per_household        -0.076210\n",
       "median_income             latitude                   -0.076805\n",
       "households                rooms_per_household        -0.085832\n",
       "housing_median_age        longitude                  -0.099812\n",
       "population                latitude                   -0.100272\n",
       "median_income             housing_median_age         -0.119591\n",
       "latitude                  bedrooms_per_room          -0.124507\n",
       "housing_median_age        rooms_per_household        -0.181275\n",
       "bedrooms_per_room         total_rooms                -0.194185\n",
       "population                housing_median_age         -0.292476\n",
       "households                housing_median_age         -0.306119\n",
       "housing_median_age        total_bedrooms             -0.324156\n",
       "total_rooms               housing_median_age         -0.363522\n",
       "rooms_per_household       bedrooms_per_room          -0.500589\n",
       "bedrooms_per_room         median_income              -0.616617\n",
       "longitude                 latitude                   -0.925005\n",
       "latitude                  latitude                         NaN\n",
       "dtype: float64"
      ]
     },
     "execution_count": 25,
     "metadata": {},
     "output_type": "execute_result"
    }
   ],
   "source": [
    "# Source= https://www.nbshare.io/notebook/394171759/How-To-Use-Pandas-Correlation-Matrix/\n",
    "dfrTraCor[dfrTraCor < 1].unstack().transpose().sort_values( ascending=False).drop_duplicates()"
   ]
  },
  {
   "cell_type": "code",
   "execution_count": 26,
   "id": "0df57aea",
   "metadata": {},
   "outputs": [
    {
     "data": {
      "text/plain": [
       "latitude                  longitude             -0.925005\n",
       "                          housing_median_age     0.002477\n",
       "                          total_rooms           -0.025914\n",
       "                          total_bedrooms        -0.059730\n",
       "                          population            -0.100272\n",
       "                                                   ...   \n",
       "population_per_household  population             0.064998\n",
       "                          households            -0.032522\n",
       "                          median_income         -0.000454\n",
       "                          rooms_per_household    0.001801\n",
       "                          bedrooms_per_room     -0.002851\n",
       "Length: 110, dtype: float64"
      ]
     },
     "execution_count": 26,
     "metadata": {},
     "output_type": "execute_result"
    }
   ],
   "source": [
    "# convert to unstack serie\n",
    "serTraCorUst = dfrTraCor.unstack()\n",
    "# drop the diagonbales = value = 1 (keep NOT + 1)\n",
    "serTraCorUst = serTraCorUst[~(serTraCorUst==1)]\n",
    "serTraCorUst"
   ]
  },
  {
   "cell_type": "code",
   "execution_count": 27,
   "id": "5e6affa8",
   "metadata": {},
   "outputs": [
    {
     "data": {
      "text/plain": [
       "households      total_bedrooms    0.979399\n",
       "total_bedrooms  total_rooms       0.931546\n",
       "latitude        longitude         0.925005\n",
       "households      total_rooms       0.921441\n",
       "                population        0.906841\n",
       "dtype: float64"
      ]
     },
     "execution_count": 27,
     "metadata": {},
     "output_type": "execute_result"
    }
   ],
   "source": [
    "# Correlations in ABS value sorted desc - Top\n",
    "#serTraCorUst.abs().sort_values( ascending=False).drop_duplicates()\n",
    "serTraCorUst.abs().sort_values( ascending=False).drop_duplicates().head()"
   ]
  },
  {
   "cell_type": "markdown",
   "id": "14cb0b79",
   "metadata": {},
   "source": [
    "### Q2 = households      total_bedrooms    0.979399"
   ]
  },
  {
   "cell_type": "markdown",
   "id": "d656c7fd",
   "metadata": {},
   "source": [
    "# Q3 Mutual information"
   ]
  },
  {
   "cell_type": "code",
   "execution_count": 28,
   "id": "119cc55b",
   "metadata": {},
   "outputs": [
    {
     "data": {
      "text/html": [
       "<div>\n",
       "<style scoped>\n",
       "    .dataframe tbody tr th:only-of-type {\n",
       "        vertical-align: middle;\n",
       "    }\n",
       "\n",
       "    .dataframe tbody tr th {\n",
       "        vertical-align: top;\n",
       "    }\n",
       "\n",
       "    .dataframe thead th {\n",
       "        text-align: right;\n",
       "    }\n",
       "</style>\n",
       "<table border=\"1\" class=\"dataframe\">\n",
       "  <thead>\n",
       "    <tr style=\"text-align: right;\">\n",
       "      <th></th>\n",
       "      <th>latitude</th>\n",
       "      <th>longitude</th>\n",
       "      <th>housing_median_age</th>\n",
       "      <th>total_rooms</th>\n",
       "      <th>total_bedrooms</th>\n",
       "      <th>population</th>\n",
       "      <th>households</th>\n",
       "      <th>median_income</th>\n",
       "      <th>ocean_proximity</th>\n",
       "      <th>rooms_per_household</th>\n",
       "      <th>bedrooms_per_room</th>\n",
       "      <th>population_per_household</th>\n",
       "    </tr>\n",
       "  </thead>\n",
       "  <tbody>\n",
       "    <tr>\n",
       "      <th>0</th>\n",
       "      <td>34.43</td>\n",
       "      <td>-119.67</td>\n",
       "      <td>39.0</td>\n",
       "      <td>1467.0</td>\n",
       "      <td>381.0</td>\n",
       "      <td>1404.0</td>\n",
       "      <td>374.0</td>\n",
       "      <td>2.3681</td>\n",
       "      <td>&lt;1H OCEAN</td>\n",
       "      <td>3.922460</td>\n",
       "      <td>0.259714</td>\n",
       "      <td>3.754011</td>\n",
       "    </tr>\n",
       "    <tr>\n",
       "      <th>1</th>\n",
       "      <td>33.74</td>\n",
       "      <td>-118.32</td>\n",
       "      <td>24.0</td>\n",
       "      <td>6097.0</td>\n",
       "      <td>794.0</td>\n",
       "      <td>2248.0</td>\n",
       "      <td>806.0</td>\n",
       "      <td>10.1357</td>\n",
       "      <td>NEAR OCEAN</td>\n",
       "      <td>7.564516</td>\n",
       "      <td>0.130228</td>\n",
       "      <td>2.789082</td>\n",
       "    </tr>\n",
       "    <tr>\n",
       "      <th>2</th>\n",
       "      <td>39.13</td>\n",
       "      <td>-121.62</td>\n",
       "      <td>41.0</td>\n",
       "      <td>1317.0</td>\n",
       "      <td>309.0</td>\n",
       "      <td>856.0</td>\n",
       "      <td>337.0</td>\n",
       "      <td>1.6719</td>\n",
       "      <td>INLAND</td>\n",
       "      <td>3.908012</td>\n",
       "      <td>0.234624</td>\n",
       "      <td>2.540059</td>\n",
       "    </tr>\n",
       "    <tr>\n",
       "      <th>3</th>\n",
       "      <td>34.24</td>\n",
       "      <td>-118.63</td>\n",
       "      <td>9.0</td>\n",
       "      <td>4759.0</td>\n",
       "      <td>924.0</td>\n",
       "      <td>1884.0</td>\n",
       "      <td>915.0</td>\n",
       "      <td>4.8333</td>\n",
       "      <td>&lt;1H OCEAN</td>\n",
       "      <td>5.201093</td>\n",
       "      <td>0.194158</td>\n",
       "      <td>2.059016</td>\n",
       "    </tr>\n",
       "    <tr>\n",
       "      <th>4</th>\n",
       "      <td>37.52</td>\n",
       "      <td>-122.30</td>\n",
       "      <td>38.0</td>\n",
       "      <td>2769.0</td>\n",
       "      <td>387.0</td>\n",
       "      <td>994.0</td>\n",
       "      <td>395.0</td>\n",
       "      <td>5.5902</td>\n",
       "      <td>NEAR OCEAN</td>\n",
       "      <td>7.010127</td>\n",
       "      <td>0.139762</td>\n",
       "      <td>2.516456</td>\n",
       "    </tr>\n",
       "    <tr>\n",
       "      <th>...</th>\n",
       "      <td>...</td>\n",
       "      <td>...</td>\n",
       "      <td>...</td>\n",
       "      <td>...</td>\n",
       "      <td>...</td>\n",
       "      <td>...</td>\n",
       "      <td>...</td>\n",
       "      <td>...</td>\n",
       "      <td>...</td>\n",
       "      <td>...</td>\n",
       "      <td>...</td>\n",
       "      <td>...</td>\n",
       "    </tr>\n",
       "    <tr>\n",
       "      <th>12379</th>\n",
       "      <td>33.79</td>\n",
       "      <td>-118.29</td>\n",
       "      <td>16.0</td>\n",
       "      <td>1867.0</td>\n",
       "      <td>571.0</td>\n",
       "      <td>951.0</td>\n",
       "      <td>498.0</td>\n",
       "      <td>3.3427</td>\n",
       "      <td>&lt;1H OCEAN</td>\n",
       "      <td>3.748996</td>\n",
       "      <td>0.305838</td>\n",
       "      <td>1.909639</td>\n",
       "    </tr>\n",
       "    <tr>\n",
       "      <th>12380</th>\n",
       "      <td>38.04</td>\n",
       "      <td>-121.34</td>\n",
       "      <td>16.0</td>\n",
       "      <td>3295.0</td>\n",
       "      <td>565.0</td>\n",
       "      <td>2279.0</td>\n",
       "      <td>576.0</td>\n",
       "      <td>3.6083</td>\n",
       "      <td>INLAND</td>\n",
       "      <td>5.720486</td>\n",
       "      <td>0.171472</td>\n",
       "      <td>3.956597</td>\n",
       "    </tr>\n",
       "    <tr>\n",
       "      <th>12381</th>\n",
       "      <td>32.74</td>\n",
       "      <td>-116.99</td>\n",
       "      <td>18.0</td>\n",
       "      <td>3341.0</td>\n",
       "      <td>611.0</td>\n",
       "      <td>1952.0</td>\n",
       "      <td>602.0</td>\n",
       "      <td>3.9844</td>\n",
       "      <td>&lt;1H OCEAN</td>\n",
       "      <td>5.549834</td>\n",
       "      <td>0.182879</td>\n",
       "      <td>3.242525</td>\n",
       "    </tr>\n",
       "    <tr>\n",
       "      <th>12382</th>\n",
       "      <td>33.84</td>\n",
       "      <td>-117.87</td>\n",
       "      <td>16.0</td>\n",
       "      <td>1545.0</td>\n",
       "      <td>354.0</td>\n",
       "      <td>730.0</td>\n",
       "      <td>350.0</td>\n",
       "      <td>4.5112</td>\n",
       "      <td>&lt;1H OCEAN</td>\n",
       "      <td>4.414286</td>\n",
       "      <td>0.229126</td>\n",
       "      <td>2.085714</td>\n",
       "    </tr>\n",
       "    <tr>\n",
       "      <th>12383</th>\n",
       "      <td>33.91</td>\n",
       "      <td>-118.32</td>\n",
       "      <td>35.0</td>\n",
       "      <td>940.0</td>\n",
       "      <td>197.0</td>\n",
       "      <td>640.0</td>\n",
       "      <td>215.0</td>\n",
       "      <td>4.2000</td>\n",
       "      <td>&lt;1H OCEAN</td>\n",
       "      <td>4.372093</td>\n",
       "      <td>0.209574</td>\n",
       "      <td>2.976744</td>\n",
       "    </tr>\n",
       "  </tbody>\n",
       "</table>\n",
       "<p>12384 rows × 12 columns</p>\n",
       "</div>"
      ],
      "text/plain": [
       "       latitude  longitude  housing_median_age  total_rooms  total_bedrooms  \\\n",
       "0         34.43    -119.67                39.0       1467.0           381.0   \n",
       "1         33.74    -118.32                24.0       6097.0           794.0   \n",
       "2         39.13    -121.62                41.0       1317.0           309.0   \n",
       "3         34.24    -118.63                 9.0       4759.0           924.0   \n",
       "4         37.52    -122.30                38.0       2769.0           387.0   \n",
       "...         ...        ...                 ...          ...             ...   \n",
       "12379     33.79    -118.29                16.0       1867.0           571.0   \n",
       "12380     38.04    -121.34                16.0       3295.0           565.0   \n",
       "12381     32.74    -116.99                18.0       3341.0           611.0   \n",
       "12382     33.84    -117.87                16.0       1545.0           354.0   \n",
       "12383     33.91    -118.32                35.0        940.0           197.0   \n",
       "\n",
       "       population  households  median_income ocean_proximity  \\\n",
       "0          1404.0       374.0         2.3681       <1H OCEAN   \n",
       "1          2248.0       806.0        10.1357      NEAR OCEAN   \n",
       "2           856.0       337.0         1.6719          INLAND   \n",
       "3          1884.0       915.0         4.8333       <1H OCEAN   \n",
       "4           994.0       395.0         5.5902      NEAR OCEAN   \n",
       "...           ...         ...            ...             ...   \n",
       "12379       951.0       498.0         3.3427       <1H OCEAN   \n",
       "12380      2279.0       576.0         3.6083          INLAND   \n",
       "12381      1952.0       602.0         3.9844       <1H OCEAN   \n",
       "12382       730.0       350.0         4.5112       <1H OCEAN   \n",
       "12383       640.0       215.0         4.2000       <1H OCEAN   \n",
       "\n",
       "       rooms_per_household  bedrooms_per_room  population_per_household  \n",
       "0                 3.922460           0.259714                  3.754011  \n",
       "1                 7.564516           0.130228                  2.789082  \n",
       "2                 3.908012           0.234624                  2.540059  \n",
       "3                 5.201093           0.194158                  2.059016  \n",
       "4                 7.010127           0.139762                  2.516456  \n",
       "...                    ...                ...                       ...  \n",
       "12379             3.748996           0.305838                  1.909639  \n",
       "12380             5.720486           0.171472                  3.956597  \n",
       "12381             5.549834           0.182879                  3.242525  \n",
       "12382             4.414286           0.229126                  2.085714  \n",
       "12383             4.372093           0.209574                  2.976744  \n",
       "\n",
       "[12384 rows x 12 columns]"
      ]
     },
     "execution_count": 28,
     "metadata": {},
     "output_type": "execute_result"
    }
   ],
   "source": [
    "dfrTra"
   ]
  },
  {
   "cell_type": "code",
   "execution_count": 29,
   "id": "4646e5da",
   "metadata": {
    "scrolled": true
   },
   "outputs": [
    {
     "data": {
      "text/plain": [
       "<1H OCEAN     5472\n",
       "INLAND        3955\n",
       "NEAR OCEAN    1558\n",
       "NEAR BAY      1397\n",
       "ISLAND           2\n",
       "Name: ocean_proximity, dtype: int64"
      ]
     },
     "execution_count": 29,
     "metadata": {},
     "output_type": "execute_result"
    }
   ],
   "source": [
    "# Our Categorical Feature\n",
    "dfrTra.ocean_proximity.value_counts()"
   ]
  },
  {
   "cell_type": "code",
   "execution_count": 30,
   "id": "6a237bf7",
   "metadata": {},
   "outputs": [
    {
     "data": {
      "text/plain": [
       "0.1"
      ]
     },
     "execution_count": 30,
     "metadata": {},
     "output_type": "execute_result"
    }
   ],
   "source": [
    "# M. importance of ocean_proximity on above_average (not any more in dfrTra)\n",
    "mutual_info_score(dfrTra.ocean_proximity, y_Tra).round(2)"
   ]
  },
  {
   "cell_type": "markdown",
   "id": "a8035c88",
   "metadata": {},
   "source": [
    "## Q3 = 0.10"
   ]
  },
  {
   "cell_type": "markdown",
   "id": "a509a19d",
   "metadata": {},
   "source": [
    "# Q4: Logistic Reg"
   ]
  },
  {
   "cell_type": "code",
   "execution_count": 31,
   "id": "c1f67ba6",
   "metadata": {},
   "outputs": [
    {
     "data": {
      "text/html": [
       "<div>\n",
       "<style scoped>\n",
       "    .dataframe tbody tr th:only-of-type {\n",
       "        vertical-align: middle;\n",
       "    }\n",
       "\n",
       "    .dataframe tbody tr th {\n",
       "        vertical-align: top;\n",
       "    }\n",
       "\n",
       "    .dataframe thead th {\n",
       "        text-align: right;\n",
       "    }\n",
       "</style>\n",
       "<table border=\"1\" class=\"dataframe\">\n",
       "  <thead>\n",
       "    <tr style=\"text-align: right;\">\n",
       "      <th></th>\n",
       "      <th>latitude</th>\n",
       "      <th>longitude</th>\n",
       "      <th>housing_median_age</th>\n",
       "      <th>total_rooms</th>\n",
       "      <th>total_bedrooms</th>\n",
       "      <th>population</th>\n",
       "      <th>households</th>\n",
       "      <th>median_income</th>\n",
       "      <th>rooms_per_household</th>\n",
       "      <th>bedrooms_per_room</th>\n",
       "      <th>population_per_household</th>\n",
       "    </tr>\n",
       "  </thead>\n",
       "  <tbody>\n",
       "    <tr>\n",
       "      <th>count</th>\n",
       "      <td>12384.000000</td>\n",
       "      <td>12384.000000</td>\n",
       "      <td>12384.000000</td>\n",
       "      <td>12384.000000</td>\n",
       "      <td>12384.000000</td>\n",
       "      <td>12384.000000</td>\n",
       "      <td>12384.000000</td>\n",
       "      <td>12384.000000</td>\n",
       "      <td>12384.000000</td>\n",
       "      <td>12384.000000</td>\n",
       "      <td>12384.000000</td>\n",
       "    </tr>\n",
       "    <tr>\n",
       "      <th>mean</th>\n",
       "      <td>35.642003</td>\n",
       "      <td>-119.579831</td>\n",
       "      <td>28.585837</td>\n",
       "      <td>2633.748950</td>\n",
       "      <td>537.035368</td>\n",
       "      <td>1427.289648</td>\n",
       "      <td>499.044089</td>\n",
       "      <td>3.870090</td>\n",
       "      <td>5.411837</td>\n",
       "      <td>0.213091</td>\n",
       "      <td>3.033264</td>\n",
       "    </tr>\n",
       "    <tr>\n",
       "      <th>std</th>\n",
       "      <td>2.130977</td>\n",
       "      <td>2.005077</td>\n",
       "      <td>12.608072</td>\n",
       "      <td>2137.057303</td>\n",
       "      <td>412.252061</td>\n",
       "      <td>1140.978664</td>\n",
       "      <td>375.749834</td>\n",
       "      <td>1.888237</td>\n",
       "      <td>2.077484</td>\n",
       "      <td>0.058301</td>\n",
       "      <td>7.074410</td>\n",
       "    </tr>\n",
       "    <tr>\n",
       "      <th>min</th>\n",
       "      <td>32.560000</td>\n",
       "      <td>-124.350000</td>\n",
       "      <td>1.000000</td>\n",
       "      <td>2.000000</td>\n",
       "      <td>2.000000</td>\n",
       "      <td>3.000000</td>\n",
       "      <td>2.000000</td>\n",
       "      <td>0.499900</td>\n",
       "      <td>0.888889</td>\n",
       "      <td>0.100000</td>\n",
       "      <td>0.692308</td>\n",
       "    </tr>\n",
       "    <tr>\n",
       "      <th>25%</th>\n",
       "      <td>33.930000</td>\n",
       "      <td>-121.800000</td>\n",
       "      <td>18.000000</td>\n",
       "      <td>1461.000000</td>\n",
       "      <td>298.000000</td>\n",
       "      <td>790.000000</td>\n",
       "      <td>282.000000</td>\n",
       "      <td>2.562500</td>\n",
       "      <td>4.443167</td>\n",
       "      <td>0.175329</td>\n",
       "      <td>2.427379</td>\n",
       "    </tr>\n",
       "    <tr>\n",
       "      <th>50%</th>\n",
       "      <td>34.260000</td>\n",
       "      <td>-118.500000</td>\n",
       "      <td>29.000000</td>\n",
       "      <td>2127.000000</td>\n",
       "      <td>438.000000</td>\n",
       "      <td>1170.000000</td>\n",
       "      <td>412.000000</td>\n",
       "      <td>3.552100</td>\n",
       "      <td>5.223123</td>\n",
       "      <td>0.203165</td>\n",
       "      <td>2.816215</td>\n",
       "    </tr>\n",
       "    <tr>\n",
       "      <th>75%</th>\n",
       "      <td>37.720000</td>\n",
       "      <td>-118.010000</td>\n",
       "      <td>37.000000</td>\n",
       "      <td>3150.000000</td>\n",
       "      <td>647.250000</td>\n",
       "      <td>1726.000000</td>\n",
       "      <td>606.000000</td>\n",
       "      <td>4.740400</td>\n",
       "      <td>6.046054</td>\n",
       "      <td>0.239753</td>\n",
       "      <td>3.280020</td>\n",
       "    </tr>\n",
       "    <tr>\n",
       "      <th>max</th>\n",
       "      <td>41.950000</td>\n",
       "      <td>-114.310000</td>\n",
       "      <td>52.000000</td>\n",
       "      <td>39320.000000</td>\n",
       "      <td>6445.000000</td>\n",
       "      <td>35682.000000</td>\n",
       "      <td>6082.000000</td>\n",
       "      <td>15.000100</td>\n",
       "      <td>61.812500</td>\n",
       "      <td>1.000000</td>\n",
       "      <td>599.714286</td>\n",
       "    </tr>\n",
       "  </tbody>\n",
       "</table>\n",
       "</div>"
      ],
      "text/plain": [
       "           latitude     longitude  housing_median_age   total_rooms  \\\n",
       "count  12384.000000  12384.000000        12384.000000  12384.000000   \n",
       "mean      35.642003   -119.579831           28.585837   2633.748950   \n",
       "std        2.130977      2.005077           12.608072   2137.057303   \n",
       "min       32.560000   -124.350000            1.000000      2.000000   \n",
       "25%       33.930000   -121.800000           18.000000   1461.000000   \n",
       "50%       34.260000   -118.500000           29.000000   2127.000000   \n",
       "75%       37.720000   -118.010000           37.000000   3150.000000   \n",
       "max       41.950000   -114.310000           52.000000  39320.000000   \n",
       "\n",
       "       total_bedrooms    population    households  median_income  \\\n",
       "count    12384.000000  12384.000000  12384.000000   12384.000000   \n",
       "mean       537.035368   1427.289648    499.044089       3.870090   \n",
       "std        412.252061   1140.978664    375.749834       1.888237   \n",
       "min          2.000000      3.000000      2.000000       0.499900   \n",
       "25%        298.000000    790.000000    282.000000       2.562500   \n",
       "50%        438.000000   1170.000000    412.000000       3.552100   \n",
       "75%        647.250000   1726.000000    606.000000       4.740400   \n",
       "max       6445.000000  35682.000000   6082.000000      15.000100   \n",
       "\n",
       "       rooms_per_household  bedrooms_per_room  population_per_household  \n",
       "count         12384.000000       12384.000000              12384.000000  \n",
       "mean              5.411837           0.213091                  3.033264  \n",
       "std               2.077484           0.058301                  7.074410  \n",
       "min               0.888889           0.100000                  0.692308  \n",
       "25%               4.443167           0.175329                  2.427379  \n",
       "50%               5.223123           0.203165                  2.816215  \n",
       "75%               6.046054           0.239753                  3.280020  \n",
       "max              61.812500           1.000000                599.714286  "
      ]
     },
     "execution_count": 31,
     "metadata": {},
     "output_type": "execute_result"
    }
   ],
   "source": [
    "dfrTra.describe()"
   ]
  },
  {
   "cell_type": "code",
   "execution_count": 32,
   "id": "ef1f8e71",
   "metadata": {},
   "outputs": [
    {
     "data": {
      "text/plain": [
       "<1H OCEAN     5472\n",
       "INLAND        3955\n",
       "NEAR OCEAN    1558\n",
       "NEAR BAY      1397\n",
       "ISLAND           2\n",
       "Name: ocean_proximity, dtype: int64"
      ]
     },
     "execution_count": 32,
     "metadata": {},
     "output_type": "execute_result"
    }
   ],
   "source": [
    "# Our Categorical Feature\n",
    "dfrTra.ocean_proximity.value_counts()"
   ]
  },
  {
   "cell_type": "code",
   "execution_count": 33,
   "id": "b6425a34",
   "metadata": {},
   "outputs": [],
   "source": [
    "# create an instance of dictvectorizer\n",
    "#                    no sparse matrixes\n",
    "dvt = DictVectorizer(sparse=False)"
   ]
  },
  {
   "cell_type": "code",
   "execution_count": 34,
   "id": "cd83df05",
   "metadata": {},
   "outputs": [
    {
     "data": {
      "text/plain": [
       "[{'latitude': 34.19,\n",
       "  'longitude': -118.3,\n",
       "  'housing_median_age': 14.0,\n",
       "  'total_rooms': 3615.0,\n",
       "  'total_bedrooms': 913.0,\n",
       "  'population': 1924.0,\n",
       "  'households': 852.0,\n",
       "  'median_income': 3.5083,\n",
       "  'ocean_proximity': '<1H OCEAN',\n",
       "  'rooms_per_household': 4.242957746478873,\n",
       "  'bedrooms_per_room': 0.25255878284923927,\n",
       "  'population_per_household': 2.2582159624413145},\n",
       " {'latitude': 37.58,\n",
       "  'longitude': -122.0,\n",
       "  'housing_median_age': 6.0,\n",
       "  'total_rooms': 4405.0,\n",
       "  'total_bedrooms': 717.0,\n",
       "  'population': 2071.0,\n",
       "  'households': 688.0,\n",
       "  'median_income': 5.8151,\n",
       "  'ocean_proximity': '<1H OCEAN',\n",
       "  'rooms_per_household': 6.402616279069767,\n",
       "  'bedrooms_per_room': 0.16276958002270148,\n",
       "  'population_per_household': 3.010174418604651}]"
      ]
     },
     "execution_count": 34,
     "metadata": {},
     "output_type": "execute_result"
    }
   ],
   "source": [
    "# create a dictionary with all fileds and values - one entry by record\n",
    "dicTra = dfrTra.to_dict(orient='records')\n",
    "dicTra[25:27]"
   ]
  },
  {
   "cell_type": "code",
   "execution_count": 35,
   "id": "c3bc42ae",
   "metadata": {},
   "outputs": [
    {
     "data": {
      "text/plain": [
       "(12384, 16)"
      ]
     },
     "execution_count": 35,
     "metadata": {},
     "output_type": "execute_result"
    }
   ],
   "source": [
    "X_Tra = dvt.fit_transform(dicTra)\n",
    "X_Tra.shape"
   ]
  },
  {
   "cell_type": "code",
   "execution_count": 36,
   "id": "5206e559",
   "metadata": {},
   "outputs": [
    {
     "data": {
      "text/plain": [
       "array(['bedrooms_per_room', 'households', 'housing_median_age',\n",
       "       'latitude', 'longitude', 'median_income',\n",
       "       'ocean_proximity=<1H OCEAN', 'ocean_proximity=INLAND',\n",
       "       'ocean_proximity=ISLAND', 'ocean_proximity=NEAR BAY',\n",
       "       'ocean_proximity=NEAR OCEAN', 'population',\n",
       "       'population_per_household', 'rooms_per_household',\n",
       "       'total_bedrooms', 'total_rooms'], dtype=object)"
      ]
     },
     "execution_count": 36,
     "metadata": {},
     "output_type": "execute_result"
    }
   ],
   "source": [
    "# to Check the names of the column\n",
    "dvt.get_feature_names_out()"
   ]
  },
  {
   "cell_type": "code",
   "execution_count": 37,
   "id": "25df3120",
   "metadata": {},
   "outputs": [
    {
     "data": {
      "text/plain": [
       "(4128, 16)"
      ]
     },
     "execution_count": 37,
     "metadata": {},
     "output_type": "execute_result"
    }
   ],
   "source": [
    "# same for VAL dataset\n",
    "dicVal = dfrVal.to_dict(orient='records')\n",
    "X_Val = dvt.transform(dicVal)\n",
    "X_Val.shape"
   ]
  },
  {
   "cell_type": "markdown",
   "id": "68c20284",
   "metadata": {},
   "source": [
    "## Log Reg"
   ]
  },
  {
   "cell_type": "code",
   "execution_count": 38,
   "id": "48e6053d",
   "metadata": {},
   "outputs": [
    {
     "data": {
      "text/plain": [
       "(0, 1)"
      ]
     },
     "execution_count": 38,
     "metadata": {},
     "output_type": "execute_result"
    }
   ],
   "source": [
    "# Double chek LOG Reg Target is binary {0,1} id not LofRev will run forever !!!!\n",
    "y_Tra.min() , y_Tra.max()"
   ]
  },
  {
   "cell_type": "code",
   "execution_count": 39,
   "id": "31460cc2",
   "metadata": {},
   "outputs": [
    {
     "data": {
      "text/plain": [
       "((12384, 16), (12384,))"
      ]
     },
     "execution_count": 39,
     "metadata": {},
     "output_type": "execute_result"
    }
   ],
   "source": [
    "X_Tra.shape , y_Tra.shape"
   ]
  },
  {
   "cell_type": "code",
   "execution_count": 40,
   "id": "301fa240",
   "metadata": {},
   "outputs": [
    {
     "data": {
      "text/html": [
       "<style>#sk-container-id-1 {color: black;background-color: white;}#sk-container-id-1 pre{padding: 0;}#sk-container-id-1 div.sk-toggleable {background-color: white;}#sk-container-id-1 label.sk-toggleable__label {cursor: pointer;display: block;width: 100%;margin-bottom: 0;padding: 0.3em;box-sizing: border-box;text-align: center;}#sk-container-id-1 label.sk-toggleable__label-arrow:before {content: \"▸\";float: left;margin-right: 0.25em;color: #696969;}#sk-container-id-1 label.sk-toggleable__label-arrow:hover:before {color: black;}#sk-container-id-1 div.sk-estimator:hover label.sk-toggleable__label-arrow:before {color: black;}#sk-container-id-1 div.sk-toggleable__content {max-height: 0;max-width: 0;overflow: hidden;text-align: left;background-color: #f0f8ff;}#sk-container-id-1 div.sk-toggleable__content pre {margin: 0.2em;color: black;border-radius: 0.25em;background-color: #f0f8ff;}#sk-container-id-1 input.sk-toggleable__control:checked~div.sk-toggleable__content {max-height: 200px;max-width: 100%;overflow: auto;}#sk-container-id-1 input.sk-toggleable__control:checked~label.sk-toggleable__label-arrow:before {content: \"▾\";}#sk-container-id-1 div.sk-estimator input.sk-toggleable__control:checked~label.sk-toggleable__label {background-color: #d4ebff;}#sk-container-id-1 div.sk-label input.sk-toggleable__control:checked~label.sk-toggleable__label {background-color: #d4ebff;}#sk-container-id-1 input.sk-hidden--visually {border: 0;clip: rect(1px 1px 1px 1px);clip: rect(1px, 1px, 1px, 1px);height: 1px;margin: -1px;overflow: hidden;padding: 0;position: absolute;width: 1px;}#sk-container-id-1 div.sk-estimator {font-family: monospace;background-color: #f0f8ff;border: 1px dotted black;border-radius: 0.25em;box-sizing: border-box;margin-bottom: 0.5em;}#sk-container-id-1 div.sk-estimator:hover {background-color: #d4ebff;}#sk-container-id-1 div.sk-parallel-item::after {content: \"\";width: 100%;border-bottom: 1px solid gray;flex-grow: 1;}#sk-container-id-1 div.sk-label:hover label.sk-toggleable__label {background-color: #d4ebff;}#sk-container-id-1 div.sk-serial::before {content: \"\";position: absolute;border-left: 1px solid gray;box-sizing: border-box;top: 0;bottom: 0;left: 50%;z-index: 0;}#sk-container-id-1 div.sk-serial {display: flex;flex-direction: column;align-items: center;background-color: white;padding-right: 0.2em;padding-left: 0.2em;position: relative;}#sk-container-id-1 div.sk-item {position: relative;z-index: 1;}#sk-container-id-1 div.sk-parallel {display: flex;align-items: stretch;justify-content: center;background-color: white;position: relative;}#sk-container-id-1 div.sk-item::before, #sk-container-id-1 div.sk-parallel-item::before {content: \"\";position: absolute;border-left: 1px solid gray;box-sizing: border-box;top: 0;bottom: 0;left: 50%;z-index: -1;}#sk-container-id-1 div.sk-parallel-item {display: flex;flex-direction: column;z-index: 1;position: relative;background-color: white;}#sk-container-id-1 div.sk-parallel-item:first-child::after {align-self: flex-end;width: 50%;}#sk-container-id-1 div.sk-parallel-item:last-child::after {align-self: flex-start;width: 50%;}#sk-container-id-1 div.sk-parallel-item:only-child::after {width: 0;}#sk-container-id-1 div.sk-dashed-wrapped {border: 1px dashed gray;margin: 0 0.4em 0.5em 0.4em;box-sizing: border-box;padding-bottom: 0.4em;background-color: white;}#sk-container-id-1 div.sk-label label {font-family: monospace;font-weight: bold;display: inline-block;line-height: 1.2em;}#sk-container-id-1 div.sk-label-container {text-align: center;}#sk-container-id-1 div.sk-container {/* jupyter's `normalize.less` sets `[hidden] { display: none; }` but bootstrap.min.css set `[hidden] { display: none !important; }` so we also need the `!important` here to be able to override the default hidden behavior on the sphinx rendered scikit-learn.org. See: https://github.com/scikit-learn/scikit-learn/issues/21755 */display: inline-block !important;position: relative;}#sk-container-id-1 div.sk-text-repr-fallback {display: none;}</style><div id=\"sk-container-id-1\" class=\"sk-top-container\"><div class=\"sk-text-repr-fallback\"><pre>LogisticRegression(max_iter=1000, random_state=42, solver=&#x27;liblinear&#x27;)</pre><b>In a Jupyter environment, please rerun this cell to show the HTML representation or trust the notebook. <br />On GitHub, the HTML representation is unable to render, please try loading this page with nbviewer.org.</b></div><div class=\"sk-container\" hidden><div class=\"sk-item\"><div class=\"sk-estimator sk-toggleable\"><input class=\"sk-toggleable__control sk-hidden--visually\" id=\"sk-estimator-id-1\" type=\"checkbox\" checked><label for=\"sk-estimator-id-1\" class=\"sk-toggleable__label sk-toggleable__label-arrow\">LogisticRegression</label><div class=\"sk-toggleable__content\"><pre>LogisticRegression(max_iter=1000, random_state=42, solver=&#x27;liblinear&#x27;)</pre></div></div></div></div></div>"
      ],
      "text/plain": [
       "LogisticRegression(max_iter=1000, random_state=42, solver='liblinear')"
      ]
     },
     "execution_count": 40,
     "metadata": {},
     "output_type": "execute_result"
    }
   ],
   "source": [
    "modLoR = LogisticRegression(solver=\"liblinear\", C=1.0, max_iter=1000, random_state=42)\n",
    "modLoR.fit(X_Tra, y_Tra)"
   ]
  },
  {
   "cell_type": "code",
   "execution_count": 41,
   "id": "6125ca0a",
   "metadata": {},
   "outputs": [
    {
     "data": {
      "text/plain": [
       "-0.06226206219069978"
      ]
     },
     "execution_count": 41,
     "metadata": {},
     "output_type": "execute_result"
    }
   ],
   "source": [
    "# what is w0 (return npy array)\n",
    "w0 = modLoR.intercept_[0]\n",
    "w0"
   ]
  },
  {
   "cell_type": "code",
   "execution_count": 42,
   "id": "f60e9c23",
   "metadata": {},
   "outputs": [
    {
     "data": {
      "text/plain": [
       "array([ 1.13415479e-01,  4.04233123e-03,  3.57188030e-02,  1.02626550e-01,\n",
       "        8.27375706e-02,  1.19638568e+00,  4.52128771e-01, -1.59850879e+00,\n",
       "        1.19112064e-02,  3.09190545e-01,  7.63016201e-01, -1.63226052e-03,\n",
       "        1.04764314e-02, -1.36661587e-02,  1.80979534e-03, -1.53342014e-04])"
      ]
     },
     "execution_count": 42,
     "metadata": {},
     "output_type": "execute_result"
    }
   ],
   "source": [
    "wi = modLoR.coef_[0]\n",
    "wi"
   ]
  },
  {
   "cell_type": "markdown",
   "id": "7aff6df0",
   "metadata": {},
   "source": [
    "### Predictions on VAL"
   ]
  },
  {
   "cell_type": "code",
   "execution_count": 43,
   "id": "d163539b",
   "metadata": {},
   "outputs": [
    {
     "data": {
      "text/plain": [
       "array([0, 0, 1, ..., 1, 1, 0])"
      ]
     },
     "execution_count": 43,
     "metadata": {},
     "output_type": "execute_result"
    }
   ],
   "source": [
    "# Let's predict above_average (0,1) for X_Val data (return npy array)\n",
    "modLoR.predict(X_Val)"
   ]
  },
  {
   "cell_type": "code",
   "execution_count": 44,
   "id": "c40ff977",
   "metadata": {},
   "outputs": [
    {
     "data": {
      "text/plain": [
       "(1668, 4128)"
      ]
     },
     "execution_count": 44,
     "metadata": {},
     "output_type": "execute_result"
    }
   ],
   "source": [
    "# number of house that would be above mean (prediction) in VAL:\n",
    "modLoR.predict(X_Val).sum() , modLoR.predict(X_Val).shape[0]"
   ]
  },
  {
   "cell_type": "code",
   "execution_count": 45,
   "id": "2356e6c8",
   "metadata": {},
   "outputs": [
    {
     "data": {
      "text/plain": [
       "1685"
      ]
     },
     "execution_count": 45,
     "metadata": {},
     "output_type": "execute_result"
    }
   ],
   "source": [
    "# What is real in VAL\n",
    "y_Val.sum() "
   ]
  },
  {
   "cell_type": "code",
   "execution_count": 46,
   "id": "a23cc183",
   "metadata": {},
   "outputs": [
    {
     "data": {
      "text/plain": [
       "array([[0.912, 0.088],\n",
       "       [0.84 , 0.16 ],\n",
       "       [0.048, 0.952],\n",
       "       ...,\n",
       "       [0.041, 0.959],\n",
       "       [0.151, 0.849],\n",
       "       [0.528, 0.472]])"
      ]
     },
     "execution_count": 46,
     "metadata": {},
     "output_type": "execute_result"
    }
   ],
   "source": [
    "# Let's predict VAL with probability\n",
    "y_pred = modLoR.predict_proba(X_Val)\n",
    "y_pred.round(3)"
   ]
  },
  {
   "cell_type": "code",
   "execution_count": 47,
   "id": "2e7444f8",
   "metadata": {},
   "outputs": [
    {
     "data": {
      "text/plain": [
       "array([0.088, 0.16 , 0.952, ..., 0.959, 0.849, 0.472])"
      ]
     },
     "execution_count": 47,
     "metadata": {},
     "output_type": "execute_result"
    }
   ],
   "source": [
    "# Predict but taking only the Probability of 1\n",
    "y_predOne = modLoR.predict_proba(X_Val)[:,1]\n",
    "y_predOne.round(3)"
   ]
  },
  {
   "cell_type": "code",
   "execution_count": 48,
   "id": "06f1b4c7",
   "metadata": {},
   "outputs": [
    {
     "data": {
      "text/plain": [
       "array([False, False,  True, ...,  True,  True, False])"
      ]
     },
     "execution_count": 48,
     "metadata": {},
     "output_type": "execute_result"
    }
   ],
   "source": [
    "# detect when Pred of 1 >= 0.5\n",
    "price_above = (y_predOne >= 0.5)\n",
    "price_above"
   ]
  },
  {
   "cell_type": "code",
   "execution_count": 49,
   "id": "7cb4b324",
   "metadata": {},
   "outputs": [
    {
     "data": {
      "text/plain": [
       "1668"
      ]
     },
     "execution_count": 49,
     "metadata": {},
     "output_type": "execute_result"
    }
   ],
   "source": [
    "price_above.sum()"
   ]
  },
  {
   "cell_type": "code",
   "execution_count": 50,
   "id": "abd24e16",
   "metadata": {},
   "outputs": [
    {
     "data": {
      "text/plain": [
       "0.8359980620155039"
      ]
     },
     "execution_count": 50,
     "metadata": {},
     "output_type": "execute_result"
    }
   ],
   "source": [
    "# store this Accuracy for Q5 (elimination technique)\n",
    "floAcc = (y_Val == price_above).mean()\n",
    "floAcc"
   ]
  },
  {
   "cell_type": "code",
   "execution_count": 51,
   "id": "da0bf274",
   "metadata": {},
   "outputs": [
    {
     "data": {
      "text/plain": [
       "0.84"
      ]
     },
     "execution_count": 51,
     "metadata": {},
     "output_type": "execute_result"
    }
   ],
   "source": [
    "(y_Val == price_above).mean().round(2)"
   ]
  },
  {
   "cell_type": "markdown",
   "id": "75ae409c",
   "metadata": {},
   "source": [
    "## Q4 = 0.84"
   ]
  },
  {
   "cell_type": "markdown",
   "id": "5b45c73d",
   "metadata": {},
   "source": [
    "# Q5: Feature elimination"
   ]
  },
  {
   "cell_type": "code",
   "execution_count": 52,
   "id": "5c39f054",
   "metadata": {},
   "outputs": [
    {
     "data": {
      "text/plain": [
       "['latitude',\n",
       " 'longitude',\n",
       " 'housing_median_age',\n",
       " 'total_rooms',\n",
       " 'total_bedrooms',\n",
       " 'population',\n",
       " 'households',\n",
       " 'median_income',\n",
       " 'ocean_proximity',\n",
       " 'rooms_per_household',\n",
       " 'bedrooms_per_room',\n",
       " 'population_per_household']"
      ]
     },
     "execution_count": 52,
     "metadata": {},
     "output_type": "execute_result"
    }
   ],
   "source": [
    "lstCol = list(dfrTra.columns.values)\n",
    "lstCol"
   ]
  },
  {
   "cell_type": "code",
   "execution_count": 53,
   "id": "fbfb2333",
   "metadata": {},
   "outputs": [
    {
     "name": "stdout",
     "output_type": "stream",
     "text": [
      "--- Dropping latitude\n",
      "      floAcc=  0.8359980620155039  floAccTmp= 0.8323643410852714  diff= -0.003633720930232509\n",
      "--- Dropping longitude\n",
      "      floAcc=  0.8359980620155039  floAccTmp= 0.8318798449612403  diff= -0.004118217054263518\n",
      "--- Dropping housing_median_age\n",
      "      floAcc=  0.8359980620155039  floAccTmp= 0.8316375968992248  diff= -0.0043604651162790775\n",
      "--- Dropping total_rooms\n",
      "      floAcc=  0.8359980620155039  floAccTmp= 0.8362403100775194  diff= 0.00024224806201555982\n",
      "--- Dropping total_bedrooms\n",
      "      floAcc=  0.8359980620155039  floAccTmp= 0.8372093023255814  diff= 0.001211240310077577\n",
      "--- Dropping population\n",
      "      floAcc=  0.8359980620155039  floAccTmp= 0.8263081395348837  diff= -0.009689922480620172\n",
      "--- Dropping households\n",
      "      floAcc=  0.8359980620155039  floAccTmp= 0.8340600775193798  diff= -0.0019379844961240345\n",
      "--- Dropping median_income\n",
      "      floAcc=  0.8359980620155039  floAccTmp= 0.7853682170542635  diff= -0.050629844961240345\n",
      "--- Dropping ocean_proximity\n",
      "      floAcc=  0.8359980620155039  floAccTmp= 0.8202519379844961  diff= -0.015746124031007724\n",
      "--- Dropping rooms_per_household\n",
      "      floAcc=  0.8359980620155039  floAccTmp= 0.8352713178294574  diff= -0.0007267441860464574\n",
      "--- Dropping bedrooms_per_room\n",
      "      floAcc=  0.8359980620155039  floAccTmp= 0.8362403100775194  diff= 0.00024224806201555982\n",
      "--- Dropping population_per_household\n",
      "      floAcc=  0.8359980620155039  floAccTmp= 0.8357558139534884  diff= -0.0002422480620154488\n",
      "--- No Dropping for check  *Glo*\n",
      "      floAcc=  0.8359980620155039  floAccTmp= 0.8359980620155039  diff= 0.0\n"
     ]
    }
   ],
   "source": [
    "# Dataframe to save result index=feature name\n",
    "dfrRes = pda.DataFrame(columns=[ 'Glo_Accuracy' , 'Tmp_Accuracy',  'Delta' , 'Abs_Delta'])\n",
    "\n",
    "# one extra iteration to re-execute same LoR without droppinng any feature (double check)\n",
    "cstGlo = '*Glo*'\n",
    "\n",
    "for col in lstCol + [cstGlo]:\n",
    "    if col != cstGlo:\n",
    "        print('--- Dropping' , col )\n",
    "    else:\n",
    "        print('--- No Dropping for check ' , cstGlo  )\n",
    "    \n",
    "    # copy the dfr in a Tmp version\n",
    "    dfrTraTmp = dfrTra.copy()\n",
    "    \n",
    "    # remove this column (except last)\n",
    "    if col != cstGlo:\n",
    "        dfrTraTmp.drop(col, axis=1, inplace=True)\n",
    "\n",
    "    #print(list(dfrTraTmp.columns.values))\n",
    "        \n",
    "    # create dictionay\n",
    "    dicTraTmp = dfrTraTmp.to_dict(orient='records')\n",
    "    #print(dicTraTmp[25:26])   # au hasard ;-)\n",
    "    \n",
    "    # OHE\n",
    "    X_TraTmp = dvt.fit_transform(dicTraTmp)\n",
    "    #print(X_TraTmp[25:26])\n",
    "    \n",
    "    # LogReg\n",
    "    modLoR = LogisticRegression(solver=\"liblinear\", C=1.0, max_iter=1000, random_state=42)\n",
    "    modLoR.fit(X_TraTmp, y_Tra)\n",
    "    \n",
    "    # same for VAL dataset\n",
    "    dfrValTmp = dfrVal.copy()\n",
    "    if col != cstGlo:\n",
    "        dfrValTmp.drop(col, axis=1, inplace=True)\n",
    "    dicValTmp = dfrValTmp.to_dict(orient='records')\n",
    "    X_ValTmp = dvt.transform(dicValTmp)\n",
    "    #print(X_ValTmp.shape)\n",
    "    \n",
    "    # Predict but taking only the Probability of 1\n",
    "    y_predOneTmp = modLoR.predict_proba(X_ValTmp)[:,1]\n",
    "    #print(y_predOneTmp.round(3))\n",
    "    \n",
    "    # detect when Pred of 1 >= 0.5\n",
    "    price_above_tmp = (y_predOneTmp >= 0.5)\n",
    "    #print(price_above_tmp)\n",
    "    \n",
    "    # calculate accuracy\n",
    "    floAccTmp = (y_Val == price_above_tmp).mean()\n",
    "    \n",
    "    # add the difference to full Val Accuracy \n",
    "    print('      floAcc= ', floAcc , ' floAccTmp=' , floAccTmp , ' diff=' , (floAccTmp - floAcc) )\n",
    "    #                             ['Feature', 'Glo_Accuracy' , 'Tmp_Accuracy',  'Delta' , 'Abs_Delta']\n",
    "    dfrRes.loc[col] = [ floAcc  , floAccTmp  , floAcc-floAccTmp ,  abs(floAcc-floAccTmp) ] "
   ]
  },
  {
   "cell_type": "code",
   "execution_count": 54,
   "id": "ed0bab8f",
   "metadata": {},
   "outputs": [
    {
     "data": {
      "text/html": [
       "<div>\n",
       "<style scoped>\n",
       "    .dataframe tbody tr th:only-of-type {\n",
       "        vertical-align: middle;\n",
       "    }\n",
       "\n",
       "    .dataframe tbody tr th {\n",
       "        vertical-align: top;\n",
       "    }\n",
       "\n",
       "    .dataframe thead th {\n",
       "        text-align: right;\n",
       "    }\n",
       "</style>\n",
       "<table border=\"1\" class=\"dataframe\">\n",
       "  <thead>\n",
       "    <tr style=\"text-align: right;\">\n",
       "      <th></th>\n",
       "      <th>Glo_Accuracy</th>\n",
       "      <th>Tmp_Accuracy</th>\n",
       "      <th>Delta</th>\n",
       "      <th>Abs_Delta</th>\n",
       "    </tr>\n",
       "  </thead>\n",
       "  <tbody>\n",
       "    <tr>\n",
       "      <th>total_bedrooms</th>\n",
       "      <td>0.835998</td>\n",
       "      <td>0.837209</td>\n",
       "      <td>-0.001211</td>\n",
       "      <td>0.001211</td>\n",
       "    </tr>\n",
       "    <tr>\n",
       "      <th>total_rooms</th>\n",
       "      <td>0.835998</td>\n",
       "      <td>0.836240</td>\n",
       "      <td>-0.000242</td>\n",
       "      <td>0.000242</td>\n",
       "    </tr>\n",
       "    <tr>\n",
       "      <th>bedrooms_per_room</th>\n",
       "      <td>0.835998</td>\n",
       "      <td>0.836240</td>\n",
       "      <td>-0.000242</td>\n",
       "      <td>0.000242</td>\n",
       "    </tr>\n",
       "    <tr>\n",
       "      <th>*Glo*</th>\n",
       "      <td>0.835998</td>\n",
       "      <td>0.835998</td>\n",
       "      <td>0.000000</td>\n",
       "      <td>0.000000</td>\n",
       "    </tr>\n",
       "    <tr>\n",
       "      <th>population_per_household</th>\n",
       "      <td>0.835998</td>\n",
       "      <td>0.835756</td>\n",
       "      <td>0.000242</td>\n",
       "      <td>0.000242</td>\n",
       "    </tr>\n",
       "    <tr>\n",
       "      <th>rooms_per_household</th>\n",
       "      <td>0.835998</td>\n",
       "      <td>0.835271</td>\n",
       "      <td>0.000727</td>\n",
       "      <td>0.000727</td>\n",
       "    </tr>\n",
       "    <tr>\n",
       "      <th>households</th>\n",
       "      <td>0.835998</td>\n",
       "      <td>0.834060</td>\n",
       "      <td>0.001938</td>\n",
       "      <td>0.001938</td>\n",
       "    </tr>\n",
       "    <tr>\n",
       "      <th>latitude</th>\n",
       "      <td>0.835998</td>\n",
       "      <td>0.832364</td>\n",
       "      <td>0.003634</td>\n",
       "      <td>0.003634</td>\n",
       "    </tr>\n",
       "    <tr>\n",
       "      <th>longitude</th>\n",
       "      <td>0.835998</td>\n",
       "      <td>0.831880</td>\n",
       "      <td>0.004118</td>\n",
       "      <td>0.004118</td>\n",
       "    </tr>\n",
       "    <tr>\n",
       "      <th>housing_median_age</th>\n",
       "      <td>0.835998</td>\n",
       "      <td>0.831638</td>\n",
       "      <td>0.004360</td>\n",
       "      <td>0.004360</td>\n",
       "    </tr>\n",
       "    <tr>\n",
       "      <th>population</th>\n",
       "      <td>0.835998</td>\n",
       "      <td>0.826308</td>\n",
       "      <td>0.009690</td>\n",
       "      <td>0.009690</td>\n",
       "    </tr>\n",
       "    <tr>\n",
       "      <th>ocean_proximity</th>\n",
       "      <td>0.835998</td>\n",
       "      <td>0.820252</td>\n",
       "      <td>0.015746</td>\n",
       "      <td>0.015746</td>\n",
       "    </tr>\n",
       "    <tr>\n",
       "      <th>median_income</th>\n",
       "      <td>0.835998</td>\n",
       "      <td>0.785368</td>\n",
       "      <td>0.050630</td>\n",
       "      <td>0.050630</td>\n",
       "    </tr>\n",
       "  </tbody>\n",
       "</table>\n",
       "</div>"
      ],
      "text/plain": [
       "                          Glo_Accuracy  Tmp_Accuracy     Delta  Abs_Delta\n",
       "total_bedrooms                0.835998      0.837209 -0.001211   0.001211\n",
       "total_rooms                   0.835998      0.836240 -0.000242   0.000242\n",
       "bedrooms_per_room             0.835998      0.836240 -0.000242   0.000242\n",
       "*Glo*                         0.835998      0.835998  0.000000   0.000000\n",
       "population_per_household      0.835998      0.835756  0.000242   0.000242\n",
       "rooms_per_household           0.835998      0.835271  0.000727   0.000727\n",
       "households                    0.835998      0.834060  0.001938   0.001938\n",
       "latitude                      0.835998      0.832364  0.003634   0.003634\n",
       "longitude                     0.835998      0.831880  0.004118   0.004118\n",
       "housing_median_age            0.835998      0.831638  0.004360   0.004360\n",
       "population                    0.835998      0.826308  0.009690   0.009690\n",
       "ocean_proximity               0.835998      0.820252  0.015746   0.015746\n",
       "median_income                 0.835998      0.785368  0.050630   0.050630"
      ]
     },
     "execution_count": 54,
     "metadata": {},
     "output_type": "execute_result"
    }
   ],
   "source": [
    "dfrRes.sort_values(by='Delta')"
   ]
  },
  {
   "cell_type": "markdown",
   "id": "d7ae70ff",
   "metadata": {},
   "source": [
    "### Q5 Smallest in the proposed list = "
   ]
  },
  {
   "cell_type": "code",
   "execution_count": 55,
   "id": "a54364b0",
   "metadata": {},
   "outputs": [
    {
     "data": {
      "text/plain": [
       "['total_rooms', 'total_bedrooms', 'population', 'households']"
      ]
     },
     "execution_count": 55,
     "metadata": {},
     "output_type": "execute_result"
    }
   ],
   "source": [
    "lstQ5 = [ \n",
    "    'total_rooms' ,\n",
    "    'total_bedrooms' ,\n",
    "    'population' ,\n",
    "    'households'\n",
    "    ]\n",
    "lstQ5"
   ]
  },
  {
   "cell_type": "code",
   "execution_count": 56,
   "id": "ddc91868",
   "metadata": {},
   "outputs": [
    {
     "data": {
      "text/html": [
       "<div>\n",
       "<style scoped>\n",
       "    .dataframe tbody tr th:only-of-type {\n",
       "        vertical-align: middle;\n",
       "    }\n",
       "\n",
       "    .dataframe tbody tr th {\n",
       "        vertical-align: top;\n",
       "    }\n",
       "\n",
       "    .dataframe thead th {\n",
       "        text-align: right;\n",
       "    }\n",
       "</style>\n",
       "<table border=\"1\" class=\"dataframe\">\n",
       "  <thead>\n",
       "    <tr style=\"text-align: right;\">\n",
       "      <th></th>\n",
       "      <th>Glo_Accuracy</th>\n",
       "      <th>Tmp_Accuracy</th>\n",
       "      <th>Delta</th>\n",
       "      <th>Abs_Delta</th>\n",
       "    </tr>\n",
       "  </thead>\n",
       "  <tbody>\n",
       "    <tr>\n",
       "      <th>total_rooms</th>\n",
       "      <td>0.835998</td>\n",
       "      <td>0.836240</td>\n",
       "      <td>-0.000242</td>\n",
       "      <td>0.000242</td>\n",
       "    </tr>\n",
       "    <tr>\n",
       "      <th>total_bedrooms</th>\n",
       "      <td>0.835998</td>\n",
       "      <td>0.837209</td>\n",
       "      <td>-0.001211</td>\n",
       "      <td>0.001211</td>\n",
       "    </tr>\n",
       "    <tr>\n",
       "      <th>households</th>\n",
       "      <td>0.835998</td>\n",
       "      <td>0.834060</td>\n",
       "      <td>0.001938</td>\n",
       "      <td>0.001938</td>\n",
       "    </tr>\n",
       "    <tr>\n",
       "      <th>population</th>\n",
       "      <td>0.835998</td>\n",
       "      <td>0.826308</td>\n",
       "      <td>0.009690</td>\n",
       "      <td>0.009690</td>\n",
       "    </tr>\n",
       "  </tbody>\n",
       "</table>\n",
       "</div>"
      ],
      "text/plain": [
       "                Glo_Accuracy  Tmp_Accuracy     Delta  Abs_Delta\n",
       "total_rooms         0.835998      0.836240 -0.000242   0.000242\n",
       "total_bedrooms      0.835998      0.837209 -0.001211   0.001211\n",
       "households          0.835998      0.834060  0.001938   0.001938\n",
       "population          0.835998      0.826308  0.009690   0.009690"
      ]
     },
     "execution_count": 56,
     "metadata": {},
     "output_type": "execute_result"
    }
   ],
   "source": [
    "dfrRes[ dfrRes.index.isin(lstQ5) ].sort_values(by='Abs_Delta')"
   ]
  },
  {
   "cell_type": "markdown",
   "id": "05b27d4f",
   "metadata": {},
   "source": [
    "## Q5: 'total_rooms'  (in ABS !! )\n",
    "## Note: 'total_bedrooms' is smallest value (<0)"
   ]
  },
  {
   "cell_type": "markdown",
   "id": "2059e6a8",
   "metadata": {},
   "source": [
    "# Q6: SciKit"
   ]
  },
  {
   "cell_type": "code",
   "execution_count": 57,
   "id": "5c4b6d7f",
   "metadata": {},
   "outputs": [
    {
     "data": {
      "text/plain": [
       "(Index(['latitude', 'longitude', 'housing_median_age', 'total_rooms',\n",
       "        'total_bedrooms', 'population', 'households', 'median_income',\n",
       "        'median_house_value', 'ocean_proximity', 'rooms_per_household',\n",
       "        'bedrooms_per_room', 'population_per_household'],\n",
       "       dtype='object'),\n",
       " (20640, 13))"
      ]
     },
     "execution_count": 57,
     "metadata": {},
     "output_type": "execute_result"
    }
   ],
   "source": [
    "# Check columns in global dataset\n",
    "dfrHou.columns , dfrHou.shape"
   ]
  },
  {
   "cell_type": "code",
   "execution_count": 58,
   "id": "f27aaa40",
   "metadata": {},
   "outputs": [
    {
     "data": {
      "text/plain": [
       "count     20640.000000\n",
       "mean     206855.816909\n",
       "std      115395.615874\n",
       "min       14999.000000\n",
       "25%      119600.000000\n",
       "50%      179700.000000\n",
       "75%      264725.000000\n",
       "max      500001.000000\n",
       "Name: median_house_value, dtype: float64"
      ]
     },
     "execution_count": 58,
     "metadata": {},
     "output_type": "execute_result"
    }
   ],
   "source": [
    "dfrHou.median_house_value.describe()"
   ]
  },
  {
   "cell_type": "code",
   "execution_count": 59,
   "id": "31662891",
   "metadata": {},
   "outputs": [
    {
     "data": {
      "text/plain": [
       "count    20640.000000\n",
       "mean        12.084891\n",
       "std          0.569131\n",
       "min          9.615805\n",
       "25%         11.691916\n",
       "50%         12.099050\n",
       "75%         12.486451\n",
       "max         13.122367\n",
       "Name: median_house_value_l1p, dtype: float64"
      ]
     },
     "execution_count": 59,
     "metadata": {},
     "output_type": "execute_result"
    }
   ],
   "source": [
    "dfrHou['median_house_value_l1p'] = npy.log1p(dfrHou['median_house_value'])\n",
    "dfrHou.median_house_value_l1p.describe()"
   ]
  },
  {
   "cell_type": "code",
   "execution_count": 60,
   "id": "b105d869",
   "metadata": {},
   "outputs": [
    {
     "data": {
      "text/plain": [
       "((20640, 14), (16512, 14), (12384, 14), (4128, 14), (4128, 14))"
      ]
     },
     "execution_count": 60,
     "metadata": {},
     "output_type": "execute_result"
    }
   ],
   "source": [
    "# Split data\n",
    "dfrTraFul, dfrTst = train_test_split(dfrHou, test_size=0.2, random_state=42)\n",
    "dfrTra, dfrVal = train_test_split(dfrTraFul, test_size=0.25, random_state=42)\n",
    "dfrHou.shape , dfrTraFul.shape , dfrTra.shape, dfrVal.shape, dfrTst.shape"
   ]
  },
  {
   "cell_type": "code",
   "execution_count": 61,
   "id": "50307c9d",
   "metadata": {},
   "outputs": [],
   "source": [
    "# Reset all index\n",
    "dfrTraFul = dfrTraFul.reset_index(drop=True)  \n",
    "dfrTra = dfrTra.reset_index(drop=True)\n",
    "dfrVal = dfrVal.reset_index(drop=True)\n",
    "dfrTst = dfrTst.reset_index(drop=True)"
   ]
  },
  {
   "cell_type": "code",
   "execution_count": 62,
   "id": "9806a7bf",
   "metadata": {},
   "outputs": [],
   "source": [
    "# take our target with l1p !!\n",
    "y_TraFul = dfrTraFul.median_house_value_l1p\n",
    "y_Tra = dfrTra.median_house_value_l1p\n",
    "y_Val = dfrVal.median_house_value_l1p\n",
    "y_Tst = dfrTst.median_house_value_l1p"
   ]
  },
  {
   "cell_type": "code",
   "execution_count": 63,
   "id": "fc6a9aef",
   "metadata": {
    "scrolled": true
   },
   "outputs": [
    {
     "data": {
      "text/plain": [
       "Index(['latitude', 'longitude', 'housing_median_age', 'total_rooms',\n",
       "       'total_bedrooms', 'population', 'households', 'median_income',\n",
       "       'median_house_value', 'ocean_proximity', 'rooms_per_household',\n",
       "       'bedrooms_per_room', 'population_per_household',\n",
       "       'median_house_value_l1p'],\n",
       "      dtype='object')"
      ]
     },
     "execution_count": 63,
     "metadata": {},
     "output_type": "execute_result"
    }
   ],
   "source": [
    "dfrTra.columns"
   ]
  },
  {
   "cell_type": "code",
   "execution_count": 64,
   "id": "17e17669",
   "metadata": {},
   "outputs": [],
   "source": [
    "dfrTraFul.drop(['median_house_value' , 'median_house_value_l1p' ] , axis='columns' , inplace=True)\n",
    "dfrTra.drop(['median_house_value' , 'median_house_value_l1p' ] , axis='columns' , inplace=True)\n",
    "dfrVal.drop(['median_house_value' , 'median_house_value_l1p' ] , axis='columns' , inplace=True)\n",
    "dfrTst.drop(['median_house_value' , 'median_house_value_l1p' ] , axis='columns' , inplace=True)"
   ]
  },
  {
   "cell_type": "code",
   "execution_count": 65,
   "id": "c6b301a6",
   "metadata": {},
   "outputs": [
    {
     "data": {
      "text/plain": [
       "[{'latitude': 37.99,\n",
       "  'longitude': -122.33,\n",
       "  'housing_median_age': 4.0,\n",
       "  'total_rooms': 3999.0,\n",
       "  'total_bedrooms': 1079.0,\n",
       "  'population': 1591.0,\n",
       "  'households': 887.0,\n",
       "  'median_income': 3.911,\n",
       "  'ocean_proximity': 'NEAR BAY',\n",
       "  'rooms_per_household': 4.508455467869222,\n",
       "  'bedrooms_per_room': 0.2698174543635909,\n",
       "  'population_per_household': 1.7936865839909808}]"
      ]
     },
     "execution_count": 65,
     "metadata": {},
     "output_type": "execute_result"
    }
   ],
   "source": [
    "dicTra = dfrTra.to_dict(orient='records')\n",
    "dicTra[24:25]"
   ]
  },
  {
   "cell_type": "code",
   "execution_count": 66,
   "id": "5707818c",
   "metadata": {},
   "outputs": [
    {
     "data": {
      "text/plain": [
       "(12384, 16)"
      ]
     },
     "execution_count": 66,
     "metadata": {},
     "output_type": "execute_result"
    }
   ],
   "source": [
    "dvt = DictVectorizer(sparse=False)\n",
    "X_Tra = dvt.fit_transform(dicTra)\n",
    "X_Tra.shape"
   ]
  },
  {
   "cell_type": "code",
   "execution_count": 67,
   "id": "0e8771f4",
   "metadata": {},
   "outputs": [
    {
     "data": {
      "text/plain": [
       "array(['bedrooms_per_room', 'households', 'housing_median_age',\n",
       "       'latitude', 'longitude', 'median_income',\n",
       "       'ocean_proximity=<1H OCEAN', 'ocean_proximity=INLAND',\n",
       "       'ocean_proximity=ISLAND', 'ocean_proximity=NEAR BAY',\n",
       "       'ocean_proximity=NEAR OCEAN', 'population',\n",
       "       'population_per_household', 'rooms_per_household',\n",
       "       'total_bedrooms', 'total_rooms'], dtype=object)"
      ]
     },
     "execution_count": 67,
     "metadata": {},
     "output_type": "execute_result"
    }
   ],
   "source": [
    "# to Check the names of the column\n",
    "dvt.get_feature_names_out()"
   ]
  },
  {
   "cell_type": "code",
   "execution_count": 68,
   "id": "4cc537d6",
   "metadata": {},
   "outputs": [
    {
     "data": {
      "text/plain": [
       "(4128, 16)"
      ]
     },
     "execution_count": 68,
     "metadata": {},
     "output_type": "execute_result"
    }
   ],
   "source": [
    "# same for VAL dataset\n",
    "dicVal = dfrVal.to_dict(orient='records')\n",
    "X_Val = dvt.transform(dicVal)\n",
    "X_Val.shape"
   ]
  },
  {
   "cell_type": "code",
   "execution_count": 69,
   "id": "eb7ba9d7",
   "metadata": {},
   "outputs": [],
   "source": [
    "# from Homework:\n",
    "lstAlp = [0, 0.01, 0.1, 1, 10]\n",
    "#lstAlp = [0]"
   ]
  },
  {
   "cell_type": "code",
   "execution_count": 70,
   "id": "0d4c8252",
   "metadata": {},
   "outputs": [
    {
     "name": "stdout",
     "output_type": "stream",
     "text": [
      "--- Using alpha =  0\n",
      "    floMse =  0.27464262613642076\n",
      "--- Using alpha =  0.01\n",
      "    floMse =  0.27464262615435947\n",
      "--- Using alpha =  0.1\n",
      "    floMse =  0.274642626324762\n",
      "--- Using alpha =  1\n",
      "    floMse =  0.27464262803776485\n",
      "--- Using alpha =  10\n",
      "    floMse =  0.27464264514086784\n",
      "*** Done ***\n"
     ]
    }
   ],
   "source": [
    "# Dataframe to save result index=feature name\n",
    "dfrRes = pda.DataFrame(columns=[ 'RMSE' , 'RMSE_R3'])\n",
    "\n",
    "# loop each value of alpha\n",
    "for alp in lstAlp:\n",
    "    print('--- Using alpha = ' , alp)\n",
    "    \n",
    "    # LiR\n",
    "    modLiR = Ridge(alpha=alp, solver=\"sag\", random_state=42)\n",
    "    modLiR.fit(X_Tra, y_Tra)\n",
    "    \n",
    "    # predict VAL\n",
    "    y_Prd = modLiR.predict(X_Val)\n",
    "    \n",
    "    # Calc RMSE with sickit\n",
    "    floMse = mean_squared_error(y_Val, y_Prd) \n",
    "    \n",
    "    print('    floMse = ' , floMse )\n",
    "    \n",
    "    # Store Result in dfrRes\n",
    "    dfrRes.loc[alp] = [ floMse , floMse.round(3) ] \n",
    "\n",
    "print('*** Done ***')"
   ]
  },
  {
   "cell_type": "code",
   "execution_count": 71,
   "id": "9f27d50c",
   "metadata": {},
   "outputs": [
    {
     "data": {
      "text/html": [
       "<div>\n",
       "<style scoped>\n",
       "    .dataframe tbody tr th:only-of-type {\n",
       "        vertical-align: middle;\n",
       "    }\n",
       "\n",
       "    .dataframe tbody tr th {\n",
       "        vertical-align: top;\n",
       "    }\n",
       "\n",
       "    .dataframe thead th {\n",
       "        text-align: right;\n",
       "    }\n",
       "</style>\n",
       "<table border=\"1\" class=\"dataframe\">\n",
       "  <thead>\n",
       "    <tr style=\"text-align: right;\">\n",
       "      <th></th>\n",
       "      <th>RMSE</th>\n",
       "      <th>RMSE_R3</th>\n",
       "    </tr>\n",
       "  </thead>\n",
       "  <tbody>\n",
       "    <tr>\n",
       "      <th>0.00</th>\n",
       "      <td>0.2746426261</td>\n",
       "      <td>0.275</td>\n",
       "    </tr>\n",
       "    <tr>\n",
       "      <th>0.01</th>\n",
       "      <td>0.2746426262</td>\n",
       "      <td>0.275</td>\n",
       "    </tr>\n",
       "    <tr>\n",
       "      <th>0.10</th>\n",
       "      <td>0.2746426263</td>\n",
       "      <td>0.275</td>\n",
       "    </tr>\n",
       "    <tr>\n",
       "      <th>1.00</th>\n",
       "      <td>0.2746426280</td>\n",
       "      <td>0.275</td>\n",
       "    </tr>\n",
       "    <tr>\n",
       "      <th>10.00</th>\n",
       "      <td>0.2746426451</td>\n",
       "      <td>0.275</td>\n",
       "    </tr>\n",
       "  </tbody>\n",
       "</table>\n",
       "</div>"
      ],
      "text/plain": [
       "               RMSE  RMSE_R3\n",
       "0.00   0.2746426261    0.275\n",
       "0.01   0.2746426262    0.275\n",
       "0.10   0.2746426263    0.275\n",
       "1.00   0.2746426280    0.275\n",
       "10.00  0.2746426451    0.275"
      ]
     },
     "execution_count": 71,
     "metadata": {},
     "output_type": "execute_result"
    }
   ],
   "source": [
    "# force display to 10 digits to verify that it changes ;-)\n",
    "pda.options.display.precision = 10\n",
    "dfrRes"
   ]
  },
  {
   "cell_type": "markdown",
   "id": "709bc3d3",
   "metadata": {},
   "source": [
    "#### \"If there are multiple options, select the smallest alpha.\"\n",
    "## Q6 = 0   (all at 0.275)"
   ]
  }
 ],
 "metadata": {
  "kernelspec": {
   "display_name": "Python 3 (ipykernel)",
   "language": "python",
   "name": "python3"
  },
  "language_info": {
   "codemirror_mode": {
    "name": "ipython",
    "version": 3
   },
   "file_extension": ".py",
   "mimetype": "text/x-python",
   "name": "python",
   "nbconvert_exporter": "python",
   "pygments_lexer": "ipython3",
   "version": "3.9.13"
  }
 },
 "nbformat": 4,
 "nbformat_minor": 5
}
