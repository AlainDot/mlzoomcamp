{
 "cells": [
  {
   "cell_type": "markdown",
   "id": "1826a226",
   "metadata": {},
   "source": [
    "# me 6.Z Homework 001\n",
    "\n",
    "##### Source  = https://github.com/alexeygrigorev/mlbookcamp-code/blob/master/course-zoomcamp/cohorts/2022/06-trees/homework.md"
   ]
  },
  {
   "cell_type": "code",
   "execution_count": 1,
   "id": "b824f794",
   "metadata": {},
   "outputs": [
    {
     "name": "stderr",
     "output_type": "stream",
     "text": [
      "C:\\Users\\alain\\miniconda3\\envs\\mlzc\\lib\\site-packages\\xgboost\\compat.py:36: FutureWarning: pandas.Int64Index is deprecated and will be removed from pandas in a future version. Use pandas.Index with the appropriate dtype instead.\n",
      "  from pandas import MultiIndex, Int64Index\n"
     ]
    }
   ],
   "source": [
    "import pandas as pda\n",
    "\n",
    "import numpy as npy\n",
    "\n",
    "import matplotlib.pyplot as plt\n",
    "\n",
    "from tqdm.notebook import tqdm \n",
    "\n",
    "from sklearn.model_selection import train_test_split\n",
    "from sklearn.feature_extraction import DictVectorizer\n",
    "from sklearn.tree import DecisionTreeRegressor\n",
    "from sklearn.tree import export_text\n",
    "from sklearn.ensemble import RandomForestRegressor\n",
    "from sklearn.metrics import mean_squared_error\n",
    "\n",
    "import xgboost as xgb"
   ]
  },
  {
   "cell_type": "code",
   "execution_count": 2,
   "id": "2af53fd6",
   "metadata": {},
   "outputs": [
    {
     "name": "stdout",
     "output_type": "stream",
     "text": [
      " shape =  (20640, 10)\n"
     ]
    },
    {
     "data": {
      "text/html": [
       "<div>\n",
       "<style scoped>\n",
       "    .dataframe tbody tr th:only-of-type {\n",
       "        vertical-align: middle;\n",
       "    }\n",
       "\n",
       "    .dataframe tbody tr th {\n",
       "        vertical-align: top;\n",
       "    }\n",
       "\n",
       "    .dataframe thead th {\n",
       "        text-align: right;\n",
       "    }\n",
       "</style>\n",
       "<table border=\"1\" class=\"dataframe\">\n",
       "  <thead>\n",
       "    <tr style=\"text-align: right;\">\n",
       "      <th></th>\n",
       "      <th>0</th>\n",
       "      <th>1</th>\n",
       "      <th>2</th>\n",
       "      <th>3</th>\n",
       "      <th>4</th>\n",
       "    </tr>\n",
       "  </thead>\n",
       "  <tbody>\n",
       "    <tr>\n",
       "      <th>longitude</th>\n",
       "      <td>-122.23</td>\n",
       "      <td>-122.22</td>\n",
       "      <td>-122.24</td>\n",
       "      <td>-122.25</td>\n",
       "      <td>-122.25</td>\n",
       "    </tr>\n",
       "    <tr>\n",
       "      <th>latitude</th>\n",
       "      <td>37.88</td>\n",
       "      <td>37.86</td>\n",
       "      <td>37.85</td>\n",
       "      <td>37.85</td>\n",
       "      <td>37.85</td>\n",
       "    </tr>\n",
       "    <tr>\n",
       "      <th>housing_median_age</th>\n",
       "      <td>41.0</td>\n",
       "      <td>21.0</td>\n",
       "      <td>52.0</td>\n",
       "      <td>52.0</td>\n",
       "      <td>52.0</td>\n",
       "    </tr>\n",
       "    <tr>\n",
       "      <th>total_rooms</th>\n",
       "      <td>880.0</td>\n",
       "      <td>7099.0</td>\n",
       "      <td>1467.0</td>\n",
       "      <td>1274.0</td>\n",
       "      <td>1627.0</td>\n",
       "    </tr>\n",
       "    <tr>\n",
       "      <th>total_bedrooms</th>\n",
       "      <td>129.0</td>\n",
       "      <td>1106.0</td>\n",
       "      <td>190.0</td>\n",
       "      <td>235.0</td>\n",
       "      <td>280.0</td>\n",
       "    </tr>\n",
       "    <tr>\n",
       "      <th>population</th>\n",
       "      <td>322.0</td>\n",
       "      <td>2401.0</td>\n",
       "      <td>496.0</td>\n",
       "      <td>558.0</td>\n",
       "      <td>565.0</td>\n",
       "    </tr>\n",
       "    <tr>\n",
       "      <th>households</th>\n",
       "      <td>126.0</td>\n",
       "      <td>1138.0</td>\n",
       "      <td>177.0</td>\n",
       "      <td>219.0</td>\n",
       "      <td>259.0</td>\n",
       "    </tr>\n",
       "    <tr>\n",
       "      <th>median_income</th>\n",
       "      <td>8.3252</td>\n",
       "      <td>8.3014</td>\n",
       "      <td>7.2574</td>\n",
       "      <td>5.6431</td>\n",
       "      <td>3.8462</td>\n",
       "    </tr>\n",
       "    <tr>\n",
       "      <th>median_house_value</th>\n",
       "      <td>452600.0</td>\n",
       "      <td>358500.0</td>\n",
       "      <td>352100.0</td>\n",
       "      <td>341300.0</td>\n",
       "      <td>342200.0</td>\n",
       "    </tr>\n",
       "    <tr>\n",
       "      <th>ocean_proximity</th>\n",
       "      <td>NEAR BAY</td>\n",
       "      <td>NEAR BAY</td>\n",
       "      <td>NEAR BAY</td>\n",
       "      <td>NEAR BAY</td>\n",
       "      <td>NEAR BAY</td>\n",
       "    </tr>\n",
       "  </tbody>\n",
       "</table>\n",
       "</div>"
      ],
      "text/plain": [
       "                           0         1         2         3         4\n",
       "longitude            -122.23   -122.22   -122.24   -122.25   -122.25\n",
       "latitude               37.88     37.86     37.85     37.85     37.85\n",
       "housing_median_age      41.0      21.0      52.0      52.0      52.0\n",
       "total_rooms            880.0    7099.0    1467.0    1274.0    1627.0\n",
       "total_bedrooms         129.0    1106.0     190.0     235.0     280.0\n",
       "population             322.0    2401.0     496.0     558.0     565.0\n",
       "households             126.0    1138.0     177.0     219.0     259.0\n",
       "median_income         8.3252    8.3014    7.2574    5.6431    3.8462\n",
       "median_house_value  452600.0  358500.0  352100.0  341300.0  342200.0\n",
       "ocean_proximity     NEAR BAY  NEAR BAY  NEAR BAY  NEAR BAY  NEAR BAY"
      ]
     },
     "execution_count": 2,
     "metadata": {},
     "output_type": "execute_result"
    }
   ],
   "source": [
    "urlCsv = 'https://raw.githubusercontent.com/alexeygrigorev/datasets/master/housing.csv'\n",
    "dfrHouRaw = pda.read_csv(urlCsv)\n",
    "print(' shape = ' , dfrHouRaw.shape)\n",
    "dfrHouRaw.head().T"
   ]
  },
  {
   "cell_type": "markdown",
   "id": "dc0efc37",
   "metadata": {},
   "source": [
    "### Prepare dfr Hou (Select fields + nan)"
   ]
  },
  {
   "cell_type": "code",
   "execution_count": 3,
   "id": "59dc0586",
   "metadata": {},
   "outputs": [
    {
     "data": {
      "text/plain": [
       "['latitude',\n",
       " 'longitude',\n",
       " 'housing_median_age',\n",
       " 'total_rooms',\n",
       " 'total_bedrooms',\n",
       " 'population',\n",
       " 'households',\n",
       " 'median_income',\n",
       " 'median_house_value',\n",
       " 'ocean_proximity']"
      ]
     },
     "execution_count": 3,
     "metadata": {},
     "output_type": "execute_result"
    }
   ],
   "source": [
    "# from homework:\n",
    "lstCol = [ \n",
    "'latitude',\n",
    "'longitude',\n",
    "'housing_median_age',\n",
    "'total_rooms',\n",
    "'total_bedrooms',\n",
    "'population',\n",
    "'households',\n",
    "'median_income',\n",
    "'median_house_value' ,\n",
    "'ocean_proximity'\n",
    "]\n",
    "lstCol"
   ]
  },
  {
   "cell_type": "code",
   "execution_count": 4,
   "id": "bb73d7b4",
   "metadata": {},
   "outputs": [
    {
     "data": {
      "text/html": [
       "<div>\n",
       "<style scoped>\n",
       "    .dataframe tbody tr th:only-of-type {\n",
       "        vertical-align: middle;\n",
       "    }\n",
       "\n",
       "    .dataframe tbody tr th {\n",
       "        vertical-align: top;\n",
       "    }\n",
       "\n",
       "    .dataframe thead th {\n",
       "        text-align: right;\n",
       "    }\n",
       "</style>\n",
       "<table border=\"1\" class=\"dataframe\">\n",
       "  <thead>\n",
       "    <tr style=\"text-align: right;\">\n",
       "      <th></th>\n",
       "      <th>0</th>\n",
       "      <th>1</th>\n",
       "      <th>2</th>\n",
       "      <th>3</th>\n",
       "      <th>4</th>\n",
       "      <th>5</th>\n",
       "      <th>6</th>\n",
       "      <th>7</th>\n",
       "    </tr>\n",
       "  </thead>\n",
       "  <tbody>\n",
       "    <tr>\n",
       "      <th>latitude</th>\n",
       "      <td>37.88</td>\n",
       "      <td>37.86</td>\n",
       "      <td>37.85</td>\n",
       "      <td>37.85</td>\n",
       "      <td>37.85</td>\n",
       "      <td>37.85</td>\n",
       "      <td>37.84</td>\n",
       "      <td>37.84</td>\n",
       "    </tr>\n",
       "    <tr>\n",
       "      <th>longitude</th>\n",
       "      <td>-122.23</td>\n",
       "      <td>-122.22</td>\n",
       "      <td>-122.24</td>\n",
       "      <td>-122.25</td>\n",
       "      <td>-122.25</td>\n",
       "      <td>-122.25</td>\n",
       "      <td>-122.25</td>\n",
       "      <td>-122.25</td>\n",
       "    </tr>\n",
       "    <tr>\n",
       "      <th>housing_median_age</th>\n",
       "      <td>41.0</td>\n",
       "      <td>21.0</td>\n",
       "      <td>52.0</td>\n",
       "      <td>52.0</td>\n",
       "      <td>52.0</td>\n",
       "      <td>52.0</td>\n",
       "      <td>52.0</td>\n",
       "      <td>52.0</td>\n",
       "    </tr>\n",
       "    <tr>\n",
       "      <th>total_rooms</th>\n",
       "      <td>880.0</td>\n",
       "      <td>7099.0</td>\n",
       "      <td>1467.0</td>\n",
       "      <td>1274.0</td>\n",
       "      <td>1627.0</td>\n",
       "      <td>919.0</td>\n",
       "      <td>2535.0</td>\n",
       "      <td>3104.0</td>\n",
       "    </tr>\n",
       "    <tr>\n",
       "      <th>total_bedrooms</th>\n",
       "      <td>129.0</td>\n",
       "      <td>1106.0</td>\n",
       "      <td>190.0</td>\n",
       "      <td>235.0</td>\n",
       "      <td>280.0</td>\n",
       "      <td>213.0</td>\n",
       "      <td>489.0</td>\n",
       "      <td>687.0</td>\n",
       "    </tr>\n",
       "    <tr>\n",
       "      <th>population</th>\n",
       "      <td>322.0</td>\n",
       "      <td>2401.0</td>\n",
       "      <td>496.0</td>\n",
       "      <td>558.0</td>\n",
       "      <td>565.0</td>\n",
       "      <td>413.0</td>\n",
       "      <td>1094.0</td>\n",
       "      <td>1157.0</td>\n",
       "    </tr>\n",
       "    <tr>\n",
       "      <th>households</th>\n",
       "      <td>126.0</td>\n",
       "      <td>1138.0</td>\n",
       "      <td>177.0</td>\n",
       "      <td>219.0</td>\n",
       "      <td>259.0</td>\n",
       "      <td>193.0</td>\n",
       "      <td>514.0</td>\n",
       "      <td>647.0</td>\n",
       "    </tr>\n",
       "    <tr>\n",
       "      <th>median_income</th>\n",
       "      <td>8.3252</td>\n",
       "      <td>8.3014</td>\n",
       "      <td>7.2574</td>\n",
       "      <td>5.6431</td>\n",
       "      <td>3.8462</td>\n",
       "      <td>4.0368</td>\n",
       "      <td>3.6591</td>\n",
       "      <td>3.12</td>\n",
       "    </tr>\n",
       "    <tr>\n",
       "      <th>median_house_value</th>\n",
       "      <td>452600.0</td>\n",
       "      <td>358500.0</td>\n",
       "      <td>352100.0</td>\n",
       "      <td>341300.0</td>\n",
       "      <td>342200.0</td>\n",
       "      <td>269700.0</td>\n",
       "      <td>299200.0</td>\n",
       "      <td>241400.0</td>\n",
       "    </tr>\n",
       "    <tr>\n",
       "      <th>ocean_proximity</th>\n",
       "      <td>NEAR BAY</td>\n",
       "      <td>NEAR BAY</td>\n",
       "      <td>NEAR BAY</td>\n",
       "      <td>NEAR BAY</td>\n",
       "      <td>NEAR BAY</td>\n",
       "      <td>NEAR BAY</td>\n",
       "      <td>NEAR BAY</td>\n",
       "      <td>NEAR BAY</td>\n",
       "    </tr>\n",
       "  </tbody>\n",
       "</table>\n",
       "</div>"
      ],
      "text/plain": [
       "                           0         1         2         3         4  \\\n",
       "latitude               37.88     37.86     37.85     37.85     37.85   \n",
       "longitude            -122.23   -122.22   -122.24   -122.25   -122.25   \n",
       "housing_median_age      41.0      21.0      52.0      52.0      52.0   \n",
       "total_rooms            880.0    7099.0    1467.0    1274.0    1627.0   \n",
       "total_bedrooms         129.0    1106.0     190.0     235.0     280.0   \n",
       "population             322.0    2401.0     496.0     558.0     565.0   \n",
       "households             126.0    1138.0     177.0     219.0     259.0   \n",
       "median_income         8.3252    8.3014    7.2574    5.6431    3.8462   \n",
       "median_house_value  452600.0  358500.0  352100.0  341300.0  342200.0   \n",
       "ocean_proximity     NEAR BAY  NEAR BAY  NEAR BAY  NEAR BAY  NEAR BAY   \n",
       "\n",
       "                           5         6         7  \n",
       "latitude               37.85     37.84     37.84  \n",
       "longitude            -122.25   -122.25   -122.25  \n",
       "housing_median_age      52.0      52.0      52.0  \n",
       "total_rooms            919.0    2535.0    3104.0  \n",
       "total_bedrooms         213.0     489.0     687.0  \n",
       "population             413.0    1094.0    1157.0  \n",
       "households             193.0     514.0     647.0  \n",
       "median_income         4.0368    3.6591      3.12  \n",
       "median_house_value  269700.0  299200.0  241400.0  \n",
       "ocean_proximity     NEAR BAY  NEAR BAY  NEAR BAY  "
      ]
     },
     "execution_count": 4,
     "metadata": {},
     "output_type": "execute_result"
    }
   ],
   "source": [
    "dfrHou = dfrHouRaw[lstCol]\n",
    "dfrHou.head(8).T"
   ]
  },
  {
   "cell_type": "code",
   "execution_count": 5,
   "id": "5c71076d",
   "metadata": {},
   "outputs": [
    {
     "data": {
      "text/plain": [
       "total_bedrooms    207\n",
       "dtype: int64"
      ]
     },
     "execution_count": 5,
     "metadata": {},
     "output_type": "execute_result"
    }
   ],
   "source": [
    "# do we have nulls ?\n",
    "dfrHou.isnull().sum() [ dfrHou.isnull().sum() >= 1 ].sort_values(ascending=False)"
   ]
  },
  {
   "cell_type": "code",
   "execution_count": 6,
   "id": "65cabff8",
   "metadata": {},
   "outputs": [
    {
     "data": {
      "text/plain": [
       "Series([], dtype: int64)"
      ]
     },
     "execution_count": 6,
     "metadata": {},
     "output_type": "execute_result"
    }
   ],
   "source": [
    "# Replace nan by 0\n",
    "dfrHou.fillna(0, inplace=True)\n",
    "dfrHou.isnull().sum() [ dfrHou.isnull().sum() >= 1 ].sort_values(ascending=False)"
   ]
  },
  {
   "cell_type": "markdown",
   "id": "3295bcd6",
   "metadata": {},
   "source": [
    "### median house value"
   ]
  },
  {
   "cell_type": "code",
   "execution_count": 7,
   "id": "dfb330ac",
   "metadata": {},
   "outputs": [
    {
     "data": {
      "text/plain": [
       "count     20640.000000\n",
       "mean     206855.816909\n",
       "std      115395.615874\n",
       "min       14999.000000\n",
       "25%      119600.000000\n",
       "50%      179700.000000\n",
       "75%      264725.000000\n",
       "max      500001.000000\n",
       "Name: median_house_value, dtype: float64"
      ]
     },
     "execution_count": 7,
     "metadata": {},
     "output_type": "execute_result"
    }
   ],
   "source": [
    "dfrHou.median_house_value.describe()"
   ]
  },
  {
   "cell_type": "code",
   "execution_count": 8,
   "id": "2e06dab5",
   "metadata": {},
   "outputs": [
    {
     "data": {
      "text/plain": [
       "count    20640.000000\n",
       "mean        12.084891\n",
       "std          0.569131\n",
       "min          9.615805\n",
       "25%         11.691916\n",
       "50%         12.099050\n",
       "75%         12.486451\n",
       "max         13.122367\n",
       "Name: median_house_value_l1p, dtype: float64"
      ]
     },
     "execution_count": 8,
     "metadata": {},
     "output_type": "execute_result"
    }
   ],
   "source": [
    "dfrHou['median_house_value_l1p'] = npy.log1p(dfrHou['median_house_value'])\n",
    "dfrHou.median_house_value_l1p.describe()"
   ]
  },
  {
   "cell_type": "markdown",
   "id": "c84253dd",
   "metadata": {},
   "source": [
    "### Split data"
   ]
  },
  {
   "cell_type": "code",
   "execution_count": 9,
   "id": "f0709c26",
   "metadata": {},
   "outputs": [
    {
     "data": {
      "text/plain": [
       "((20640, 11), (16512, 11), (12384, 11), (4128, 11), (4128, 11))"
      ]
     },
     "execution_count": 9,
     "metadata": {},
     "output_type": "execute_result"
    }
   ],
   "source": [
    "dfrTraFul, dfrTst = train_test_split(dfrHou, test_size=0.2, random_state=1)\n",
    "dfrTra, dfrVal = train_test_split(dfrTraFul, test_size=0.25, random_state=1)\n",
    "dfrHou.shape , dfrTraFul.shape , dfrTra.shape, dfrVal.shape, dfrTst.shape"
   ]
  },
  {
   "cell_type": "code",
   "execution_count": 10,
   "id": "1ed2e872",
   "metadata": {},
   "outputs": [],
   "source": [
    "# Reset all index\n",
    "dfrTraFul = dfrTraFul.reset_index(drop=True)  \n",
    "dfrTra = dfrTra.reset_index(drop=True)\n",
    "dfrVal = dfrVal.reset_index(drop=True)\n",
    "dfrTst = dfrTst.reset_index(drop=True)"
   ]
  },
  {
   "cell_type": "markdown",
   "id": "c46cd8c7",
   "metadata": {},
   "source": [
    "### Save Target variable"
   ]
  },
  {
   "cell_type": "code",
   "execution_count": 11,
   "id": "b3880a2f",
   "metadata": {},
   "outputs": [
    {
     "data": {
      "text/plain": [
       "array([11.50993099, 11.25287153])"
      ]
     },
     "execution_count": 11,
     "metadata": {},
     "output_type": "execute_result"
    }
   ],
   "source": [
    "# save Target\n",
    "y_TraFul = dfrTraFul.median_house_value_l1p.values\n",
    "y_Tra = dfrTra.median_house_value_l1p.values\n",
    "y_Val = dfrVal.median_house_value_l1p.values\n",
    "y_Tst = dfrTst.median_house_value_l1p.values\n",
    "\n",
    "y_Tra[23:25]"
   ]
  },
  {
   "cell_type": "markdown",
   "id": "1d9edd9f",
   "metadata": {},
   "source": [
    "### remove Targets "
   ]
  },
  {
   "cell_type": "code",
   "execution_count": 12,
   "id": "c3f7ed8c",
   "metadata": {},
   "outputs": [],
   "source": [
    "# Remove target n all dfr\n",
    "dfrTraFul.drop(['median_house_value', 'median_house_value_l1p'], axis=1 , inplace=True)\n",
    "dfrTra.drop   (['median_house_value', 'median_house_value_l1p'], axis=1 , inplace=True)\n",
    "dfrVal.drop   (['median_house_value', 'median_house_value_l1p'], axis=1 , inplace=True)\n",
    "dfrTst.drop   (['median_house_value', 'median_house_value_l1p'], axis=1 , inplace=True)"
   ]
  },
  {
   "cell_type": "code",
   "execution_count": 13,
   "id": "50d8dead",
   "metadata": {},
   "outputs": [
    {
     "data": {
      "text/plain": [
       "[{'latitude': 37.93,\n",
       "  'longitude': -121.19,\n",
       "  'housing_median_age': 27.0,\n",
       "  'total_rooms': 1621.0,\n",
       "  'total_bedrooms': 363.0,\n",
       "  'population': 909.0,\n",
       "  'households': 345.0,\n",
       "  'median_income': 2.1513,\n",
       "  'ocean_proximity': 'INLAND'},\n",
       " {'latitude': 39.47,\n",
       "  'longitude': -122.1,\n",
       "  'housing_median_age': 43.0,\n",
       "  'total_rooms': 1320.0,\n",
       "  'total_bedrooms': 215.0,\n",
       "  'population': 512.0,\n",
       "  'households': 197.0,\n",
       "  'median_income': 2.4917,\n",
       "  'ocean_proximity': 'INLAND'}]"
      ]
     },
     "execution_count": 13,
     "metadata": {},
     "output_type": "execute_result"
    }
   ],
   "source": [
    "dicTraFul = dfrTraFul.fillna(0).to_dict(orient='records')\n",
    "dicTra = dfrTra.fillna(0).to_dict(orient='records')\n",
    "dicVal = dfrVal.fillna(0).to_dict(orient='records')\n",
    "dicTst = dfrTst.fillna(0).to_dict(orient='records')\n",
    "\n",
    "dicTra[23:25]"
   ]
  },
  {
   "cell_type": "code",
   "execution_count": 14,
   "id": "bda91a4e",
   "metadata": {},
   "outputs": [],
   "source": [
    "dvt = DictVectorizer(sparse=False)"
   ]
  },
  {
   "cell_type": "code",
   "execution_count": 15,
   "id": "99a8b8fa",
   "metadata": {},
   "outputs": [
    {
     "data": {
      "text/plain": [
       "array([[ 3.4500e+02,  2.7000e+01,  3.7930e+01, -1.2119e+02,  2.1513e+00,\n",
       "         0.0000e+00,  1.0000e+00,  0.0000e+00,  0.0000e+00,  0.0000e+00,\n",
       "         9.0900e+02,  3.6300e+02,  1.6210e+03],\n",
       "       [ 1.9700e+02,  4.3000e+01,  3.9470e+01, -1.2210e+02,  2.4917e+00,\n",
       "         0.0000e+00,  1.0000e+00,  0.0000e+00,  0.0000e+00,  0.0000e+00,\n",
       "         5.1200e+02,  2.1500e+02,  1.3200e+03]])"
      ]
     },
     "execution_count": 15,
     "metadata": {},
     "output_type": "execute_result"
    }
   ],
   "source": [
    "X_TraFul = dvt.fit_transform(dicTraFul)\n",
    "X_Tra    = dvt.fit_transform(dicTra)\n",
    "\n",
    "X_Val = dvt.transform(dicVal)\n",
    "X_Tst = dvt.transform(dicTst)\n",
    "\n",
    "X_Tra[23:25]"
   ]
  },
  {
   "cell_type": "code",
   "execution_count": 16,
   "id": "4739823a",
   "metadata": {},
   "outputs": [
    {
     "data": {
      "text/plain": [
       "['households',\n",
       " 'housing_median_age',\n",
       " 'latitude',\n",
       " 'longitude',\n",
       " 'median_income',\n",
       " 'ocean_proximity=<1H OCEAN',\n",
       " 'ocean_proximity=INLAND',\n",
       " 'ocean_proximity=ISLAND',\n",
       " 'ocean_proximity=NEAR BAY',\n",
       " 'ocean_proximity=NEAR OCEAN',\n",
       " 'population',\n",
       " 'total_bedrooms',\n",
       " 'total_rooms']"
      ]
     },
     "execution_count": 16,
     "metadata": {},
     "output_type": "execute_result"
    }
   ],
   "source": [
    "lstFea = dvt.get_feature_names_out().tolist()\n",
    "lstFea"
   ]
  },
  {
   "cell_type": "markdown",
   "id": "db0c318b",
   "metadata": {},
   "source": [
    "# Q1: Decision Tree Regressor"
   ]
  },
  {
   "cell_type": "code",
   "execution_count": 17,
   "id": "038928b4",
   "metadata": {},
   "outputs": [],
   "source": [
    "dtr = DecisionTreeRegressor(max_depth=1)"
   ]
  },
  {
   "cell_type": "code",
   "execution_count": 18,
   "id": "4c1d1726",
   "metadata": {},
   "outputs": [
    {
     "data": {
      "text/html": [
       "<style>#sk-container-id-1 {color: black;background-color: white;}#sk-container-id-1 pre{padding: 0;}#sk-container-id-1 div.sk-toggleable {background-color: white;}#sk-container-id-1 label.sk-toggleable__label {cursor: pointer;display: block;width: 100%;margin-bottom: 0;padding: 0.3em;box-sizing: border-box;text-align: center;}#sk-container-id-1 label.sk-toggleable__label-arrow:before {content: \"▸\";float: left;margin-right: 0.25em;color: #696969;}#sk-container-id-1 label.sk-toggleable__label-arrow:hover:before {color: black;}#sk-container-id-1 div.sk-estimator:hover label.sk-toggleable__label-arrow:before {color: black;}#sk-container-id-1 div.sk-toggleable__content {max-height: 0;max-width: 0;overflow: hidden;text-align: left;background-color: #f0f8ff;}#sk-container-id-1 div.sk-toggleable__content pre {margin: 0.2em;color: black;border-radius: 0.25em;background-color: #f0f8ff;}#sk-container-id-1 input.sk-toggleable__control:checked~div.sk-toggleable__content {max-height: 200px;max-width: 100%;overflow: auto;}#sk-container-id-1 input.sk-toggleable__control:checked~label.sk-toggleable__label-arrow:before {content: \"▾\";}#sk-container-id-1 div.sk-estimator input.sk-toggleable__control:checked~label.sk-toggleable__label {background-color: #d4ebff;}#sk-container-id-1 div.sk-label input.sk-toggleable__control:checked~label.sk-toggleable__label {background-color: #d4ebff;}#sk-container-id-1 input.sk-hidden--visually {border: 0;clip: rect(1px 1px 1px 1px);clip: rect(1px, 1px, 1px, 1px);height: 1px;margin: -1px;overflow: hidden;padding: 0;position: absolute;width: 1px;}#sk-container-id-1 div.sk-estimator {font-family: monospace;background-color: #f0f8ff;border: 1px dotted black;border-radius: 0.25em;box-sizing: border-box;margin-bottom: 0.5em;}#sk-container-id-1 div.sk-estimator:hover {background-color: #d4ebff;}#sk-container-id-1 div.sk-parallel-item::after {content: \"\";width: 100%;border-bottom: 1px solid gray;flex-grow: 1;}#sk-container-id-1 div.sk-label:hover label.sk-toggleable__label {background-color: #d4ebff;}#sk-container-id-1 div.sk-serial::before {content: \"\";position: absolute;border-left: 1px solid gray;box-sizing: border-box;top: 0;bottom: 0;left: 50%;z-index: 0;}#sk-container-id-1 div.sk-serial {display: flex;flex-direction: column;align-items: center;background-color: white;padding-right: 0.2em;padding-left: 0.2em;position: relative;}#sk-container-id-1 div.sk-item {position: relative;z-index: 1;}#sk-container-id-1 div.sk-parallel {display: flex;align-items: stretch;justify-content: center;background-color: white;position: relative;}#sk-container-id-1 div.sk-item::before, #sk-container-id-1 div.sk-parallel-item::before {content: \"\";position: absolute;border-left: 1px solid gray;box-sizing: border-box;top: 0;bottom: 0;left: 50%;z-index: -1;}#sk-container-id-1 div.sk-parallel-item {display: flex;flex-direction: column;z-index: 1;position: relative;background-color: white;}#sk-container-id-1 div.sk-parallel-item:first-child::after {align-self: flex-end;width: 50%;}#sk-container-id-1 div.sk-parallel-item:last-child::after {align-self: flex-start;width: 50%;}#sk-container-id-1 div.sk-parallel-item:only-child::after {width: 0;}#sk-container-id-1 div.sk-dashed-wrapped {border: 1px dashed gray;margin: 0 0.4em 0.5em 0.4em;box-sizing: border-box;padding-bottom: 0.4em;background-color: white;}#sk-container-id-1 div.sk-label label {font-family: monospace;font-weight: bold;display: inline-block;line-height: 1.2em;}#sk-container-id-1 div.sk-label-container {text-align: center;}#sk-container-id-1 div.sk-container {/* jupyter's `normalize.less` sets `[hidden] { display: none; }` but bootstrap.min.css set `[hidden] { display: none !important; }` so we also need the `!important` here to be able to override the default hidden behavior on the sphinx rendered scikit-learn.org. See: https://github.com/scikit-learn/scikit-learn/issues/21755 */display: inline-block !important;position: relative;}#sk-container-id-1 div.sk-text-repr-fallback {display: none;}</style><div id=\"sk-container-id-1\" class=\"sk-top-container\"><div class=\"sk-text-repr-fallback\"><pre>DecisionTreeRegressor(max_depth=1)</pre><b>In a Jupyter environment, please rerun this cell to show the HTML representation or trust the notebook. <br />On GitHub, the HTML representation is unable to render, please try loading this page with nbviewer.org.</b></div><div class=\"sk-container\" hidden><div class=\"sk-item\"><div class=\"sk-estimator sk-toggleable\"><input class=\"sk-toggleable__control sk-hidden--visually\" id=\"sk-estimator-id-1\" type=\"checkbox\" checked><label for=\"sk-estimator-id-1\" class=\"sk-toggleable__label sk-toggleable__label-arrow\">DecisionTreeRegressor</label><div class=\"sk-toggleable__content\"><pre>DecisionTreeRegressor(max_depth=1)</pre></div></div></div></div></div>"
      ],
      "text/plain": [
       "DecisionTreeRegressor(max_depth=1)"
      ]
     },
     "execution_count": 18,
     "metadata": {},
     "output_type": "execute_result"
    }
   ],
   "source": [
    "dtr.fit(X_Tra, y_Tra)"
   ]
  },
  {
   "cell_type": "code",
   "execution_count": 19,
   "id": "0fd6611a",
   "metadata": {},
   "outputs": [
    {
     "name": "stdout",
     "output_type": "stream",
     "text": [
      "|--- ocean_proximity=INLAND <= 0.50\n",
      "|   |--- value: [12.31]\n",
      "|--- ocean_proximity=INLAND >  0.50\n",
      "|   |--- value: [11.61]\n",
      "\n"
     ]
    }
   ],
   "source": [
    "# see Tree\n",
    "print(export_text(dtr, feature_names=dvt.get_feature_names_out().tolist()))"
   ]
  },
  {
   "cell_type": "markdown",
   "id": "4aeb9e19",
   "metadata": {},
   "source": [
    "## Q1 = 'ocean_proximity=INLAND'"
   ]
  },
  {
   "cell_type": "markdown",
   "id": "062914cf",
   "metadata": {},
   "source": [
    "# Q2: Random Forest Regressor"
   ]
  },
  {
   "cell_type": "code",
   "execution_count": 20,
   "id": "18add5cb",
   "metadata": {},
   "outputs": [
    {
     "data": {
      "text/html": [
       "<style>#sk-container-id-2 {color: black;background-color: white;}#sk-container-id-2 pre{padding: 0;}#sk-container-id-2 div.sk-toggleable {background-color: white;}#sk-container-id-2 label.sk-toggleable__label {cursor: pointer;display: block;width: 100%;margin-bottom: 0;padding: 0.3em;box-sizing: border-box;text-align: center;}#sk-container-id-2 label.sk-toggleable__label-arrow:before {content: \"▸\";float: left;margin-right: 0.25em;color: #696969;}#sk-container-id-2 label.sk-toggleable__label-arrow:hover:before {color: black;}#sk-container-id-2 div.sk-estimator:hover label.sk-toggleable__label-arrow:before {color: black;}#sk-container-id-2 div.sk-toggleable__content {max-height: 0;max-width: 0;overflow: hidden;text-align: left;background-color: #f0f8ff;}#sk-container-id-2 div.sk-toggleable__content pre {margin: 0.2em;color: black;border-radius: 0.25em;background-color: #f0f8ff;}#sk-container-id-2 input.sk-toggleable__control:checked~div.sk-toggleable__content {max-height: 200px;max-width: 100%;overflow: auto;}#sk-container-id-2 input.sk-toggleable__control:checked~label.sk-toggleable__label-arrow:before {content: \"▾\";}#sk-container-id-2 div.sk-estimator input.sk-toggleable__control:checked~label.sk-toggleable__label {background-color: #d4ebff;}#sk-container-id-2 div.sk-label input.sk-toggleable__control:checked~label.sk-toggleable__label {background-color: #d4ebff;}#sk-container-id-2 input.sk-hidden--visually {border: 0;clip: rect(1px 1px 1px 1px);clip: rect(1px, 1px, 1px, 1px);height: 1px;margin: -1px;overflow: hidden;padding: 0;position: absolute;width: 1px;}#sk-container-id-2 div.sk-estimator {font-family: monospace;background-color: #f0f8ff;border: 1px dotted black;border-radius: 0.25em;box-sizing: border-box;margin-bottom: 0.5em;}#sk-container-id-2 div.sk-estimator:hover {background-color: #d4ebff;}#sk-container-id-2 div.sk-parallel-item::after {content: \"\";width: 100%;border-bottom: 1px solid gray;flex-grow: 1;}#sk-container-id-2 div.sk-label:hover label.sk-toggleable__label {background-color: #d4ebff;}#sk-container-id-2 div.sk-serial::before {content: \"\";position: absolute;border-left: 1px solid gray;box-sizing: border-box;top: 0;bottom: 0;left: 50%;z-index: 0;}#sk-container-id-2 div.sk-serial {display: flex;flex-direction: column;align-items: center;background-color: white;padding-right: 0.2em;padding-left: 0.2em;position: relative;}#sk-container-id-2 div.sk-item {position: relative;z-index: 1;}#sk-container-id-2 div.sk-parallel {display: flex;align-items: stretch;justify-content: center;background-color: white;position: relative;}#sk-container-id-2 div.sk-item::before, #sk-container-id-2 div.sk-parallel-item::before {content: \"\";position: absolute;border-left: 1px solid gray;box-sizing: border-box;top: 0;bottom: 0;left: 50%;z-index: -1;}#sk-container-id-2 div.sk-parallel-item {display: flex;flex-direction: column;z-index: 1;position: relative;background-color: white;}#sk-container-id-2 div.sk-parallel-item:first-child::after {align-self: flex-end;width: 50%;}#sk-container-id-2 div.sk-parallel-item:last-child::after {align-self: flex-start;width: 50%;}#sk-container-id-2 div.sk-parallel-item:only-child::after {width: 0;}#sk-container-id-2 div.sk-dashed-wrapped {border: 1px dashed gray;margin: 0 0.4em 0.5em 0.4em;box-sizing: border-box;padding-bottom: 0.4em;background-color: white;}#sk-container-id-2 div.sk-label label {font-family: monospace;font-weight: bold;display: inline-block;line-height: 1.2em;}#sk-container-id-2 div.sk-label-container {text-align: center;}#sk-container-id-2 div.sk-container {/* jupyter's `normalize.less` sets `[hidden] { display: none; }` but bootstrap.min.css set `[hidden] { display: none !important; }` so we also need the `!important` here to be able to override the default hidden behavior on the sphinx rendered scikit-learn.org. See: https://github.com/scikit-learn/scikit-learn/issues/21755 */display: inline-block !important;position: relative;}#sk-container-id-2 div.sk-text-repr-fallback {display: none;}</style><div id=\"sk-container-id-2\" class=\"sk-top-container\"><div class=\"sk-text-repr-fallback\"><pre>RandomForestRegressor(n_estimators=10, n_jobs=-1, random_state=1)</pre><b>In a Jupyter environment, please rerun this cell to show the HTML representation or trust the notebook. <br />On GitHub, the HTML representation is unable to render, please try loading this page with nbviewer.org.</b></div><div class=\"sk-container\" hidden><div class=\"sk-item\"><div class=\"sk-estimator sk-toggleable\"><input class=\"sk-toggleable__control sk-hidden--visually\" id=\"sk-estimator-id-2\" type=\"checkbox\" checked><label for=\"sk-estimator-id-2\" class=\"sk-toggleable__label sk-toggleable__label-arrow\">RandomForestRegressor</label><div class=\"sk-toggleable__content\"><pre>RandomForestRegressor(n_estimators=10, n_jobs=-1, random_state=1)</pre></div></div></div></div></div>"
      ],
      "text/plain": [
       "RandomForestRegressor(n_estimators=10, n_jobs=-1, random_state=1)"
      ]
     },
     "execution_count": 20,
     "metadata": {},
     "output_type": "execute_result"
    }
   ],
   "source": [
    "rfr = RandomForestRegressor(n_estimators=10 ,\n",
    "                            random_state=1 ,\n",
    "                            n_jobs=-1)\n",
    "\n",
    "rfr.fit(X_Tra, y_Tra)"
   ]
  },
  {
   "cell_type": "code",
   "execution_count": 21,
   "id": "1b47fc83",
   "metadata": {
    "scrolled": true
   },
   "outputs": [],
   "source": [
    "y_prdVal = rfr.predict(X_Val)"
   ]
  },
  {
   "cell_type": "code",
   "execution_count": 22,
   "id": "186d04a2",
   "metadata": {},
   "outputs": [
    {
     "data": {
      "text/plain": [
       "0.060387333376864104"
      ]
     },
     "execution_count": 22,
     "metadata": {},
     "output_type": "execute_result"
    }
   ],
   "source": [
    "# Calc RMSE with sickit\n",
    "floMse = mean_squared_error(y_Val, y_prdVal) \n",
    "floMse"
   ]
  },
  {
   "cell_type": "code",
   "execution_count": 23,
   "id": "7b8e8bad",
   "metadata": {},
   "outputs": [
    {
     "data": {
      "text/plain": [
       "0.2457383433183843"
      ]
     },
     "execution_count": 23,
     "metadata": {},
     "output_type": "execute_result"
    }
   ],
   "source": [
    "floRmse = npy.sqrt(floMse)\n",
    "floRmse"
   ]
  },
  {
   "cell_type": "markdown",
   "id": "8b8d98c7",
   "metadata": {},
   "source": [
    "## Q2 = 0.23 (0.25?)"
   ]
  },
  {
   "cell_type": "markdown",
   "id": "9cb75d36",
   "metadata": {},
   "source": [
    "# Q3: play with n-estimators"
   ]
  },
  {
   "cell_type": "code",
   "execution_count": 24,
   "id": "8500de89",
   "metadata": {},
   "outputs": [],
   "source": [
    "lstEst = range(10,201,10)"
   ]
  },
  {
   "cell_type": "code",
   "execution_count": 25,
   "id": "765f7156",
   "metadata": {},
   "outputs": [
    {
     "data": {
      "application/vnd.jupyter.widget-view+json": {
       "model_id": "9ee33fc5b23d4f3fbc2db29d16288e6b",
       "version_major": 2,
       "version_minor": 0
      },
      "text/plain": [
       "  0%|          | 0/20 [00:00<?, ?it/s]"
      ]
     },
     "metadata": {},
     "output_type": "display_data"
    }
   ],
   "source": [
    "dfrRes = pda.DataFrame(columns=['Mse' , 'SqrMse'])\n",
    "\n",
    "for est in tqdm(lstEst):\n",
    "    rfr = RandomForestRegressor(n_estimators=est ,\n",
    "                            random_state=1 ,\n",
    "                            n_jobs=-1)\n",
    "\n",
    "    rfr.fit(X_Tra, y_Tra)\n",
    "    y_prdVal = rfr.predict(X_Val)\n",
    "    floMse = mean_squared_error(y_Val, y_prdVal) \n",
    "    #print(est , ' => ' , floMse , '-' , npy.sqrt(floMse) )\n",
    "    dfrRes.loc[est] = [floMse , npy.sqrt(floMse)]"
   ]
  },
  {
   "cell_type": "code",
   "execution_count": 26,
   "id": "03054f76",
   "metadata": {},
   "outputs": [
    {
     "data": {
      "text/html": [
       "<div>\n",
       "<style scoped>\n",
       "    .dataframe tbody tr th:only-of-type {\n",
       "        vertical-align: middle;\n",
       "    }\n",
       "\n",
       "    .dataframe tbody tr th {\n",
       "        vertical-align: top;\n",
       "    }\n",
       "\n",
       "    .dataframe thead th {\n",
       "        text-align: right;\n",
       "    }\n",
       "</style>\n",
       "<table border=\"1\" class=\"dataframe\">\n",
       "  <thead>\n",
       "    <tr style=\"text-align: right;\">\n",
       "      <th></th>\n",
       "      <th>Mse</th>\n",
       "      <th>SqrMse</th>\n",
       "    </tr>\n",
       "  </thead>\n",
       "  <tbody>\n",
       "    <tr>\n",
       "      <th>110</th>\n",
       "      <td>0.053601</td>\n",
       "      <td>0.231518</td>\n",
       "    </tr>\n",
       "    <tr>\n",
       "      <th>120</th>\n",
       "      <td>0.053648</td>\n",
       "      <td>0.231621</td>\n",
       "    </tr>\n",
       "    <tr>\n",
       "      <th>170</th>\n",
       "      <td>0.053652</td>\n",
       "      <td>0.231629</td>\n",
       "    </tr>\n",
       "    <tr>\n",
       "      <th>200</th>\n",
       "      <td>0.053662</td>\n",
       "      <td>0.231650</td>\n",
       "    </tr>\n",
       "    <tr>\n",
       "      <th>140</th>\n",
       "      <td>0.053681</td>\n",
       "      <td>0.231692</td>\n",
       "    </tr>\n",
       "    <tr>\n",
       "      <th>150</th>\n",
       "      <td>0.053682</td>\n",
       "      <td>0.231694</td>\n",
       "    </tr>\n",
       "    <tr>\n",
       "      <th>160</th>\n",
       "      <td>0.053684</td>\n",
       "      <td>0.231697</td>\n",
       "    </tr>\n",
       "    <tr>\n",
       "      <th>130</th>\n",
       "      <td>0.053689</td>\n",
       "      <td>0.231710</td>\n",
       "    </tr>\n",
       "    <tr>\n",
       "      <th>190</th>\n",
       "      <td>0.053714</td>\n",
       "      <td>0.231762</td>\n",
       "    </tr>\n",
       "    <tr>\n",
       "      <th>180</th>\n",
       "      <td>0.053727</td>\n",
       "      <td>0.231790</td>\n",
       "    </tr>\n",
       "    <tr>\n",
       "      <th>100</th>\n",
       "      <td>0.053809</td>\n",
       "      <td>0.231968</td>\n",
       "    </tr>\n",
       "    <tr>\n",
       "      <th>90</th>\n",
       "      <td>0.053924</td>\n",
       "      <td>0.232215</td>\n",
       "    </tr>\n",
       "    <tr>\n",
       "      <th>70</th>\n",
       "      <td>0.054002</td>\n",
       "      <td>0.232384</td>\n",
       "    </tr>\n",
       "    <tr>\n",
       "      <th>80</th>\n",
       "      <td>0.054069</td>\n",
       "      <td>0.232527</td>\n",
       "    </tr>\n",
       "    <tr>\n",
       "      <th>60</th>\n",
       "      <td>0.054216</td>\n",
       "      <td>0.232843</td>\n",
       "    </tr>\n",
       "    <tr>\n",
       "      <th>50</th>\n",
       "      <td>0.054337</td>\n",
       "      <td>0.233104</td>\n",
       "    </tr>\n",
       "    <tr>\n",
       "      <th>40</th>\n",
       "      <td>0.055029</td>\n",
       "      <td>0.234583</td>\n",
       "    </tr>\n",
       "    <tr>\n",
       "      <th>30</th>\n",
       "      <td>0.055562</td>\n",
       "      <td>0.235717</td>\n",
       "    </tr>\n",
       "    <tr>\n",
       "      <th>20</th>\n",
       "      <td>0.057246</td>\n",
       "      <td>0.239262</td>\n",
       "    </tr>\n",
       "    <tr>\n",
       "      <th>10</th>\n",
       "      <td>0.060387</td>\n",
       "      <td>0.245738</td>\n",
       "    </tr>\n",
       "  </tbody>\n",
       "</table>\n",
       "</div>"
      ],
      "text/plain": [
       "          Mse    SqrMse\n",
       "110  0.053601  0.231518\n",
       "120  0.053648  0.231621\n",
       "170  0.053652  0.231629\n",
       "200  0.053662  0.231650\n",
       "140  0.053681  0.231692\n",
       "150  0.053682  0.231694\n",
       "160  0.053684  0.231697\n",
       "130  0.053689  0.231710\n",
       "190  0.053714  0.231762\n",
       "180  0.053727  0.231790\n",
       "100  0.053809  0.231968\n",
       "90   0.053924  0.232215\n",
       "70   0.054002  0.232384\n",
       "80   0.054069  0.232527\n",
       "60   0.054216  0.232843\n",
       "50   0.054337  0.233104\n",
       "40   0.055029  0.234583\n",
       "30   0.055562  0.235717\n",
       "20   0.057246  0.239262\n",
       "10   0.060387  0.245738"
      ]
     },
     "execution_count": 26,
     "metadata": {},
     "output_type": "execute_result"
    }
   ],
   "source": [
    "dfrRes.sort_values(by=['SqrMse'], ascending=True)"
   ]
  },
  {
   "cell_type": "code",
   "execution_count": 27,
   "id": "295e007b",
   "metadata": {},
   "outputs": [
    {
     "data": {
      "text/plain": [
       "(0.23, 0.24)"
      ]
     },
     "execution_count": 27,
     "metadata": {},
     "output_type": "execute_result"
    },
    {
     "data": {
      "image/png": "[encoded data removed]",
      "text/plain": [
       "<Figure size 640x480 with 1 Axes>"
      ]
     },
     "metadata": {},
     "output_type": "display_data"
    }
   ],
   "source": [
    "plt.plot(dfrRes.index.values, dfrRes.SqrMse )\n",
    "plt.ylim(0.230, 0.240)"
   ]
  },
  {
   "cell_type": "markdown",
   "id": "760474bf",
   "metadata": {},
   "source": [
    "## Reaching plateau after +/- 125..150\n",
    "## Q3 = 150"
   ]
  },
  {
   "cell_type": "markdown",
   "id": "45aa31d7",
   "metadata": {},
   "source": [
    "# Q4: max_depth"
   ]
  },
  {
   "cell_type": "code",
   "execution_count": 28,
   "id": "b13299fd",
   "metadata": {},
   "outputs": [],
   "source": [
    "lstDpt = [10, 15, 20, 25]"
   ]
  },
  {
   "cell_type": "code",
   "execution_count": 29,
   "id": "edcccd96",
   "metadata": {},
   "outputs": [
    {
     "data": {
      "application/vnd.jupyter.widget-view+json": {
       "model_id": "a2089c53f1e442f98863fece4454e767",
       "version_major": 2,
       "version_minor": 0
      },
      "text/plain": [
       "  0%|          | 0/4 [00:00<?, ?it/s]"
      ]
     },
     "metadata": {},
     "output_type": "display_data"
    },
    {
     "data": {
      "application/vnd.jupyter.widget-view+json": {
       "model_id": "bd8c6d5d6f3f456595f86b16f3ab0014",
       "version_major": 2,
       "version_minor": 0
      },
      "text/plain": [
       "  0%|          | 0/20 [00:00<?, ?it/s]"
      ]
     },
     "metadata": {},
     "output_type": "display_data"
    },
    {
     "data": {
      "application/vnd.jupyter.widget-view+json": {
       "model_id": "8fcc50fa9b3740ddb4aa9e0adbb469e8",
       "version_major": 2,
       "version_minor": 0
      },
      "text/plain": [
       "  0%|          | 0/20 [00:00<?, ?it/s]"
      ]
     },
     "metadata": {},
     "output_type": "display_data"
    },
    {
     "data": {
      "application/vnd.jupyter.widget-view+json": {
       "model_id": "728bb07ac376458ebfecbf1abbbae69d",
       "version_major": 2,
       "version_minor": 0
      },
      "text/plain": [
       "  0%|          | 0/20 [00:00<?, ?it/s]"
      ]
     },
     "metadata": {},
     "output_type": "display_data"
    },
    {
     "data": {
      "application/vnd.jupyter.widget-view+json": {
       "model_id": "08f65865dd8b49d28816b08446a8b63f",
       "version_major": 2,
       "version_minor": 0
      },
      "text/plain": [
       "  0%|          | 0/20 [00:00<?, ?it/s]"
      ]
     },
     "metadata": {},
     "output_type": "display_data"
    }
   ],
   "source": [
    "dfrRes = pda.DataFrame(columns=['MaxDpt' ,'Est' , 'Mse' , 'SqrMse'])\n",
    "\n",
    "for dpt in tqdm(lstDpt):\n",
    "    for est in tqdm(lstEst):\n",
    "        rfr = RandomForestRegressor(n_estimators=est ,\n",
    "                                    random_state=1 ,\n",
    "                                    max_depth = dpt ,  \n",
    "                                    n_jobs=-1)\n",
    "\n",
    "        rfr.fit(X_Tra, y_Tra)\n",
    "\n",
    "        y_prdVal = rfr.predict(X_Val)\n",
    "        floMse = mean_squared_error(y_Val, y_prdVal) \n",
    "        \n",
    "        #print(dpt , '-' , est , ' => ' , floMse , '-' , npy.sqrt(floMse) )\n",
    "        dfrRes.loc[len(dfrRes)] = [dpt, est , floMse , npy.sqrt(floMse)]"
   ]
  },
  {
   "cell_type": "code",
   "execution_count": 30,
   "id": "b0e0678d",
   "metadata": {},
   "outputs": [
    {
     "data": {
      "text/plain": [
       "(80, (80, 4))"
      ]
     },
     "execution_count": 30,
     "metadata": {},
     "output_type": "execute_result"
    }
   ],
   "source": [
    "len(dfrRes) , dfrRes.shape"
   ]
  },
  {
   "cell_type": "code",
   "execution_count": 31,
   "id": "c3985465",
   "metadata": {},
   "outputs": [
    {
     "data": {
      "text/html": [
       "<div>\n",
       "<style scoped>\n",
       "    .dataframe tbody tr th:only-of-type {\n",
       "        vertical-align: middle;\n",
       "    }\n",
       "\n",
       "    .dataframe tbody tr th {\n",
       "        vertical-align: top;\n",
       "    }\n",
       "\n",
       "    .dataframe thead th {\n",
       "        text-align: right;\n",
       "    }\n",
       "</style>\n",
       "<table border=\"1\" class=\"dataframe\">\n",
       "  <thead>\n",
       "    <tr style=\"text-align: right;\">\n",
       "      <th></th>\n",
       "      <th>MaxDpt</th>\n",
       "      <th>Est</th>\n",
       "      <th>Mse</th>\n",
       "      <th>SqrMse</th>\n",
       "    </tr>\n",
       "  </thead>\n",
       "  <tbody>\n",
       "    <tr>\n",
       "      <th>70</th>\n",
       "      <td>25.0</td>\n",
       "      <td>110.0</td>\n",
       "      <td>0.053479</td>\n",
       "      <td>0.231255</td>\n",
       "    </tr>\n",
       "    <tr>\n",
       "      <th>71</th>\n",
       "      <td>25.0</td>\n",
       "      <td>120.0</td>\n",
       "      <td>0.053498</td>\n",
       "      <td>0.231297</td>\n",
       "    </tr>\n",
       "    <tr>\n",
       "      <th>76</th>\n",
       "      <td>25.0</td>\n",
       "      <td>170.0</td>\n",
       "      <td>0.053565</td>\n",
       "      <td>0.231440</td>\n",
       "    </tr>\n",
       "    <tr>\n",
       "      <th>73</th>\n",
       "      <td>25.0</td>\n",
       "      <td>140.0</td>\n",
       "      <td>0.053573</td>\n",
       "      <td>0.231458</td>\n",
       "    </tr>\n",
       "    <tr>\n",
       "      <th>75</th>\n",
       "      <td>25.0</td>\n",
       "      <td>160.0</td>\n",
       "      <td>0.053585</td>\n",
       "      <td>0.231484</td>\n",
       "    </tr>\n",
       "    <tr>\n",
       "      <th>...</th>\n",
       "      <td>...</td>\n",
       "      <td>...</td>\n",
       "      <td>...</td>\n",
       "      <td>...</td>\n",
       "    </tr>\n",
       "    <tr>\n",
       "      <th>4</th>\n",
       "      <td>10.0</td>\n",
       "      <td>50.0</td>\n",
       "      <td>0.062596</td>\n",
       "      <td>0.250192</td>\n",
       "    </tr>\n",
       "    <tr>\n",
       "      <th>3</th>\n",
       "      <td>10.0</td>\n",
       "      <td>40.0</td>\n",
       "      <td>0.063032</td>\n",
       "      <td>0.251062</td>\n",
       "    </tr>\n",
       "    <tr>\n",
       "      <th>2</th>\n",
       "      <td>10.0</td>\n",
       "      <td>30.0</td>\n",
       "      <td>0.063326</td>\n",
       "      <td>0.251647</td>\n",
       "    </tr>\n",
       "    <tr>\n",
       "      <th>1</th>\n",
       "      <td>10.0</td>\n",
       "      <td>20.0</td>\n",
       "      <td>0.063900</td>\n",
       "      <td>0.252784</td>\n",
       "    </tr>\n",
       "    <tr>\n",
       "      <th>0</th>\n",
       "      <td>10.0</td>\n",
       "      <td>10.0</td>\n",
       "      <td>0.065046</td>\n",
       "      <td>0.255042</td>\n",
       "    </tr>\n",
       "  </tbody>\n",
       "</table>\n",
       "<p>80 rows × 4 columns</p>\n",
       "</div>"
      ],
      "text/plain": [
       "    MaxDpt    Est       Mse    SqrMse\n",
       "70    25.0  110.0  0.053479  0.231255\n",
       "71    25.0  120.0  0.053498  0.231297\n",
       "76    25.0  170.0  0.053565  0.231440\n",
       "73    25.0  140.0  0.053573  0.231458\n",
       "75    25.0  160.0  0.053585  0.231484\n",
       "..     ...    ...       ...       ...\n",
       "4     10.0   50.0  0.062596  0.250192\n",
       "3     10.0   40.0  0.063032  0.251062\n",
       "2     10.0   30.0  0.063326  0.251647\n",
       "1     10.0   20.0  0.063900  0.252784\n",
       "0     10.0   10.0  0.065046  0.255042\n",
       "\n",
       "[80 rows x 4 columns]"
      ]
     },
     "execution_count": 31,
     "metadata": {},
     "output_type": "execute_result"
    }
   ],
   "source": [
    "dfrRes.sort_values(by=['SqrMse'], ascending=True)"
   ]
  },
  {
   "cell_type": "code",
   "execution_count": 32,
   "id": "3ed3b714",
   "metadata": {},
   "outputs": [
    {
     "data": {
      "text/plain": [
       "<matplotlib.legend.Legend at 0x172c99e99a0>"
      ]
     },
     "execution_count": 32,
     "metadata": {},
     "output_type": "execute_result"
    },
    {
     "data": {
      "image/png": "[encoded data removed]",
      "text/plain": [
       "<Figure size 640x480 with 1 Axes>"
      ]
     },
     "metadata": {},
     "output_type": "display_data"
    }
   ],
   "source": [
    "for dpt in lstDpt:\n",
    "    dfrResDpt = dfrRes[dfrRes.MaxDpt == dpt]\n",
    "    plt.plot(dfrResDpt.Est, dfrResDpt.SqrMse , label = 'max_depth=%d' % dpt  )\n",
    "plt.legend()"
   ]
  },
  {
   "cell_type": "markdown",
   "id": "78941071",
   "metadata": {},
   "source": [
    "## Q4: best max_depth=25"
   ]
  },
  {
   "cell_type": "markdown",
   "id": "40563895",
   "metadata": {},
   "source": [
    "# Q5 feature_importances_"
   ]
  },
  {
   "cell_type": "code",
   "execution_count": 33,
   "id": "03627d6a",
   "metadata": {},
   "outputs": [
    {
     "data": {
      "text/html": [
       "<style>#sk-container-id-3 {color: black;background-color: white;}#sk-container-id-3 pre{padding: 0;}#sk-container-id-3 div.sk-toggleable {background-color: white;}#sk-container-id-3 label.sk-toggleable__label {cursor: pointer;display: block;width: 100%;margin-bottom: 0;padding: 0.3em;box-sizing: border-box;text-align: center;}#sk-container-id-3 label.sk-toggleable__label-arrow:before {content: \"▸\";float: left;margin-right: 0.25em;color: #696969;}#sk-container-id-3 label.sk-toggleable__label-arrow:hover:before {color: black;}#sk-container-id-3 div.sk-estimator:hover label.sk-toggleable__label-arrow:before {color: black;}#sk-container-id-3 div.sk-toggleable__content {max-height: 0;max-width: 0;overflow: hidden;text-align: left;background-color: #f0f8ff;}#sk-container-id-3 div.sk-toggleable__content pre {margin: 0.2em;color: black;border-radius: 0.25em;background-color: #f0f8ff;}#sk-container-id-3 input.sk-toggleable__control:checked~div.sk-toggleable__content {max-height: 200px;max-width: 100%;overflow: auto;}#sk-container-id-3 input.sk-toggleable__control:checked~label.sk-toggleable__label-arrow:before {content: \"▾\";}#sk-container-id-3 div.sk-estimator input.sk-toggleable__control:checked~label.sk-toggleable__label {background-color: #d4ebff;}#sk-container-id-3 div.sk-label input.sk-toggleable__control:checked~label.sk-toggleable__label {background-color: #d4ebff;}#sk-container-id-3 input.sk-hidden--visually {border: 0;clip: rect(1px 1px 1px 1px);clip: rect(1px, 1px, 1px, 1px);height: 1px;margin: -1px;overflow: hidden;padding: 0;position: absolute;width: 1px;}#sk-container-id-3 div.sk-estimator {font-family: monospace;background-color: #f0f8ff;border: 1px dotted black;border-radius: 0.25em;box-sizing: border-box;margin-bottom: 0.5em;}#sk-container-id-3 div.sk-estimator:hover {background-color: #d4ebff;}#sk-container-id-3 div.sk-parallel-item::after {content: \"\";width: 100%;border-bottom: 1px solid gray;flex-grow: 1;}#sk-container-id-3 div.sk-label:hover label.sk-toggleable__label {background-color: #d4ebff;}#sk-container-id-3 div.sk-serial::before {content: \"\";position: absolute;border-left: 1px solid gray;box-sizing: border-box;top: 0;bottom: 0;left: 50%;z-index: 0;}#sk-container-id-3 div.sk-serial {display: flex;flex-direction: column;align-items: center;background-color: white;padding-right: 0.2em;padding-left: 0.2em;position: relative;}#sk-container-id-3 div.sk-item {position: relative;z-index: 1;}#sk-container-id-3 div.sk-parallel {display: flex;align-items: stretch;justify-content: center;background-color: white;position: relative;}#sk-container-id-3 div.sk-item::before, #sk-container-id-3 div.sk-parallel-item::before {content: \"\";position: absolute;border-left: 1px solid gray;box-sizing: border-box;top: 0;bottom: 0;left: 50%;z-index: -1;}#sk-container-id-3 div.sk-parallel-item {display: flex;flex-direction: column;z-index: 1;position: relative;background-color: white;}#sk-container-id-3 div.sk-parallel-item:first-child::after {align-self: flex-end;width: 50%;}#sk-container-id-3 div.sk-parallel-item:last-child::after {align-self: flex-start;width: 50%;}#sk-container-id-3 div.sk-parallel-item:only-child::after {width: 0;}#sk-container-id-3 div.sk-dashed-wrapped {border: 1px dashed gray;margin: 0 0.4em 0.5em 0.4em;box-sizing: border-box;padding-bottom: 0.4em;background-color: white;}#sk-container-id-3 div.sk-label label {font-family: monospace;font-weight: bold;display: inline-block;line-height: 1.2em;}#sk-container-id-3 div.sk-label-container {text-align: center;}#sk-container-id-3 div.sk-container {/* jupyter's `normalize.less` sets `[hidden] { display: none; }` but bootstrap.min.css set `[hidden] { display: none !important; }` so we also need the `!important` here to be able to override the default hidden behavior on the sphinx rendered scikit-learn.org. See: https://github.com/scikit-learn/scikit-learn/issues/21755 */display: inline-block !important;position: relative;}#sk-container-id-3 div.sk-text-repr-fallback {display: none;}</style><div id=\"sk-container-id-3\" class=\"sk-top-container\"><div class=\"sk-text-repr-fallback\"><pre>RandomForestRegressor(max_depth=20, n_estimators=10, n_jobs=-1, random_state=1)</pre><b>In a Jupyter environment, please rerun this cell to show the HTML representation or trust the notebook. <br />On GitHub, the HTML representation is unable to render, please try loading this page with nbviewer.org.</b></div><div class=\"sk-container\" hidden><div class=\"sk-item\"><div class=\"sk-estimator sk-toggleable\"><input class=\"sk-toggleable__control sk-hidden--visually\" id=\"sk-estimator-id-3\" type=\"checkbox\" checked><label for=\"sk-estimator-id-3\" class=\"sk-toggleable__label sk-toggleable__label-arrow\">RandomForestRegressor</label><div class=\"sk-toggleable__content\"><pre>RandomForestRegressor(max_depth=20, n_estimators=10, n_jobs=-1, random_state=1)</pre></div></div></div></div></div>"
      ],
      "text/plain": [
       "RandomForestRegressor(max_depth=20, n_estimators=10, n_jobs=-1, random_state=1)"
      ]
     },
     "execution_count": 33,
     "metadata": {},
     "output_type": "execute_result"
    }
   ],
   "source": [
    "# train again with params from homework\n",
    "rfr = RandomForestRegressor(n_estimators=10, max_depth=20,\n",
    "                            random_state=1, n_jobs=-1 )\n",
    "   \n",
    "rfr.fit(X_Tra, y_Tra)"
   ]
  },
  {
   "cell_type": "code",
   "execution_count": 34,
   "id": "41415b2d",
   "metadata": {},
   "outputs": [
    {
     "data": {
      "text/plain": [
       "(array([1.69573183e-02, 3.30938997e-02, 1.01333971e-01, 9.62649876e-02,\n",
       "        3.62912907e-01, 3.00723750e-03, 3.10900842e-01, 3.56806263e-04,\n",
       "        4.48661972e-04, 4.22762446e-03, 3.09180197e-02, 1.90412562e-02,\n",
       "        2.05364687e-02]),\n",
       " 13)"
      ]
     },
     "execution_count": 34,
     "metadata": {},
     "output_type": "execute_result"
    }
   ],
   "source": [
    "arrFeI = rfr.feature_importances_\n",
    "arrFeI , len(arrFeI)"
   ]
  },
  {
   "cell_type": "code",
   "execution_count": 35,
   "id": "23da7e8b",
   "metadata": {},
   "outputs": [
    {
     "data": {
      "text/plain": [
       "[0.01695731830740333,\n",
       " 0.03309389968532549,\n",
       " 0.10133397120516323,\n",
       " 0.09626498762322835,\n",
       " 0.3629129067227312,\n",
       " 0.003007237495106814,\n",
       " 0.31090084170805665,\n",
       " 0.000356806262947593,\n",
       " 0.00044866197239988755,\n",
       " 0.004227624463177561,\n",
       " 0.030918019662506523,\n",
       " 0.019041256180901026,\n",
       " 0.020536468711052403]"
      ]
     },
     "execution_count": 35,
     "metadata": {},
     "output_type": "execute_result"
    }
   ],
   "source": [
    "lstFeI = arrFeI.tolist()\n",
    "lstFeI"
   ]
  },
  {
   "cell_type": "code",
   "execution_count": 36,
   "id": "6984b307",
   "metadata": {},
   "outputs": [
    {
     "data": {
      "text/html": [
       "<div>\n",
       "<style scoped>\n",
       "    .dataframe tbody tr th:only-of-type {\n",
       "        vertical-align: middle;\n",
       "    }\n",
       "\n",
       "    .dataframe tbody tr th {\n",
       "        vertical-align: top;\n",
       "    }\n",
       "\n",
       "    .dataframe thead th {\n",
       "        text-align: right;\n",
       "    }\n",
       "</style>\n",
       "<table border=\"1\" class=\"dataframe\">\n",
       "  <thead>\n",
       "    <tr style=\"text-align: right;\">\n",
       "      <th></th>\n",
       "      <th>Feature</th>\n",
       "      <th>FeatureImportance</th>\n",
       "    </tr>\n",
       "  </thead>\n",
       "  <tbody>\n",
       "    <tr>\n",
       "      <th>4</th>\n",
       "      <td>median_income</td>\n",
       "      <td>0.362913</td>\n",
       "    </tr>\n",
       "    <tr>\n",
       "      <th>6</th>\n",
       "      <td>ocean_proximity=INLAND</td>\n",
       "      <td>0.310901</td>\n",
       "    </tr>\n",
       "    <tr>\n",
       "      <th>2</th>\n",
       "      <td>latitude</td>\n",
       "      <td>0.101334</td>\n",
       "    </tr>\n",
       "    <tr>\n",
       "      <th>3</th>\n",
       "      <td>longitude</td>\n",
       "      <td>0.096265</td>\n",
       "    </tr>\n",
       "    <tr>\n",
       "      <th>1</th>\n",
       "      <td>housing_median_age</td>\n",
       "      <td>0.033094</td>\n",
       "    </tr>\n",
       "    <tr>\n",
       "      <th>10</th>\n",
       "      <td>population</td>\n",
       "      <td>0.030918</td>\n",
       "    </tr>\n",
       "    <tr>\n",
       "      <th>12</th>\n",
       "      <td>total_rooms</td>\n",
       "      <td>0.020536</td>\n",
       "    </tr>\n",
       "    <tr>\n",
       "      <th>11</th>\n",
       "      <td>total_bedrooms</td>\n",
       "      <td>0.019041</td>\n",
       "    </tr>\n",
       "    <tr>\n",
       "      <th>0</th>\n",
       "      <td>households</td>\n",
       "      <td>0.016957</td>\n",
       "    </tr>\n",
       "    <tr>\n",
       "      <th>9</th>\n",
       "      <td>ocean_proximity=NEAR OCEAN</td>\n",
       "      <td>0.004228</td>\n",
       "    </tr>\n",
       "    <tr>\n",
       "      <th>5</th>\n",
       "      <td>ocean_proximity=&lt;1H OCEAN</td>\n",
       "      <td>0.003007</td>\n",
       "    </tr>\n",
       "    <tr>\n",
       "      <th>8</th>\n",
       "      <td>ocean_proximity=NEAR BAY</td>\n",
       "      <td>0.000449</td>\n",
       "    </tr>\n",
       "    <tr>\n",
       "      <th>7</th>\n",
       "      <td>ocean_proximity=ISLAND</td>\n",
       "      <td>0.000357</td>\n",
       "    </tr>\n",
       "  </tbody>\n",
       "</table>\n",
       "</div>"
      ],
      "text/plain": [
       "                       Feature  FeatureImportance\n",
       "4                median_income           0.362913\n",
       "6       ocean_proximity=INLAND           0.310901\n",
       "2                     latitude           0.101334\n",
       "3                    longitude           0.096265\n",
       "1           housing_median_age           0.033094\n",
       "10                  population           0.030918\n",
       "12                 total_rooms           0.020536\n",
       "11              total_bedrooms           0.019041\n",
       "0                   households           0.016957\n",
       "9   ocean_proximity=NEAR OCEAN           0.004228\n",
       "5    ocean_proximity=<1H OCEAN           0.003007\n",
       "8     ocean_proximity=NEAR BAY           0.000449\n",
       "7       ocean_proximity=ISLAND           0.000357"
      ]
     },
     "execution_count": 36,
     "metadata": {},
     "output_type": "execute_result"
    }
   ],
   "source": [
    "dfrFea = pda.DataFrame( {'Feature': lstFea , 'FeatureImportance' : lstFeI} )\n",
    "dfrFea.sort_values(by=['FeatureImportance'], ascending=False)"
   ]
  },
  {
   "cell_type": "markdown",
   "id": "7a07c0f1",
   "metadata": {},
   "source": [
    "## Q5:  'median_income' with 0.362913 "
   ]
  },
  {
   "cell_type": "markdown",
   "id": "3e379825",
   "metadata": {},
   "source": [
    "# Q6: XGBoost (eta variation)"
   ]
  },
  {
   "cell_type": "code",
   "execution_count": 51,
   "id": "af7a460f",
   "metadata": {},
   "outputs": [
    {
     "data": {
      "text/plain": [
       "['households',\n",
       " 'housing_median_age',\n",
       " 'latitude',\n",
       " 'longitude',\n",
       " 'median_income',\n",
       " 'ocean_proximity=<1H OCEAN',\n",
       " 'ocean_proximity=INLAND',\n",
       " 'ocean_proximity=ISLAND',\n",
       " 'ocean_proximity=NEAR BAY',\n",
       " 'ocean_proximity=NEAR OCEAN',\n",
       " 'population',\n",
       " 'total_bedrooms',\n",
       " 'total_rooms']"
      ]
     },
     "execution_count": 51,
     "metadata": {},
     "output_type": "execute_result"
    }
   ],
   "source": [
    "lstFea"
   ]
  },
  {
   "cell_type": "code",
   "execution_count": 52,
   "id": "2b1faa5d",
   "metadata": {},
   "outputs": [
    {
     "data": {
      "text/plain": [
       "['households',\n",
       " 'housing_median_age',\n",
       " 'latitude',\n",
       " 'longitude',\n",
       " 'median_income',\n",
       " 'ocean_proximity=_le_1H OCEAN',\n",
       " 'ocean_proximity=INLAND',\n",
       " 'ocean_proximity=ISLAND',\n",
       " 'ocean_proximity=NEAR BAY',\n",
       " 'ocean_proximity=NEAR OCEAN',\n",
       " 'population',\n",
       " 'total_bedrooms',\n",
       " 'total_rooms']"
      ]
     },
     "execution_count": 52,
     "metadata": {},
     "output_type": "execute_result"
    }
   ],
   "source": [
    "lstFeaCor = [ fea.replace(\"<\", \"_le_\") for fea in lstFea]\n",
    "lstFeaCor"
   ]
  },
  {
   "cell_type": "code",
   "execution_count": 53,
   "id": "a04ece0d",
   "metadata": {
    "scrolled": true
   },
   "outputs": [],
   "source": [
    "# dma for Xgboost\n",
    "dmaTra = xgb.DMatrix(X_Tra, label=y_Tra, feature_names=lstFeaCor)\n",
    "dmaVal = xgb.DMatrix(X_Val, label=y_Val, feature_names=lstFeaCor)"
   ]
  },
  {
   "cell_type": "code",
   "execution_count": 54,
   "id": "02e8224d",
   "metadata": {},
   "outputs": [],
   "source": [
    "watchlist = [(dmaTra, 'train'), (dmaVal, 'val')]"
   ]
  },
  {
   "cell_type": "code",
   "execution_count": 55,
   "id": "8316215f",
   "metadata": {},
   "outputs": [
    {
     "name": "stdout",
     "output_type": "stream",
     "text": [
      "[0]\ttrain-rmse:8.12733\tval-rmse:8.13245\n",
      "[1]\ttrain-rmse:5.69586\tval-rmse:5.70070\n",
      "[2]\ttrain-rmse:3.99539\tval-rmse:4.00041\n",
      "[3]\ttrain-rmse:2.80712\tval-rmse:2.81079\n",
      "[4]\ttrain-rmse:1.97833\tval-rmse:1.98175\n",
      "[5]\ttrain-rmse:1.40218\tval-rmse:1.40741\n",
      "[6]\ttrain-rmse:1.00099\tval-rmse:1.00700\n",
      "[7]\ttrain-rmse:0.72751\tval-rmse:0.73439\n",
      "[8]\ttrain-rmse:0.54190\tval-rmse:0.55047\n",
      "[9]\ttrain-rmse:0.42167\tval-rmse:0.43234\n",
      "[10]\ttrain-rmse:0.34481\tval-rmse:0.35782\n",
      "[11]\ttrain-rmse:0.29835\tval-rmse:0.31360\n",
      "[12]\ttrain-rmse:0.27095\tval-rmse:0.28864\n",
      "[13]\ttrain-rmse:0.25268\tval-rmse:0.27335\n",
      "[14]\ttrain-rmse:0.24295\tval-rmse:0.26605\n",
      "[15]\ttrain-rmse:0.23555\tval-rmse:0.26044\n",
      "[16]\ttrain-rmse:0.22630\tval-rmse:0.25229\n",
      "[17]\ttrain-rmse:0.22232\tval-rmse:0.24902\n",
      "[18]\ttrain-rmse:0.22029\tval-rmse:0.24826\n",
      "[19]\ttrain-rmse:0.21791\tval-rmse:0.24696\n",
      "[20]\ttrain-rmse:0.21580\tval-rmse:0.24624\n",
      "[21]\ttrain-rmse:0.21160\tval-rmse:0.24334\n",
      "[22]\ttrain-rmse:0.20975\tval-rmse:0.24245\n",
      "[23]\ttrain-rmse:0.20904\tval-rmse:0.24269\n",
      "[24]\ttrain-rmse:0.20703\tval-rmse:0.24252\n",
      "[25]\ttrain-rmse:0.20395\tval-rmse:0.24099\n",
      "[26]\ttrain-rmse:0.20188\tval-rmse:0.24019\n",
      "[27]\ttrain-rmse:0.20122\tval-rmse:0.24010\n",
      "[28]\ttrain-rmse:0.19810\tval-rmse:0.23843\n",
      "[29]\ttrain-rmse:0.19540\tval-rmse:0.23766\n",
      "[30]\ttrain-rmse:0.19440\tval-rmse:0.23741\n",
      "[31]\ttrain-rmse:0.19285\tval-rmse:0.23709\n",
      "[32]\ttrain-rmse:0.19126\tval-rmse:0.23686\n",
      "[33]\ttrain-rmse:0.18939\tval-rmse:0.23653\n",
      "[34]\ttrain-rmse:0.18742\tval-rmse:0.23605\n",
      "[35]\ttrain-rmse:0.18637\tval-rmse:0.23562\n",
      "[36]\ttrain-rmse:0.18486\tval-rmse:0.23539\n",
      "[37]\ttrain-rmse:0.18363\tval-rmse:0.23506\n",
      "[38]\ttrain-rmse:0.18274\tval-rmse:0.23495\n",
      "[39]\ttrain-rmse:0.18024\tval-rmse:0.23425\n",
      "[40]\ttrain-rmse:0.17983\tval-rmse:0.23419\n",
      "[41]\ttrain-rmse:0.17878\tval-rmse:0.23400\n",
      "[42]\ttrain-rmse:0.17782\tval-rmse:0.23384\n",
      "[43]\ttrain-rmse:0.17662\tval-rmse:0.23343\n",
      "[44]\ttrain-rmse:0.17568\tval-rmse:0.23317\n",
      "[45]\ttrain-rmse:0.17468\tval-rmse:0.23279\n",
      "[46]\ttrain-rmse:0.17304\tval-rmse:0.23205\n",
      "[47]\ttrain-rmse:0.17244\tval-rmse:0.23171\n",
      "[48]\ttrain-rmse:0.17139\tval-rmse:0.23142\n",
      "[49]\ttrain-rmse:0.17011\tval-rmse:0.23124\n",
      "[50]\ttrain-rmse:0.16934\tval-rmse:0.23097\n",
      "[51]\ttrain-rmse:0.16838\tval-rmse:0.23106\n",
      "[52]\ttrain-rmse:0.16788\tval-rmse:0.23074\n",
      "[53]\ttrain-rmse:0.16712\tval-rmse:0.23072\n",
      "[54]\ttrain-rmse:0.16616\tval-rmse:0.23030\n",
      "[55]\ttrain-rmse:0.16546\tval-rmse:0.23039\n",
      "[56]\ttrain-rmse:0.16433\tval-rmse:0.23006\n",
      "[57]\ttrain-rmse:0.16357\tval-rmse:0.23002\n",
      "[58]\ttrain-rmse:0.16309\tval-rmse:0.22987\n",
      "[59]\ttrain-rmse:0.16269\tval-rmse:0.22980\n",
      "[60]\ttrain-rmse:0.16177\tval-rmse:0.22950\n",
      "[61]\ttrain-rmse:0.16158\tval-rmse:0.22952\n",
      "[62]\ttrain-rmse:0.16081\tval-rmse:0.22929\n",
      "[63]\ttrain-rmse:0.15998\tval-rmse:0.22882\n",
      "[64]\ttrain-rmse:0.15854\tval-rmse:0.22878\n",
      "[65]\ttrain-rmse:0.15762\tval-rmse:0.22857\n",
      "[66]\ttrain-rmse:0.15666\tval-rmse:0.22862\n",
      "[67]\ttrain-rmse:0.15518\tval-rmse:0.22827\n",
      "[68]\ttrain-rmse:0.15446\tval-rmse:0.22825\n",
      "[69]\ttrain-rmse:0.15349\tval-rmse:0.22788\n",
      "[70]\ttrain-rmse:0.15323\tval-rmse:0.22787\n",
      "[71]\ttrain-rmse:0.15233\tval-rmse:0.22774\n",
      "[72]\ttrain-rmse:0.15212\tval-rmse:0.22773\n",
      "[73]\ttrain-rmse:0.15129\tval-rmse:0.22782\n",
      "[74]\ttrain-rmse:0.15075\tval-rmse:0.22771\n",
      "[75]\ttrain-rmse:0.15010\tval-rmse:0.22755\n",
      "[76]\ttrain-rmse:0.14872\tval-rmse:0.22705\n",
      "[77]\ttrain-rmse:0.14798\tval-rmse:0.22676\n",
      "[78]\ttrain-rmse:0.14728\tval-rmse:0.22669\n",
      "[79]\ttrain-rmse:0.14632\tval-rmse:0.22634\n",
      "[80]\ttrain-rmse:0.14564\tval-rmse:0.22611\n",
      "[81]\ttrain-rmse:0.14461\tval-rmse:0.22601\n",
      "[82]\ttrain-rmse:0.14386\tval-rmse:0.22595\n",
      "[83]\ttrain-rmse:0.14298\tval-rmse:0.22589\n",
      "[84]\ttrain-rmse:0.14244\tval-rmse:0.22598\n",
      "[85]\ttrain-rmse:0.14166\tval-rmse:0.22579\n",
      "[86]\ttrain-rmse:0.14128\tval-rmse:0.22582\n",
      "[87]\ttrain-rmse:0.14041\tval-rmse:0.22647\n",
      "[88]\ttrain-rmse:0.13997\tval-rmse:0.22641\n",
      "[89]\ttrain-rmse:0.13952\tval-rmse:0.22647\n",
      "[90]\ttrain-rmse:0.13892\tval-rmse:0.22628\n",
      "[91]\ttrain-rmse:0.13847\tval-rmse:0.22610\n",
      "[92]\ttrain-rmse:0.13794\tval-rmse:0.22619\n",
      "[93]\ttrain-rmse:0.13696\tval-rmse:0.22648\n",
      "[94]\ttrain-rmse:0.13626\tval-rmse:0.22643\n",
      "[95]\ttrain-rmse:0.13553\tval-rmse:0.22630\n",
      "[96]\ttrain-rmse:0.13458\tval-rmse:0.22620\n",
      "[97]\ttrain-rmse:0.13372\tval-rmse:0.22608\n",
      "[98]\ttrain-rmse:0.13344\tval-rmse:0.22611\n",
      "[99]\ttrain-rmse:0.13299\tval-rmse:0.22610\n"
     ]
    }
   ],
   "source": [
    "xgb_params = {\n",
    "    'eta': 0.3, \n",
    "    'max_depth': 6,\n",
    "    'min_child_weight': 1,\n",
    "    \n",
    "    'objective': 'reg:squarederror',\n",
    "    'nthread': 8,\n",
    "    \n",
    "    'seed': 1,\n",
    "    'verbosity': 1,\n",
    "}\n",
    "\n",
    "modXgb = xgb.train(xgb_params, \n",
    "                   dmaTra, \n",
    "                   num_boost_round=100 ,\n",
    "                   evals=watchlist ,\n",
    "                   verbose_eval=1\n",
    "                  )"
   ]
  },
  {
   "cell_type": "code",
   "execution_count": 56,
   "id": "2f7b6932",
   "metadata": {},
   "outputs": [],
   "source": [
    "y_prdVal = modXgb.predict(dmaVal)"
   ]
  },
  {
   "cell_type": "code",
   "execution_count": 57,
   "id": "33e8c23c",
   "metadata": {
    "scrolled": true
   },
   "outputs": [
    {
     "data": {
      "text/plain": [
       "(array([12.56898162, 13.12236738, 11.11989769, ..., 12.81963805,\n",
       "        12.29087784, 12.1884228 ]),\n",
       " array([12.785514 , 13.082328 , 11.485188 , ..., 12.787802 , 12.4473295,\n",
       "        12.275799 ], dtype=float32))"
      ]
     },
     "execution_count": 57,
     "metadata": {},
     "output_type": "execute_result"
    }
   ],
   "source": [
    "y_Val , y_prdVal"
   ]
  },
  {
   "cell_type": "code",
   "execution_count": 58,
   "id": "65959fa1",
   "metadata": {},
   "outputs": [
    {
     "data": {
      "text/plain": [
       "(0.05111930390108557, 0.2260957847928297)"
      ]
     },
     "execution_count": 58,
     "metadata": {},
     "output_type": "execute_result"
    }
   ],
   "source": [
    "# Calc RMSE with sickit\n",
    "floMse = mean_squared_error(y_Val, y_prdVal) \n",
    "floSqrMse = npy.sqrt(floMse)\n",
    "floMse , floSqrMse"
   ]
  },
  {
   "cell_type": "code",
   "execution_count": 59,
   "id": "77532362",
   "metadata": {},
   "outputs": [
    {
     "data": {
      "text/plain": [
       "[0.01, 0.1, 0.3]"
      ]
     },
     "execution_count": 59,
     "metadata": {},
     "output_type": "execute_result"
    }
   ],
   "source": [
    "lstEta = [0.01 , 0.1 , 0.3 ]\n",
    "lstEta"
   ]
  },
  {
   "cell_type": "code",
   "execution_count": 110,
   "id": "e9f1ac4f",
   "metadata": {},
   "outputs": [
    {
     "name": "stdout",
     "output_type": "stream",
     "text": [
      "---<<beg>>---\n",
      "{eta: 0.01 }\n",
      "[0]\ttrain-rmse:11.48634\tval-rmse:11.49225\n",
      "[10]\ttrain-rmse:10.38969\tval-rmse:10.39532\n",
      "[20]\ttrain-rmse:9.39796\tval-rmse:9.40346\n",
      "[30]\ttrain-rmse:8.50110\tval-rmse:8.50645\n",
      "[40]\ttrain-rmse:7.69008\tval-rmse:7.69524\n",
      "[50]\ttrain-rmse:6.95672\tval-rmse:6.96171\n",
      "[60]\ttrain-rmse:6.29360\tval-rmse:6.29841\n",
      "[70]\ttrain-rmse:5.69400\tval-rmse:5.69854\n",
      "[80]\ttrain-rmse:5.15187\tval-rmse:5.15621\n",
      "[90]\ttrain-rmse:4.66171\tval-rmse:4.66589\n",
      "[99]\ttrain-rmse:4.26092\tval-rmse:4.26496\n",
      "---<<res ; floMse= 18.189893628482622 ; floSqrMse= 4.264961152048471 ; >>---\n",
      "---<<end>>---\n",
      "---<<beg>>---\n",
      "{eta: 0.1 }\n",
      "[0]\ttrain-rmse:10.44371\tval-rmse:10.44938\n",
      "[10]\ttrain-rmse:3.65741\tval-rmse:3.66135\n",
      "[20]\ttrain-rmse:1.30499\tval-rmse:1.31054\n",
      "[30]\ttrain-rmse:0.51144\tval-rmse:0.52189\n",
      "[40]\ttrain-rmse:0.27985\tval-rmse:0.30053\n",
      "[50]\ttrain-rmse:0.22614\tval-rmse:0.25334\n",
      "[60]\ttrain-rmse:0.21035\tval-rmse:0.24189\n",
      "[70]\ttrain-rmse:0.20116\tval-rmse:0.23684\n",
      "[80]\ttrain-rmse:0.19384\tval-rmse:0.23398\n",
      "[90]\ttrain-rmse:0.18794\tval-rmse:0.23206\n",
      "[99]\ttrain-rmse:0.18329\tval-rmse:0.23054\n",
      "---<<res ; floMse= 0.05314943034462633 ; floSqrMse= 0.2305416021993131 ; >>---\n",
      "---<<end>>---\n",
      "---<<beg>>---\n",
      "{eta: 0.3 }\n",
      "[0]\ttrain-rmse:8.12733\tval-rmse:8.13245\n",
      "[10]\ttrain-rmse:0.34481\tval-rmse:0.35782\n",
      "[20]\ttrain-rmse:0.21580\tval-rmse:0.24624\n",
      "[30]\ttrain-rmse:0.19440\tval-rmse:0.23741\n",
      "[40]\ttrain-rmse:0.17983\tval-rmse:0.23419\n",
      "[50]\ttrain-rmse:0.16934\tval-rmse:0.23097\n",
      "[60]\ttrain-rmse:0.16177\tval-rmse:0.22950\n",
      "[70]\ttrain-rmse:0.15323\tval-rmse:0.22787\n",
      "[80]\ttrain-rmse:0.14564\tval-rmse:0.22611\n",
      "[90]\ttrain-rmse:0.13892\tval-rmse:0.22628\n",
      "[99]\ttrain-rmse:0.13299\tval-rmse:0.22610\n",
      "---<<res ; floMse= 0.05111930390108557 ; floSqrMse= 0.2260957847928297 ; >>---\n",
      "---<<end>>---\n"
     ]
    }
   ],
   "source": [
    "for eta in lstEta:\n",
    "    print('---<<beg>>---\\n{eta:' , eta , '}')\n",
    "    xgb_params = {\n",
    "        'eta': eta, \n",
    "        'max_depth': 6,\n",
    "        'min_child_weight': 1,\n",
    "\n",
    "        'objective': 'reg:squarederror',\n",
    "        'nthread': 8,\n",
    "\n",
    "        'seed': 1,\n",
    "        'verbosity': 1,\n",
    "    }\n",
    "\n",
    "    modXgb = xgb.train(xgb_params, \n",
    "                       dmaTra, \n",
    "                       num_boost_round=100 ,\n",
    "                       evals=watchlist ,\n",
    "                       verbose_eval=10\n",
    "                      )\n",
    "    y_prdVal = modXgb.predict(dmaVal)\n",
    "    \n",
    "    floMse = mean_squared_error(y_Val, y_prdVal) \n",
    "    floSqrMse = npy.sqrt(floMse)\n",
    "    print('---<<res ; floMse=' , floMse , '; floSqrMse=' , floSqrMse , '; >>---\\n---<<end>>---')"
   ]
  },
  {
   "cell_type": "code",
   "execution_count": 114,
   "id": "5c327101",
   "metadata": {},
   "outputs": [],
   "source": [
    "#modXgb.save_model('modXgb.json')"
   ]
  },
  {
   "cell_type": "markdown",
   "id": "4ebae18d",
   "metadata": {},
   "source": [
    "## Q6 : eta=0.3 is slightly better than 0.1 !"
   ]
  },
  {
   "cell_type": "markdown",
   "id": "6586760f",
   "metadata": {},
   "source": [
    "## Repeat same but playing with output to plot   (full verbose)"
   ]
  },
  {
   "cell_type": "code",
   "execution_count": 105,
   "id": "a7aebd6b",
   "metadata": {},
   "outputs": [],
   "source": [
    "%%capture output\n",
    "\n",
    "for eta in lstEta:\n",
    "    print('---<<beg>>---\\n{eta:' , eta , '}')\n",
    "    xgb_params = {\n",
    "        'eta': eta, \n",
    "        'max_depth': 6,\n",
    "        'min_child_weight': 1,\n",
    "\n",
    "        'objective': 'reg:squarederror',\n",
    "        'nthread': 8,\n",
    "\n",
    "        'seed': 1,\n",
    "        'verbosity': 1,\n",
    "    }\n",
    "\n",
    "    modXgb = xgb.train(xgb_params, \n",
    "                       dmaTra, \n",
    "                       num_boost_round=100 ,\n",
    "                       evals=watchlist ,\n",
    "                       verbose_eval=1\n",
    "                      )\n",
    "    y_prdVal = modXgb.predict(dmaVal)\n",
    "    \n",
    "    floMse = mean_squared_error(y_Val, y_prdVal) \n",
    "    floSqrMse = npy.sqrt(floMse)\n",
    "    print('---<<res ; floMse=' , floMse , '; floSqrMse=' , floSqrMse , '; >>---\\n---<<end>>---')"
   ]
  },
  {
   "cell_type": "code",
   "execution_count": 106,
   "id": "c62e6408",
   "metadata": {},
   "outputs": [
    {
     "name": "stdout",
     "output_type": "stream",
     "text": [
      "12 4222\n",
      " 0.01 \n",
      "4248 8433\n",
      " 0.1 \n",
      "8459 12642\n",
      " 0.3 \n",
      "---Reached end! ---\n"
     ]
    }
   ],
   "source": [
    "strOut = output.stdout\n",
    "\n",
    "dfrRes = pda.DataFrame(columns=['eta' ,'bos' , 'train-rmse' , 'val-rmse' , 'mse' , 'sqrmse' ])\n",
    "\n",
    "strBeg = '---<<beg>>--'\n",
    "strEnd = '---<<end>>--'\n",
    "\n",
    "intBeg = 0\n",
    "intEnd = 0\n",
    "\n",
    "while True:\n",
    "\n",
    "    intBeg = strOut.find(strBeg, intEnd) \n",
    "\n",
    "    if intBeg < 0 :\n",
    "        print('---Reached end! ---')\n",
    "        break\n",
    "    else:\n",
    "        intBeg = intBeg + len(strBeg)\n",
    "\n",
    "    intEnd = strOut.find(strEnd, intBeg)\n",
    "    print(intBeg, intEnd)\n",
    "    \n",
    "    strBlk = strOut[intBeg:intEnd]\n",
    "    \n",
    "    eta = strBlk[ strBlk.find('{')+2 : strBlk.find('}')].split(':')[1]\n",
    "    print(eta)\n",
    "    \n",
    "    lstRes = strBlk[strBlk.find('---<<res'):].split(';')\n",
    "    #print(lstRes[1].split('='))\n",
    "    #print(lstRes[2].split('='))\n",
    "                                                    \n",
    "    lstLin = strBlk[strBlk.find('}')+2: strBlk.find('---<<res') -1 ].split('\\n')\n",
    "    for lin in lstLin:\n",
    "        lstStr = lin.split('\\t')\n",
    "        \n",
    "        bos = lstStr[0][lstStr[0].find('[')+1: lstStr[0].find(']') ]\n",
    "        \n",
    "        #print('lstStr = ' ,lstStr[1].split(':')[0])\n",
    "        #print('lstStr = ' ,lstStr[1].split(':')[1])\n",
    "\n",
    "        #print('lstStr = ' ,lstStr[2].split(':')[0])\n",
    "        #print('lstStr = ' ,lstStr[2].split(':')[1])\n",
    "        \n",
    "        dfrRes.loc[len(dfrRes)] = [ float(eta) , int(bos) , \n",
    "                                   float(lstStr[1].split(':')[1]) , \n",
    "                                   float(lstStr[2].split(':')[1]) , \n",
    "                                   float(lstRes[1].split('=')[1]) , \n",
    "                                   float(lstRes[2].split('=')[1])   ]\n"
   ]
  },
  {
   "cell_type": "code",
   "execution_count": 107,
   "id": "9f207fc4",
   "metadata": {},
   "outputs": [
    {
     "data": {
      "text/html": [
       "<div>\n",
       "<style scoped>\n",
       "    .dataframe tbody tr th:only-of-type {\n",
       "        vertical-align: middle;\n",
       "    }\n",
       "\n",
       "    .dataframe tbody tr th {\n",
       "        vertical-align: top;\n",
       "    }\n",
       "\n",
       "    .dataframe thead th {\n",
       "        text-align: right;\n",
       "    }\n",
       "</style>\n",
       "<table border=\"1\" class=\"dataframe\">\n",
       "  <thead>\n",
       "    <tr style=\"text-align: right;\">\n",
       "      <th></th>\n",
       "      <th>eta</th>\n",
       "      <th>bos</th>\n",
       "      <th>train-rmse</th>\n",
       "      <th>val-rmse</th>\n",
       "      <th>mse</th>\n",
       "      <th>sqrmse</th>\n",
       "    </tr>\n",
       "  </thead>\n",
       "  <tbody>\n",
       "    <tr>\n",
       "      <th>0</th>\n",
       "      <td>0.01</td>\n",
       "      <td>0.0</td>\n",
       "      <td>11.48634</td>\n",
       "      <td>11.49225</td>\n",
       "      <td>18.189894</td>\n",
       "      <td>4.264961</td>\n",
       "    </tr>\n",
       "    <tr>\n",
       "      <th>1</th>\n",
       "      <td>0.01</td>\n",
       "      <td>1.0</td>\n",
       "      <td>11.37165</td>\n",
       "      <td>11.37753</td>\n",
       "      <td>18.189894</td>\n",
       "      <td>4.264961</td>\n",
       "    </tr>\n",
       "    <tr>\n",
       "      <th>2</th>\n",
       "      <td>0.01</td>\n",
       "      <td>2.0</td>\n",
       "      <td>11.25810</td>\n",
       "      <td>11.26397</td>\n",
       "      <td>18.189894</td>\n",
       "      <td>4.264961</td>\n",
       "    </tr>\n",
       "    <tr>\n",
       "      <th>3</th>\n",
       "      <td>0.01</td>\n",
       "      <td>3.0</td>\n",
       "      <td>11.14569</td>\n",
       "      <td>11.15153</td>\n",
       "      <td>18.189894</td>\n",
       "      <td>4.264961</td>\n",
       "    </tr>\n",
       "    <tr>\n",
       "      <th>4</th>\n",
       "      <td>0.01</td>\n",
       "      <td>4.0</td>\n",
       "      <td>11.03441</td>\n",
       "      <td>11.04022</td>\n",
       "      <td>18.189894</td>\n",
       "      <td>4.264961</td>\n",
       "    </tr>\n",
       "    <tr>\n",
       "      <th>...</th>\n",
       "      <td>...</td>\n",
       "      <td>...</td>\n",
       "      <td>...</td>\n",
       "      <td>...</td>\n",
       "      <td>...</td>\n",
       "      <td>...</td>\n",
       "    </tr>\n",
       "    <tr>\n",
       "      <th>295</th>\n",
       "      <td>0.30</td>\n",
       "      <td>95.0</td>\n",
       "      <td>0.13553</td>\n",
       "      <td>0.22630</td>\n",
       "      <td>0.051119</td>\n",
       "      <td>0.226096</td>\n",
       "    </tr>\n",
       "    <tr>\n",
       "      <th>296</th>\n",
       "      <td>0.30</td>\n",
       "      <td>96.0</td>\n",
       "      <td>0.13458</td>\n",
       "      <td>0.22620</td>\n",
       "      <td>0.051119</td>\n",
       "      <td>0.226096</td>\n",
       "    </tr>\n",
       "    <tr>\n",
       "      <th>297</th>\n",
       "      <td>0.30</td>\n",
       "      <td>97.0</td>\n",
       "      <td>0.13372</td>\n",
       "      <td>0.22608</td>\n",
       "      <td>0.051119</td>\n",
       "      <td>0.226096</td>\n",
       "    </tr>\n",
       "    <tr>\n",
       "      <th>298</th>\n",
       "      <td>0.30</td>\n",
       "      <td>98.0</td>\n",
       "      <td>0.13344</td>\n",
       "      <td>0.22611</td>\n",
       "      <td>0.051119</td>\n",
       "      <td>0.226096</td>\n",
       "    </tr>\n",
       "    <tr>\n",
       "      <th>299</th>\n",
       "      <td>0.30</td>\n",
       "      <td>99.0</td>\n",
       "      <td>0.13299</td>\n",
       "      <td>0.22610</td>\n",
       "      <td>0.051119</td>\n",
       "      <td>0.226096</td>\n",
       "    </tr>\n",
       "  </tbody>\n",
       "</table>\n",
       "<p>300 rows × 6 columns</p>\n",
       "</div>"
      ],
      "text/plain": [
       "      eta   bos  train-rmse  val-rmse        mse    sqrmse\n",
       "0    0.01   0.0    11.48634  11.49225  18.189894  4.264961\n",
       "1    0.01   1.0    11.37165  11.37753  18.189894  4.264961\n",
       "2    0.01   2.0    11.25810  11.26397  18.189894  4.264961\n",
       "3    0.01   3.0    11.14569  11.15153  18.189894  4.264961\n",
       "4    0.01   4.0    11.03441  11.04022  18.189894  4.264961\n",
       "..    ...   ...         ...       ...        ...       ...\n",
       "295  0.30  95.0     0.13553   0.22630   0.051119  0.226096\n",
       "296  0.30  96.0     0.13458   0.22620   0.051119  0.226096\n",
       "297  0.30  97.0     0.13372   0.22608   0.051119  0.226096\n",
       "298  0.30  98.0     0.13344   0.22611   0.051119  0.226096\n",
       "299  0.30  99.0     0.13299   0.22610   0.051119  0.226096\n",
       "\n",
       "[300 rows x 6 columns]"
      ]
     },
     "execution_count": 107,
     "metadata": {},
     "output_type": "execute_result"
    }
   ],
   "source": [
    "dfrRes"
   ]
  },
  {
   "cell_type": "code",
   "execution_count": 108,
   "id": "c05c589d",
   "metadata": {},
   "outputs": [
    {
     "data": {
      "text/plain": [
       "<matplotlib.legend.Legend at 0x172d820d550>"
      ]
     },
     "execution_count": 108,
     "metadata": {},
     "output_type": "execute_result"
    },
    {
     "data": {
      "image/png": "[encoded data removed]",
      "text/plain": [
       "<Figure size 640x480 with 1 Axes>"
      ]
     },
     "metadata": {},
     "output_type": "display_data"
    }
   ],
   "source": [
    "for eta in lstEta:\n",
    "    dfrResEta = dfrRes[dfrRes.eta == eta]\n",
    "    plt.plot(dfrResEta.bos, dfrResEta['val-rmse'] , label = 'eta=%f' % eta )\n",
    "plt.legend()"
   ]
  },
  {
   "cell_type": "code",
   "execution_count": 109,
   "id": "0adec81e",
   "metadata": {},
   "outputs": [
    {
     "data": {
      "text/plain": [
       "<matplotlib.legend.Legend at 0x172d85bb490>"
      ]
     },
     "execution_count": 109,
     "metadata": {},
     "output_type": "execute_result"
    },
    {
     "data": {
      "image/png": "[encoded data removed]",
      "text/plain": [
       "<Figure size 640x480 with 1 Axes>"
      ]
     },
     "metadata": {},
     "output_type": "display_data"
    }
   ],
   "source": [
    "for eta in lstEta:\n",
    "    dfrResEta = dfrRes[dfrRes.eta == eta]\n",
    "    plt.plot(dfrResEta.bos, dfrResEta['val-rmse'] , label = 'eta=%f' % eta )\n",
    "plt.ylim(0.20, .28)\n",
    "plt.legend()"
   ]
  },
  {
   "cell_type": "markdown",
   "id": "8c9cfee1",
   "metadata": {},
   "source": [
    "# Q6: 0.3 is slightly better (and converge faster)"
   ]
  },
  {
   "cell_type": "code",
   "execution_count": null,
   "id": "9268df13",
   "metadata": {},
   "outputs": [],
   "source": []
  }
 ],
 "metadata": {
  "kernelspec": {
   "display_name": "Python 3 (ipykernel)",
   "language": "python",
   "name": "python3"
  },
  "language_info": {
   "codemirror_mode": {
    "name": "ipython",
    "version": 3
   },
   "file_extension": ".py",
   "mimetype": "text/x-python",
   "name": "python",
   "nbconvert_exporter": "python",
   "pygments_lexer": "ipython3",
   "version": "3.9.13"
  }
 },
 "nbformat": 4,
 "nbformat_minor": 5
}
